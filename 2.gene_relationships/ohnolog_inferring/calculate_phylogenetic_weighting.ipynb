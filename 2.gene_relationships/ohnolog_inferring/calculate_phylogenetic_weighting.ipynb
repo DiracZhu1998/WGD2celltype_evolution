{
 "cells": [
  {
   "cell_type": "code",
   "execution_count": 16,
   "id": "d785c2a4",
   "metadata": {},
   "outputs": [],
   "source": [
    "import numpy as np\n",
    "\n",
    "data = np.genfromtxt('SupplementaryTables.my.csv', delimiter=',', skip_header=1, dtype=float)"
   ]
  },
  {
   "cell_type": "code",
   "execution_count": 17,
   "id": "773eacc7",
   "metadata": {},
   "outputs": [],
   "source": [
    "m0 = np.nan_to_num(data)\n",
    "m = m0 + m0.T\n",
    "m = m - np.diag(m0.diagonal())"
   ]
  },
  {
   "cell_type": "code",
   "execution_count": 18,
   "id": "995bca7f",
   "metadata": {},
   "outputs": [],
   "source": [
    "def transform_matrix(matrix, diagonal_value=1, base=535):\n",
    "    transformed_matrix = np.copy(matrix)\n",
    "    size = matrix.shape[0]\n",
    "    \n",
    "    for i in range(size):\n",
    "        for j in range(size):\n",
    "            if i == j:\n",
    "                transformed_matrix[i, j] = diagonal_value\n",
    "            else:\n",
    "                transformed_matrix[i, j] = ((base - matrix[i, j])**2) / (base**2)\n",
    "    \n",
    "    return transformed_matrix\n",
    "\n",
    "# Apply the transformation\n",
    "sigma = transform_matrix(m)"
   ]
  },
  {
   "cell_type": "code",
   "execution_count": 19,
   "id": "9e7e5563",
   "metadata": {},
   "outputs": [],
   "source": [
    "sigma_inv = np.linalg.inv(sigma)\n",
    "ones = np.ones(sigma.shape[0])\n",
    "weights = np.dot(sigma_inv, ones)"
   ]
  },
  {
   "cell_type": "code",
   "execution_count": 20,
   "id": "d2927df6",
   "metadata": {},
   "outputs": [
    {
     "data": {
      "text/plain": [
       "3.4618863197957697"
      ]
     },
     "execution_count": 20,
     "metadata": {},
     "output_type": "execute_result"
    }
   ],
   "source": [
    "sum(weights)"
   ]
  },
  {
   "cell_type": "code",
   "execution_count": 21,
   "id": "244ae3bb",
   "metadata": {},
   "outputs": [
    {
     "name": "stdout",
     "output_type": "stream",
     "text": [
      "Human\t0.08154\n",
      "Western lowland gorilla\t0.08154\n",
      "Green monkey\t0.13827\n",
      "House mouse\t0.24425\n",
      "Domestic cat\t0.22117\n",
      "Horse\t0.22117\n",
      "Central bearded dragon\t0.64679\n",
      "Zebra finch\t0.36847\n",
      "Chicken\t0.23273\n",
      "Wild turkey\t0.23273\n",
      "sea lamprey\n",
      "\t0.99324\n"
     ]
    }
   ],
   "source": [
    "x = open('SupplementaryTables.my.csv')\n",
    "x = x.readlines()\n",
    "x = x[0].split(',')\n",
    "\n",
    "for i in range(len(weights)):\n",
    "    print(f'{x[i]}\\t{round(weights[i],5)}')"
   ]
  },
  {
   "cell_type": "code",
   "execution_count": null,
   "id": "35de9c2f",
   "metadata": {},
   "outputs": [],
   "source": []
  }
 ],
 "metadata": {
  "kernelspec": {
   "display_name": "Python [conda env:scpy39]",
   "language": "python",
   "name": "conda-env-scpy39-py"
  },
  "language_info": {
   "codemirror_mode": {
    "name": "ipython",
    "version": 3
   },
   "file_extension": ".py",
   "mimetype": "text/x-python",
   "name": "python",
   "nbconvert_exporter": "python",
   "pygments_lexer": "ipython3",
   "version": "3.9.18"
  }
 },
 "nbformat": 4,
 "nbformat_minor": 5
}
