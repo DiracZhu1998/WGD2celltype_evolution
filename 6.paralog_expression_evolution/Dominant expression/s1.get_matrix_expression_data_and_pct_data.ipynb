{
 "cells": [
  {
   "cell_type": "code",
   "execution_count": 1,
   "id": "cf28ea9b",
   "metadata": {},
   "outputs": [
    {
     "name": "stderr",
     "output_type": "stream",
     "text": [
      "Loading required package: Seurat\n",
      "\n",
      "Loading required package: SeuratObject\n",
      "\n",
      "Loading required package: sp\n",
      "\n",
      "\n",
      "Attaching package: ‘SeuratObject’\n",
      "\n",
      "\n",
      "The following object is masked from ‘package:base’:\n",
      "\n",
      "    intersect\n",
      "\n",
      "\n"
     ]
    }
   ],
   "source": [
    "# load package and function for getting matrix of pseudobulk expression level (exp) and percentage of expression (pct)\n",
    "require(Seurat)\n",
    "PercentAbove <- function(x, threshold) { return(length(x = x[x > threshold]) / length(x = x)) }\n",
    "get_pct_matrix <- function(object, vars, cells, group.by){\n",
    "    data.features <- FetchData(object = object, vars = vars, cells = cells)\n",
    "    data.features$id <- if (!is.null(x = group.by)) {\n",
    "        object[[group.by, drop = TRUE]][cells, drop = TRUE]\n",
    "    }\n",
    "    \n",
    "    res <- Reduce(rbind, lapply(X = unique(x = data.features$id), FUN = function(ident) {\n",
    "        data.use <- data.features[data.features$id == ident, 1:(ncol(x = data.features) - 1), drop = FALSE]\n",
    "        pct.exp <- apply(X = data.use, MARGIN = 2, FUN = PercentAbove, threshold = 0)\n",
    "        return(pct.exp)\n",
    "    }))\n",
    "    rownames(res) <- unique(data.features$id)\n",
    "    res <- t(res)\n",
    "    return(res)\n",
    "}"
   ]
  },
  {
   "cell_type": "code",
   "execution_count": 4,
   "id": "57937503",
   "metadata": {},
   "outputs": [
    {
     "name": "stderr",
     "output_type": "stream",
     "text": [
      "Warning message in asMethod(object):\n",
      "“sparse->dense coercion: allocating vector of size 7.6 GiB”\n"
     ]
    }
   ],
   "source": [
    "# for lamprey\n",
    "Pmar <- readRDS(\"/mnt/data01/yuanzhen/01.Vertebrate_cell_evo/01.data/02.atlas_final/2.samap/4.final/Pmar.wb.iter_cluster_annotated.rds\")\n",
    "Pmar_exp <- AverageExpression(object = Pmar, group.by = \"Refined family\")$RNA\n",
    "Pmar_pct <- get_pct_matrix(object = Pmar, vars = rownames(Pmar), cells=colnames(Pmar), group.by=\"Refined family\")\n",
    "saveRDS(Pmar_exp, \"0.bin/Pmar_exp.rds\")\n",
    "saveRDS(Pmar_pct, \"0.bin/Pmar_pct.rds\")\n",
    "rm(Pmar)"
   ]
  },
  {
   "cell_type": "code",
   "execution_count": 5,
   "id": "304b0caa",
   "metadata": {},
   "outputs": [
    {
     "name": "stderr",
     "output_type": "stream",
     "text": [
      "Warning message in asMethod(object):\n",
      "“sparse->dense coercion: allocating vector of size 28.1 GiB”\n"
     ]
    }
   ],
   "source": [
    "# for lizard, lizard atlas genes were NCBI version, need to be converted to Ensembl version\n",
    "Pvit <- readRDS(\"/mnt/data01/yuanzhen/01.Vertebrate_cell_evo/01.data/02.atlas_final/2.samap/4.final/Pvit.wb.iter_cluster_annotated.rds\")\n",
    "Pvit_exp <- AverageExpression(object = Pvit, group.by = \"Refined family\")$RNA\n",
    "Pvit_pct <- get_pct_matrix(object = Pvit, vars = rownames(Pvit), cells=colnames(Pvit), group.by=\"Refined family\")\n",
    "rm(Pvit)\n",
    "saveRDS(Pvit_exp, \"0.bin/Pvit_exp.rds\")\n",
    "saveRDS(Pvit_pct, \"0.bin/Pvit_pct.rds\")"
   ]
  },
  {
   "cell_type": "code",
   "execution_count": 7,
   "id": "36a2ebb8",
   "metadata": {},
   "outputs": [
    {
     "name": "stderr",
     "output_type": "stream",
     "text": [
      "Warning message in asMethod(object):\n",
      "“sparse->dense coercion: allocating vector of size 18.0 GiB”\n"
     ]
    }
   ],
   "source": [
    "# for mouse\n",
    "Mmus <- readRDS(\"/mnt/data01/yuanzhen/01.Vertebrate_cell_evo/01.data/02.atlas_final/2.samap/4.final/Mmus.wb.iter_cluster_annotated.rds\")\n",
    "Mmus_exp <- AverageExpression(object = Mmus, group.by = \"Refined family\")$RNA\n",
    "Mmus_pct <- get_pct_matrix(object = Mmus, vars = rownames(Mmus), cells=colnames(Mmus), group.by=\"Refined family\")\n",
    "rm(Mmus)\n",
    "saveRDS(Mmus_exp, \"0.bin/Mmus_exp.rds\")\n",
    "saveRDS(Mmus_pct, \"0.bin/Mmus_pct.rds\")"
   ]
  },
  {
   "cell_type": "code",
   "execution_count": 8,
   "id": "47ef5e65",
   "metadata": {},
   "outputs": [
    {
     "name": "stderr",
     "output_type": "stream",
     "text": [
      "Warning message in asMethod(object):\n",
      "“sparse->dense coercion: allocating vector of size 29.3 GiB”\n"
     ]
    }
   ],
   "source": [
    "# for human\n",
    "Hsap <- readRDS(\"/mnt/data01/yuanzhen/01.Vertebrate_cell_evo/01.data/02.atlas_final/2.samap/4.final/Hsap.wb.iter_cluster_annotated.rds\")\n",
    "Hsap_exp <- AverageExpression(object = Hsap, group.by = \"Refined family\")$RNA\n",
    "Hsap_pct <- get_pct_matrix(object = Hsap, vars = rownames(Hsap), cells=colnames(Hsap), group.by=\"Refined family\")\n",
    "rm(Hsap)\n",
    "\n",
    "saveRDS(Hsap_exp, \"0.bin/Hsap_exp.rds\")\n",
    "saveRDS(Hsap_pct, \"0.bin/Hsap_pct.rds\")"
   ]
  },
  {
   "cell_type": "code",
   "execution_count": null,
   "id": "5bec7e6a",
   "metadata": {},
   "outputs": [],
   "source": []
  },
  {
   "cell_type": "code",
   "execution_count": 9,
   "id": "6b69a2b4",
   "metadata": {},
   "outputs": [],
   "source": [
    "# for amphioxus, the contained rRNA and sRNA gene need to be removed\n",
    "IDs <- read.table('/mnt/data01/yuanzhen/01.Vertebrate_cell_evo/01.data/02.atlas/amphioxus/IDversion', header = T)\n",
    "# gene name change for amphioxus\n",
    "convert_IDs <- function(vectors){\n",
    "    vapply(vectors, FUN = function(x){\n",
    "               x = gsub('-', '_', x)\n",
    "               if (x %in% IDs$V1){\n",
    "                   return(IDs[IDs$V1 == x, \"V2\"])\n",
    "               }else{\n",
    "                   return(x)\n",
    "               }}, FUN.VALUE = character(1))\n",
    "}\n",
    "Bflo <- readRDS(\"/mnt/data01/yuanzhen/01.Vertebrate_cell_evo/01.data/02.atlas/amphioxus/T1_stage_subset.rds\")\n"
   ]
  },
  {
   "cell_type": "code",
   "execution_count": 10,
   "id": "c2968198",
   "metadata": {},
   "outputs": [
    {
     "name": "stderr",
     "output_type": "stream",
     "text": [
      "Names of identity class contain underscores ('_'), replacing with dashes ('-')\n",
      "\u001b[90mThis message is displayed once every 8 hours.\u001b[39m\n",
      "Warning message in asMethod(object):\n",
      "“sparse->dense coercion: allocating vector of size 1.4 GiB”\n"
     ]
    }
   ],
   "source": [
    "Bflo_exp <- AverageExpression(object = Bflo, group.by = \"celltype\")$RNA\n",
    "Bflo_pct <- get_pct_matrix(object = Bflo, vars = rownames(Bflo), cells=colnames(Bflo), group.by=\"celltype\")\n",
    "rm(Bflo)"
   ]
  },
  {
   "cell_type": "code",
   "execution_count": 11,
   "id": "22effb33",
   "metadata": {},
   "outputs": [],
   "source": [
    "rownames(Bflo_exp) <- convert_IDs(rownames(Bflo_exp))\n",
    "Bflo_exp <- Bflo_exp[!grepl(pattern = \"RNA\", rownames(Bflo_exp)),]\n",
    "rownames(Bflo_pct) <- convert_IDs(rownames(Bflo_pct))\n",
    "Bflo_pct <- Bflo_pct[!grepl(pattern = \"RNA\", rownames(Bflo_pct)),]"
   ]
  },
  {
   "cell_type": "code",
   "execution_count": 12,
   "id": "09fcca88",
   "metadata": {},
   "outputs": [],
   "source": [
    "saveRDS(Bflo_exp, \"0.bin/Bflo_T1_exp.rds\")\n",
    "saveRDS(Bflo_pct, \"0.bin/Bflo_T1_pct.rds\")"
   ]
  },
  {
   "cell_type": "code",
   "execution_count": null,
   "id": "8a4c620e",
   "metadata": {},
   "outputs": [],
   "source": []
  }
 ],
 "metadata": {
  "kernelspec": {
   "display_name": "R [conda env:sc]",
   "language": "R",
   "name": "conda-env-sc-r"
  },
  "language_info": {
   "codemirror_mode": "r",
   "file_extension": ".r",
   "mimetype": "text/x-r-source",
   "name": "R",
   "pygments_lexer": "r",
   "version": "4.3.2"
  }
 },
 "nbformat": 4,
 "nbformat_minor": 5
}
