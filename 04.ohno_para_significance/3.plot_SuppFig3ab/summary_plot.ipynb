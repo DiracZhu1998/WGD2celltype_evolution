{
 "cells": [
  {
   "cell_type": "code",
   "execution_count": 8,
   "id": "2bcdf4da",
   "metadata": {},
   "outputs": [],
   "source": [
    "suppressPackageStartupMessages({\n",
    "    library(ggplot2)\n",
    "    library(ggpubr)\n",
    "})\n",
    "\n",
    "path <- \"./\""
   ]
  },
  {
   "cell_type": "code",
   "execution_count": 9,
   "id": "f970cea2",
   "metadata": {},
   "outputs": [],
   "source": [
    "species <- c(\"Hsap_lung\", \"Hsap_eye\")\n",
    "\n",
    "get_OR <- function(species, type){\n",
    "    df <- Reduce(rbind, lapply(species, FUN = function(s){\n",
    "        wgd <- read.delim(paste0(path, s, \"/\", s, \".ohnolog_DEGs.fisher.celltype.txt\"), header = T)\n",
    "        ssd <- read.delim(paste0(path, s, \"/\", s, \".SSDparalog_DEGs.fisher.celltype.txt\"), header = T)\n",
    "        \n",
    "        wgd$type <- \"WGD\"\n",
    "        ssd$type <- \"SSD\"\n",
    "    \n",
    "        OR_info <- rbind(wgd, ssd)\n",
    "        OR_info$species <- s\n",
    "        return(OR_info)\n",
    "    }))\n",
    "    my_comparisons <- list(c(\"WGD\", \"SSD\"))\n",
    "    p <- ggboxplot(df, x = \"type\", y = \"OR\", color = \"type\", palette = \"jco\") + \n",
    "        stat_compare_means(comparisons = my_comparisons, method = \"wilcox.test\", paired = TRUE, label = \"p.signif\") + \n",
    "        stat_summary(fun = \"median\", geom = \"text\", aes(label = round(after_stat(y), 3)), vjust = -1) + \n",
    "        facet_wrap(~species, nrow = 1) + \n",
    "        theme(axis.text.x = element_text(angle = 90, vjust = 0.5, hjust=1))\n",
    "    ggsave(filename = paste0(\"OR.cell_family.summary.\", type, \".pdf\"), p, width = 4, height = 7)\n",
    "}\n"
   ]
  },
  {
   "cell_type": "code",
   "execution_count": 10,
   "id": "5b0c2036",
   "metadata": {},
   "outputs": [],
   "source": [
    "get_OR(species, \"wilcox\")"
   ]
  },
  {
   "cell_type": "code",
   "execution_count": 11,
   "id": "fd9867d0",
   "metadata": {},
   "outputs": [],
   "source": [
    "species <- c(\"Hsap_lung\", \"Hsap_eye\")\n",
    "\n",
    "get_ratio <- function(species, type){\n",
    "    df <- Reduce(rbind, lapply(species, FUN = function(s){\n",
    "        wgd <- read.delim(paste0(path, s, \"/\", s, \".ohnolog_ratio_inDEGs.stats.txt\"), header = T)\n",
    "        ssd <- read.delim(paste0(path, s, \"/\", s, \".SSDparalog_ratio_inDEGs.stats.txt\"), header = T)\n",
    "    \n",
    "        wgd$type <- \"WGD\"\n",
    "        ssd$type <- \"SSD\"\n",
    "        colnames(wgd) <- colnames(ssd)\n",
    "    \n",
    "        info <- rbind(wgd, ssd)\n",
    "        info$species <- s\n",
    "        return(info)\n",
    "    \n",
    "    }))\n",
    "\n",
    "    \n",
    "    ratio_bg <- Reduce(rbind, lapply(species, FUN = function(s){\n",
    "        tmp <- read.delim(paste0(path, s, \"/\", s, \".ratio_bg.txt\"), header = F)\n",
    "        tmp <- tmp[tmp$V1 %in% c(\"ohnologs\", \"SSDparalogs\"), ]\n",
    "        tmp[tmp$V1 == \"SSDparalogs\", \"V1\"] <- \"SSD\"\n",
    "        tmp[tmp$V1 == \"ohnologs\", \"V1\"] <- \"WGD\"\n",
    "        tmp$species <- s\n",
    "        return(tmp)\n",
    "    }))\n",
    "    colnames(ratio_bg) <- c(\"type\", \"bg\", \"species\")\n",
    "    \n",
    "    df <- merge(df, ratio_bg, by = c(\"species\",\"type\"))\n",
    "    df$type <- factor(df$type, levels = c(\"WGD\", \"SSD\"))\n",
    "    p <- ggboxplot(df, x = \"type\", y = \"paralogs.\", color = \"type\", palette = \"jco\") + \n",
    "        stat_summary(fun = \"median\", geom = \"text\", aes(label = round(after_stat(y), 3)), vjust = -1) + \n",
    "        geom_hline(aes(yintercept = bg, color = type), linetype = \"dashed\") +\n",
    "        facet_wrap(~species, nrow = 1) + \n",
    "        theme(axis.text.x = element_text(angle = 90, vjust = 0.5, hjust = 1))\n",
    "    ggsave(filename = paste0(\"paralog_ratio.cell_family.summary.\", type, \".pdf\"),p , width = 4, height = 7)\n",
    "}\n"
   ]
  },
  {
   "cell_type": "code",
   "execution_count": 12,
   "id": "6a347933",
   "metadata": {},
   "outputs": [],
   "source": [
    "get_ratio(species, \"wilcox\")"
   ]
  },
  {
   "cell_type": "code",
   "execution_count": null,
   "id": "09faee15",
   "metadata": {},
   "outputs": [],
   "source": []
  }
 ],
 "metadata": {
  "kernelspec": {
   "display_name": "R [conda env:sc]",
   "language": "R",
   "name": "conda-env-sc-r"
  },
  "language_info": {
   "codemirror_mode": "r",
   "file_extension": ".r",
   "mimetype": "text/x-r-source",
   "name": "R",
   "pygments_lexer": "r",
   "version": "4.3.2"
  }
 },
 "nbformat": 4,
 "nbformat_minor": 5
}
