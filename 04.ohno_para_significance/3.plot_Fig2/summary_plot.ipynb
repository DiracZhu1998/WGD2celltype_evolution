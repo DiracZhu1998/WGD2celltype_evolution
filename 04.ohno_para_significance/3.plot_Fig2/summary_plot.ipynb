{
 "cells": [
  {
   "cell_type": "code",
   "execution_count": 1,
   "id": "2bcdf4da",
   "metadata": {},
   "outputs": [],
   "source": [
    "suppressPackageStartupMessages({\n",
    "    library(ggplot2)\n",
    "    library(ggpubr)\n",
    "})\n",
    "\n",
    "path <- \"../2.current_version/\""
   ]
  },
  {
   "cell_type": "code",
   "execution_count": 2,
   "id": "f970cea2",
   "metadata": {},
   "outputs": [],
   "source": [
    "species <- c(\"Hsap\",\"Mmus\",\"Pvit\",\"Pmar\")\n",
    "\n",
    "get_OR <- function(species, type){\n",
    "    df <- Reduce(rbind, lapply(species, FUN = function(s){\n",
    "        wgd <- read.delim(paste0(path, s, \"/\", type ,\"/\", s, \".ohnolog_DEGs.fisher.celltype.txt\"), header = T)\n",
    "        ssd <- read.delim(paste0(path, s, \"/\", type ,\"/\", s, \".SSDparalog_DEGs.fisher.celltype.txt\"), header = T)\n",
    "        \n",
    "        wgd$type <- \"WGD\"\n",
    "        ssd$type <- \"SSD\"\n",
    "    \n",
    "        OR_info <- rbind(wgd, ssd)\n",
    "        OR_info$species <- s\n",
    "        return(OR_info)\n",
    "    }))\n",
    "    \n",
    "    s = \"Bflo\"\n",
    "    pa <- read.delim(paste0(\"../1.old_versions/2.my_version.v1/\", s, \"/\", type ,\"/\", s, \"_T1.paralog_DEGs.fisher.celltype.txt\"), header = T)\n",
    "    pa$type <- \"SSD\"\n",
    "    pa$species <- \"Bflo\"\n",
    "    \n",
    "    df <- rbind(df, pa)\n",
    "    df$species <- factor(df$species, levels = c(\"Hsap\",\"Mmus\",\"Pvit\",\"Pmar\", \"Bflo\"))\n",
    "    \n",
    "    my_comparisons <- list(c(\"WGD\", \"SSD\"))\n",
    "    p <- ggboxplot(df, x = \"type\", y = \"OR\", color = \"type\", palette = \"jco\") + \n",
    "        stat_compare_means(comparisons = my_comparisons, method = \"wilcox.test\", paired = TRUE, label = \"p.signif\") + \n",
    "        stat_summary(fun = \"median\", geom = \"text\", aes(label = round(after_stat(y), 3)), vjust = -1) + \n",
    "        facet_wrap(~species, nrow = 1) + \n",
    "        theme(axis.text.x = element_text(angle = 90, vjust = 0.5, hjust=1))\n",
    "    ggsave(filename = paste0(\"OR.cell_family.summary.\", type, \".pdf\"), p, width = 5, height = 7)\n",
    "}\n"
   ]
  },
  {
   "cell_type": "code",
   "execution_count": 3,
   "id": "5b0c2036",
   "metadata": {},
   "outputs": [],
   "source": [
    "get_OR(species, \"wilcox\")\n",
    "get_OR(species, \"roc\")"
   ]
  },
  {
   "cell_type": "code",
   "execution_count": 4,
   "id": "fd9867d0",
   "metadata": {},
   "outputs": [],
   "source": [
    "species <- c(\"Hsap\",\"Mmus\",\"Pvit\",\"Pmar\")\n",
    "\n",
    "get_ratio <- function(species, type){\n",
    "    df <- Reduce(rbind, lapply(species, FUN = function(s){\n",
    "        wgd <- read.delim(paste0(path, s, \"/\", type ,\"/\", s, \".ohnolog_ratio_inDEGs.stats.txt\"), header = T)\n",
    "        ssd <- read.delim(paste0(path, s, \"/\", type ,\"/\", s, \".SSDparalog_ratio_inDEGs.stats.txt\"), header = T)\n",
    "    \n",
    "        wgd$type <- \"WGD\"\n",
    "        ssd$type <- \"SSD\"\n",
    "        colnames(wgd) <- colnames(ssd)\n",
    "    \n",
    "        info <- rbind(wgd, ssd)\n",
    "        info$species <- s\n",
    "        return(info)\n",
    "    \n",
    "    }))\n",
    "\n",
    "    s = \"Bflo\"\n",
    "    pa <- read.delim(paste0(\"../1.old_versions/2.my_version.v1/\", s, \"/\", type ,\"/\", s, \"_T1.paralog_ratio_inDEGs.stats.txt\"), header = T)\n",
    "    pa$type <- \"SSD\"\n",
    "    pa$species <- \"Bflo\"\n",
    "\n",
    "    df <- rbind(df, pa)\n",
    "    df$species <- factor(df$species, levels = c(\"Hsap\",\"Mmus\",\"Pvit\",\"Pmar\", \"Bflo\"))\n",
    "    \n",
    "    species <- c(\"Hsap\",\"Mmus\",\"Pvit\",\"Pmar\", \"Bflo\")\n",
    "\n",
    "    ratio_bg <- Reduce(rbind, lapply(species, FUN = function(s){\n",
    "        if (s == \"Bflo\"){\n",
    "            tmp <- read.delim(paste0(\"../1.old_versions/2.my_version.v1/\", s, \"/\", type ,\"/\", s, \"_T1.ratio_bg.txt\"), header = F)\n",
    "            tmp$V1 <- \"SSD\"\n",
    "        } else {\n",
    "            tmp <- read.delim(paste0(path, s, \"/\", type ,\"/\", s, \".ratio_bg.txt\"), header = F)\n",
    "            tmp <- tmp[tmp$V1 %in% c(\"ohnologs\", \"SSDparalogs\"), ]\n",
    "            tmp[tmp$V1 == \"SSDparalogs\", \"V1\"] <- \"SSD\"\n",
    "            tmp[tmp$V1 == \"ohnologs\", \"V1\"] <- \"WGD\"\n",
    "        }\n",
    "        tmp$species <- s\n",
    "        return(tmp)\n",
    "    }))\n",
    "    colnames(ratio_bg) <- c(\"type\", \"bg\", \"species\")\n",
    "    \n",
    "    df <- merge(df, ratio_bg, by = c(\"species\",\"type\"))\n",
    "    df$type <- factor(df$type, levels = c(\"WGD\", \"SSD\"))\n",
    "    \n",
    "    p <- ggboxplot(df, x = \"type\", y = \"paralogs.\", color = \"type\", palette = \"jco\") + \n",
    "        stat_summary(fun = \"median\", geom = \"text\", aes(label = round(after_stat(y), 3)), vjust = -1) + \n",
    "        geom_hline(aes(yintercept = bg, color = type), linetype = \"dashed\") +\n",
    "        facet_wrap(~species, nrow = 1) + \n",
    "        theme(axis.text.x = element_text(angle = 90, vjust = 0.5, hjust = 1))\n",
    "    ggsave(filename = paste0(\"paralog_ratio.cell_family.summary.\", type, \".pdf\"),p , width = 5, height = 7)\n",
    "}\n"
   ]
  },
  {
   "cell_type": "code",
   "execution_count": 5,
   "id": "6a347933",
   "metadata": {},
   "outputs": [],
   "source": [
    "get_ratio(species, \"wilcox\")\n",
    "get_ratio(species, \"roc\")"
   ]
  },
  {
   "cell_type": "code",
   "execution_count": 6,
   "id": "9bdad7ac",
   "metadata": {},
   "outputs": [],
   "source": [
    "# plot family/number of paralogs ratio\n",
    "species <- c(\"Hsap\",\"Mmus\",\"Pvit\",\"Pmar\")\n",
    "\n",
    "get_fa_ratio <- function(species, type){\n",
    "    df <- Reduce(rbind, lapply(species, FUN = function(s){\n",
    "        wgd <- read.delim(paste0(path, s, \"/\", type ,\"/\", s, \".ohnolog_ratio_inDEGs.stats.txt\"), header = T)\n",
    "        ssd <- read.delim(paste0(path, s, \"/\", type ,\"/\", s, \".SSDparalog_ratio_inDEGs.stats.txt\"), header = T)\n",
    "    \n",
    "        wgd$type <- \"WGD\"\n",
    "        ssd$type <- \"SSD\"\n",
    "        colnames(wgd) <- colnames(ssd)\n",
    "    \n",
    "        info <- rbind(wgd, ssd)\n",
    "        info$species <- s\n",
    "        return(info)\n",
    "    \n",
    "    }))\n",
    "\n",
    "    s = \"Bflo\"\n",
    "    pa <- read.delim(paste0(\"../1.old_versions/2.my_version.v1/\", s, \"/\", type ,\"/\", s, \"_T1.paralog_ratio_inDEGs.stats.txt\"), header = T)\n",
    "    pa$type <- \"SSD\"\n",
    "    pa$species <- \"Bflo\"\n",
    "\n",
    "    df <- rbind(df, pa)\n",
    "    df$species <- factor(df$species, levels = c(\"Hsap\",\"Mmus\",\"Pvit\",\"Pmar\", \"Bflo\"))\n",
    "    \n",
    "    species <- c(\"Hsap\",\"Mmus\",\"Pvit\",\"Pmar\", \"Bflo\")\n",
    "\n",
    "    ratio_bg <- Reduce(rbind, lapply(species, FUN = function(s){\n",
    "        if (s == \"Bflo\"){\n",
    "            tmp <- read.delim(paste0(\"../1.old_versions/2.my_version.v1/\", s, \"/\", type ,\"/\", s, \"_T1.family_ratio_bg.txt\"), header = F)\n",
    "            tmp$V1 <- \"SSD\"\n",
    "        } else {\n",
    "            tmp <- read.delim(paste0(path, s, \"/\", type ,\"/\", s, \".family_ratio_bg.txt\"), header = F)\n",
    "            tmp <- tmp[tmp$V1 %in% c(\"ohnologs\", \"SSDparalogs\"), ]\n",
    "            tmp[tmp$V1 == \"SSDparalogs\", \"V1\"] <- \"SSD\"\n",
    "            tmp[tmp$V1 == \"ohnologs\", \"V1\"] <- \"WGD\"\n",
    "        }\n",
    "        tmp$species <- s\n",
    "        return(tmp)\n",
    "    }))\n",
    "    colnames(ratio_bg) <- c(\"type\", \"bg\", \"species\")\n",
    "    \n",
    "    df <- merge(df, ratio_bg, by = c(\"species\",\"type\"))\n",
    "    df$type <- factor(df$type, levels = c(\"WGD\", \"SSD\"))\n",
    "    \n",
    "    p <- ggboxplot(df, x = \"type\", y = \"families_divided_by_paralogs.\", color = \"type\", palette = \"jco\") + \n",
    "        stat_summary(fun = \"median\", geom = \"text\", aes(label = round(after_stat(y), 3)), vjust = -1) + \n",
    "        geom_hline(aes(yintercept = bg, color = type), linetype = \"dashed\") +\n",
    "        facet_wrap(~species, nrow = 1) + \n",
    "        theme(axis.text.x = element_text(angle = 90, vjust = 0.5, hjust = 1))\n",
    "    ggsave(filename = paste0(\"paralog_family_ratio.switching_within_species.cell_family.summary.\", type, \".pdf\"),p , width = 5, height = 7)\n",
    "}"
   ]
  },
  {
   "cell_type": "code",
   "execution_count": 7,
   "id": "87f47194",
   "metadata": {},
   "outputs": [
    {
     "name": "stderr",
     "output_type": "stream",
     "text": [
      "Warning message:\n",
      "“\u001b[1m\u001b[22mRemoved 5 rows containing non-finite outside the scale range\n",
      "(`stat_boxplot()`).”\n",
      "Warning message:\n",
      "“\u001b[1m\u001b[22mRemoved 5 rows containing non-finite outside the scale range\n",
      "(`stat_summary()`).”\n"
     ]
    }
   ],
   "source": [
    "get_fa_ratio(species, \"wilcox\")\n",
    "get_fa_ratio(species, \"roc\")"
   ]
  },
  {
   "cell_type": "code",
   "execution_count": null,
   "id": "21694928",
   "metadata": {},
   "outputs": [],
   "source": [
    "# one sample t-test p-values were computed below and added to plots\n"
   ]
  },
  {
   "cell_type": "code",
   "execution_count": 6,
   "id": "4f74d28a",
   "metadata": {},
   "outputs": [
    {
     "data": {
      "text/html": [
       "<table class=\"dataframe\">\n",
       "<caption>A data.frame: 9 × 3</caption>\n",
       "<thead>\n",
       "\t<tr><th></th><th scope=col>type</th><th scope=col>bg</th><th scope=col>species</th></tr>\n",
       "\t<tr><th></th><th scope=col>&lt;chr&gt;</th><th scope=col>&lt;dbl&gt;</th><th scope=col>&lt;chr&gt;</th></tr>\n",
       "</thead>\n",
       "<tbody>\n",
       "\t<tr><th scope=row>1</th><td>WGD</td><td>0.26</td><td>Hsap</td></tr>\n",
       "\t<tr><th scope=row>2</th><td>SSD</td><td>0.35</td><td>Hsap</td></tr>\n",
       "\t<tr><th scope=row>12</th><td>WGD</td><td>0.26</td><td>Mmus</td></tr>\n",
       "\t<tr><th scope=row>21</th><td>SSD</td><td>0.31</td><td>Mmus</td></tr>\n",
       "\t<tr><th scope=row>15</th><td>SSD</td><td>0.28</td><td>Pvit</td></tr>\n",
       "\t<tr><th scope=row>22</th><td>WGD</td><td>0.29</td><td>Pvit</td></tr>\n",
       "\t<tr><th scope=row>16</th><td>WGD</td><td>0.18</td><td>Pmar</td></tr>\n",
       "\t<tr><th scope=row>23</th><td>SSD</td><td>0.29</td><td>Pmar</td></tr>\n",
       "\t<tr><th scope=row>17</th><td>SSD</td><td>0.44</td><td>Bflo</td></tr>\n",
       "</tbody>\n",
       "</table>\n"
      ],
      "text/latex": [
       "A data.frame: 9 × 3\n",
       "\\begin{tabular}{r|lll}\n",
       "  & type & bg & species\\\\\n",
       "  & <chr> & <dbl> & <chr>\\\\\n",
       "\\hline\n",
       "\t1 & WGD & 0.26 & Hsap\\\\\n",
       "\t2 & SSD & 0.35 & Hsap\\\\\n",
       "\t12 & WGD & 0.26 & Mmus\\\\\n",
       "\t21 & SSD & 0.31 & Mmus\\\\\n",
       "\t15 & SSD & 0.28 & Pvit\\\\\n",
       "\t22 & WGD & 0.29 & Pvit\\\\\n",
       "\t16 & WGD & 0.18 & Pmar\\\\\n",
       "\t23 & SSD & 0.29 & Pmar\\\\\n",
       "\t17 & SSD & 0.44 & Bflo\\\\\n",
       "\\end{tabular}\n"
      ],
      "text/markdown": [
       "\n",
       "A data.frame: 9 × 3\n",
       "\n",
       "| <!--/--> | type &lt;chr&gt; | bg &lt;dbl&gt; | species &lt;chr&gt; |\n",
       "|---|---|---|---|\n",
       "| 1 | WGD | 0.26 | Hsap |\n",
       "| 2 | SSD | 0.35 | Hsap |\n",
       "| 12 | WGD | 0.26 | Mmus |\n",
       "| 21 | SSD | 0.31 | Mmus |\n",
       "| 15 | SSD | 0.28 | Pvit |\n",
       "| 22 | WGD | 0.29 | Pvit |\n",
       "| 16 | WGD | 0.18 | Pmar |\n",
       "| 23 | SSD | 0.29 | Pmar |\n",
       "| 17 | SSD | 0.44 | Bflo |\n",
       "\n"
      ],
      "text/plain": [
       "   type bg   species\n",
       "1  WGD  0.26 Hsap   \n",
       "2  SSD  0.35 Hsap   \n",
       "12 WGD  0.26 Mmus   \n",
       "21 SSD  0.31 Mmus   \n",
       "15 SSD  0.28 Pvit   \n",
       "22 WGD  0.29 Pvit   \n",
       "16 WGD  0.18 Pmar   \n",
       "23 SSD  0.29 Pmar   \n",
       "17 SSD  0.44 Bflo   "
      ]
     },
     "metadata": {},
     "output_type": "display_data"
    }
   ],
   "source": [
    "unique(ratio_bg)"
   ]
  },
  {
   "cell_type": "code",
   "execution_count": 14,
   "id": "d205dade",
   "metadata": {},
   "outputs": [
    {
     "data": {
      "text/plain": [
       "\n",
       "\tOne Sample t-test\n",
       "\n",
       "data:  df[df$type == \"SSD\" & df$species == \"Bflo\", \"paralogs.\"]\n",
       "t = -8.6739, df = 53, p-value = 9.531e-12\n",
       "alternative hypothesis: true mean is not equal to 0.44\n",
       "95 percent confidence interval:\n",
       " 0.3121751 0.3601888\n",
       "sample estimates:\n",
       "mean of x \n",
       " 0.336182 \n"
      ]
     },
     "metadata": {},
     "output_type": "display_data"
    },
    {
     "data": {
      "text/plain": [
       "\n",
       "\tOne Sample t-test\n",
       "\n",
       "data:  df[df$type == \"SSD\" & df$species == \"Pmar\", \"paralogs.\"]\n",
       "t = -13.837, df = 89, p-value < 2.2e-16\n",
       "alternative hypothesis: true mean is not equal to 0.29\n",
       "95 percent confidence interval:\n",
       " 0.2567284 0.2650842\n",
       "sample estimates:\n",
       "mean of x \n",
       "0.2609063 \n"
      ]
     },
     "metadata": {},
     "output_type": "display_data"
    },
    {
     "data": {
      "text/plain": [
       "\n",
       "\tOne Sample t-test\n",
       "\n",
       "data:  df[df$type == \"SSD\" & df$species == \"Pvit\", \"paralogs.\"]\n",
       "t = -5.4552, df = 84, p-value = 4.84e-07\n",
       "alternative hypothesis: true mean is not equal to 0.28\n",
       "95 percent confidence interval:\n",
       " 0.2401816 0.2614566\n",
       "sample estimates:\n",
       "mean of x \n",
       "0.2508191 \n"
      ]
     },
     "metadata": {},
     "output_type": "display_data"
    },
    {
     "data": {
      "text/plain": [
       "\n",
       "\tOne Sample t-test\n",
       "\n",
       "data:  df[df$type == \"SSD\" & df$species == \"Mmus\", \"paralogs.\"]\n",
       "t = 0.52207, df = 109, p-value = 0.6027\n",
       "alternative hypothesis: true mean is not equal to 0.31\n",
       "95 percent confidence interval:\n",
       " 0.3039144 0.3204382\n",
       "sample estimates:\n",
       "mean of x \n",
       "0.3121763 \n"
      ]
     },
     "metadata": {},
     "output_type": "display_data"
    },
    {
     "data": {
      "text/plain": [
       "\n",
       "\tOne Sample t-test\n",
       "\n",
       "data:  df[df$type == \"SSD\" & df$species == \"Hsap\", \"paralogs.\"]\n",
       "t = -4.9783, df = 84, p-value = 3.374e-06\n",
       "alternative hypothesis: true mean is not equal to 0.35\n",
       "95 percent confidence interval:\n",
       " 0.3178254 0.3361930\n",
       "sample estimates:\n",
       "mean of x \n",
       "0.3270092 \n"
      ]
     },
     "metadata": {},
     "output_type": "display_data"
    }
   ],
   "source": [
    "t.test(df[df$type == 'SSD' & df$species == 'Bflo', 'paralogs.'], mu = 0.44, alternative = \"two.sided\")\n",
    "t.test(df[df$type == 'SSD' & df$species == 'Pmar', 'paralogs.'], mu = 0.29, alternative = \"two.sided\")\n",
    "t.test(df[df$type == 'SSD' & df$species == 'Pvit', 'paralogs.'], mu = 0.28, alternative = \"two.sided\")\n",
    "t.test(df[df$type == 'SSD' & df$species == 'Mmus', 'paralogs.'], mu = 0.31, alternative = \"two.sided\")\n",
    "t.test(df[df$type == 'SSD' & df$species == 'Hsap', 'paralogs.'], mu = 0.35, alternative = \"two.sided\")"
   ]
  },
  {
   "cell_type": "code",
   "execution_count": 15,
   "id": "fa5f9b31",
   "metadata": {},
   "outputs": [
    {
     "data": {
      "text/plain": [
       "\n",
       "\tOne Sample t-test\n",
       "\n",
       "data:  df[df$type == \"WGD\" & df$species == \"Pmar\", \"paralogs.\"]\n",
       "t = 33.888, df = 89, p-value < 2.2e-16\n",
       "alternative hypothesis: true mean is not equal to 0.18\n",
       "95 percent confidence interval:\n",
       " 0.3436814 0.3640714\n",
       "sample estimates:\n",
       "mean of x \n",
       "0.3538764 \n"
      ]
     },
     "metadata": {},
     "output_type": "display_data"
    },
    {
     "data": {
      "text/plain": [
       "\n",
       "\tOne Sample t-test\n",
       "\n",
       "data:  df[df$type == \"WGD\" & df$species == \"Pvit\", \"paralogs.\"]\n",
       "t = 11.272, df = 84, p-value < 2.2e-16\n",
       "alternative hypothesis: true mean is not equal to 0.29\n",
       "95 percent confidence interval:\n",
       " 0.4092496 0.4603384\n",
       "sample estimates:\n",
       "mean of x \n",
       " 0.434794 \n"
      ]
     },
     "metadata": {},
     "output_type": "display_data"
    },
    {
     "data": {
      "text/plain": [
       "\n",
       "\tOne Sample t-test\n",
       "\n",
       "data:  df[df$type == \"WGD\" & df$species == \"Mmus\", \"paralogs.\"]\n",
       "t = 16.888, df = 109, p-value < 2.2e-16\n",
       "alternative hypothesis: true mean is not equal to 0.26\n",
       "95 percent confidence interval:\n",
       " 0.3501383 0.3741079\n",
       "sample estimates:\n",
       "mean of x \n",
       "0.3621231 \n"
      ]
     },
     "metadata": {},
     "output_type": "display_data"
    },
    {
     "data": {
      "text/plain": [
       "\n",
       "\tOne Sample t-test\n",
       "\n",
       "data:  df[df$type == \"WGD\" & df$species == \"Hsap\", \"paralogs.\"]\n",
       "t = 16.95, df = 84, p-value < 2.2e-16\n",
       "alternative hypothesis: true mean is not equal to 0.26\n",
       "95 percent confidence interval:\n",
       " 0.3779659 0.4093260\n",
       "sample estimates:\n",
       "mean of x \n",
       " 0.393646 \n"
      ]
     },
     "metadata": {},
     "output_type": "display_data"
    }
   ],
   "source": [
    "t.test(df[df$type == 'WGD' & df$species == 'Pmar', 'paralogs.'], mu = 0.18, alternative = \"two.sided\")\n",
    "t.test(df[df$type == 'WGD' & df$species == 'Pvit', 'paralogs.'], mu = 0.29, alternative = \"two.sided\")\n",
    "t.test(df[df$type == 'WGD' & df$species == 'Mmus', 'paralogs.'], mu = 0.26, alternative = \"two.sided\")\n",
    "t.test(df[df$type == 'WGD' & df$species == 'Hsap', 'paralogs.'], mu = 0.26, alternative = \"two.sided\")"
   ]
  },
  {
   "cell_type": "code",
   "execution_count": null,
   "id": "92391235",
   "metadata": {},
   "outputs": [],
   "source": []
  }
 ],
 "metadata": {
  "kernelspec": {
   "display_name": "R [conda env:sc]",
   "language": "R",
   "name": "conda-env-sc-r"
  },
  "language_info": {
   "codemirror_mode": "r",
   "file_extension": ".r",
   "mimetype": "text/x-r-source",
   "name": "R",
   "pygments_lexer": "r",
   "version": "4.3.2"
  }
 },
 "nbformat": 4,
 "nbformat_minor": 5
}
