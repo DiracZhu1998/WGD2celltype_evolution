{
 "cells": [
  {
   "cell_type": "code",
   "execution_count": 3,
   "id": "9f88e75a",
   "metadata": {},
   "outputs": [],
   "source": [
    "require(Seurat)"
   ]
  },
  {
   "cell_type": "code",
   "execution_count": 4,
   "id": "98a1567d",
   "metadata": {},
   "outputs": [],
   "source": [
    "# for lamprey\n",
    "Pmar <- readRDS(\"/mnt/data01/yuanzhen/01.Vertebrate_cell_evo/01.data/02.atlas_final/2.samap/4.final/Pmar.wb.iter_cluster_annotated.rds\")\n",
    "write.table(rownames(Pmar), file = \"/mnt/data01/yuanzhen/01.Vertebrate_cell_evo/04.ohno_para_significance/0bin/Pmar_background_genes.txt\", \n",
    "            col.names = F, row.names = F, quote = F)\n",
    "rm(Pmar)"
   ]
  },
  {
   "cell_type": "code",
   "execution_count": 5,
   "id": "34a02a2a",
   "metadata": {},
   "outputs": [],
   "source": [
    "# for lizard\n",
    "Pvit <- readRDS(\"/mnt/data01/yuanzhen/01.Vertebrate_cell_evo/01.data/02.atlas_final/2.samap/4.final/Pvit.wb.iter_cluster_annotated.rds\")\n",
    "write.table(rownames(Pvit), file = \"/mnt/data01/yuanzhen/01.Vertebrate_cell_evo/04.ohno_para_significance/0bin/Pvit_background_genes.txt\", \n",
    "            col.names = F, row.names = F, quote = F)\n",
    "rm(Pvit)"
   ]
  },
  {
   "cell_type": "code",
   "execution_count": 6,
   "id": "4b831744",
   "metadata": {},
   "outputs": [],
   "source": [
    "# for mouse\n",
    "Mmus <- readRDS(\"/mnt/data01/yuanzhen/01.Vertebrate_cell_evo/01.data/02.atlas_final/2.samap/4.final/Mmus.wb.iter_cluster_annotated.rds\")\n",
    "write.table(rownames(Mmus), file = \"/mnt/data01/yuanzhen/01.Vertebrate_cell_evo/04.ohno_para_significance/0bin/Mmus_background_genes.txt\", \n",
    "            col.names = F, row.names = F, quote = F)\n",
    "rm(Mmus)"
   ]
  },
  {
   "cell_type": "code",
   "execution_count": 7,
   "id": "9c579976",
   "metadata": {},
   "outputs": [],
   "source": [
    "# for human\n",
    "Hsap <- readRDS(\"/mnt/data01/yuanzhen/01.Vertebrate_cell_evo/01.data/02.atlas_final//2.samap/4.final/Hsap.wb.iter_cluster_annotated.rds\")\n",
    "write.table(rownames(Hsap), file = \"/mnt/data01/yuanzhen/01.Vertebrate_cell_evo/04.ohno_para_significance/0bin/Hsap_background_genes.txt\", col.names = F, row.names = F, quote = F)\n",
    "rm(Hsap)"
   ]
  },
  {
   "cell_type": "code",
   "execution_count": 7,
   "id": "ca12215d",
   "metadata": {},
   "outputs": [],
   "source": [
    "# for amphioxus, contain rRNA and sRNA gene need to be removed\n",
    "IDs <- read.table('/mnt/data01/yuanzhen/01.Vertebrate_cell_evo/01.data/02.atlas/amphioxus/IDversion', header = T)\n",
    "# gene name change for amphioxus\n",
    "convert_IDs <- function(vectors){\n",
    "    vapply(vectors, FUN = function(x){\n",
    "               x = gsub('-', '_', x)\n",
    "               if (x %in% IDs$V1){\n",
    "                   return(IDs[IDs$V1 == x, \"V2\"])\n",
    "               }else{\n",
    "                   return(x)\n",
    "               }}, FUN.VALUE = character(1))\n",
    "}\n",
    "Bflo <- readRDS(\"/mnt/data01/yuanzhen/01.Vertebrate_cell_evo/01.data/02.atlas/amphioxus/T1_stage_subset.rds\")\n",
    "Bflo_bg <- convert_IDs(rownames(Bflo))\n",
    "Bflo_bg <- Bflo_bg[!grepl(pattern = \"RNA\", Bflo_bg)]\n",
    "write.table(Bflo_bg, file = \"/mnt/data01/yuanzhen/01.Vertebrate_cell_evo/04.ohno_para_significance/0bin/Bflo_T1_background_genes.txt\", col.names = F, row.names = F, quote = F)\n",
    "\n",
    "Bflo <- readRDS(\"/mnt/data01/yuanzhen/01.Vertebrate_cell_evo/01.data/02.atlas/amphioxus/N4_stage_subset.rds\")\n",
    "Bflo_bg <- convert_IDs(rownames(Bflo))\n",
    "Bflo_bg <- Bflo_bg[!grepl(pattern = \"RNA\", Bflo_bg)]\n",
    "write.table(Bflo_bg, file = \"/mnt/data01/yuanzhen/01.Vertebrate_cell_evo/04.ohno_para_significance/0bin/Bflo_N4_background_genes.txt\", col.names = F, row.names = F, quote = F)\n",
    "\n",
    "rm(Bflo)"
   ]
  },
  {
   "cell_type": "code",
   "execution_count": null,
   "id": "1977a336",
   "metadata": {},
   "outputs": [],
   "source": []
  },
  {
   "cell_type": "code",
   "execution_count": 4,
   "id": "acead79e",
   "metadata": {},
   "outputs": [],
   "source": [
    "Pmar <- read.delim('Pmar_background_genes.txt', header = F)\n",
    "Pvit <- read.delim('Pvit_background_genes.txt', header = F)\n",
    "Mmus <- read.delim('Mmus_background_genes.txt', header = F)\n",
    "Hsap <- read.delim('Hsap_background_genes.txt', header = F)\n",
    "Pmar$species <- \"Pmar\"\n",
    "Pvit$species <- \"Pvit\"\n",
    "Mmus$species <- \"Mmus\"\n",
    "Hsap$species <- \"Hsap\"\n",
    "\n",
    "x = rbind(Pmar, Pvit, Mmus, Hsap)\n",
    "colnames(x) <- c('gene', 'species')\n",
    "saveRDS(x, file = 'gene_bg.rds')"
   ]
  },
  {
   "cell_type": "code",
   "execution_count": null,
   "id": "1c20f6ff",
   "metadata": {},
   "outputs": [],
   "source": []
  }
 ],
 "metadata": {
  "kernelspec": {
   "display_name": "R [conda env:sc]",
   "language": "R",
   "name": "conda-env-sc-r"
  },
  "language_info": {
   "codemirror_mode": "r",
   "file_extension": ".r",
   "mimetype": "text/x-r-source",
   "name": "R",
   "pygments_lexer": "r",
   "version": "4.3.2"
  }
 },
 "nbformat": 4,
 "nbformat_minor": 5
}
