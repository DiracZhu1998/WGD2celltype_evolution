{
 "cells": [
  {
   "cell_type": "code",
   "execution_count": 1,
   "id": "89c9f9c9-91fb-40cf-bfa3-94183bbf9b60",
   "metadata": {},
   "outputs": [],
   "source": [
    "import anndata as ad\n",
    "import scanpy as sc\n",
    "import pandas as pd"
   ]
  },
  {
   "cell_type": "code",
   "execution_count": 2,
   "id": "07af0212-72ed-47cb-9014-a2a4f030c9ac",
   "metadata": {},
   "outputs": [],
   "source": [
    "path = \"/mnt/data01/yuanzhen/01.Vertebrate_cell_evo/01.data/02.atlas_final/2.samap/4.final/\""
   ]
  },
  {
   "cell_type": "code",
   "execution_count": 3,
   "id": "29dc0c20-72e6-4c42-be94-824f1b03ce52",
   "metadata": {},
   "outputs": [],
   "source": [
    "Pmar = ad.read_h5ad(f'{path}/Pmar.non_neurons.iter_cluster_annotated.h5ad')\n",
    "Pvit = ad.read_h5ad(f'{path}/Pvit.non_neurons.iter_cluster_annotated.h5ad')\n",
    "Mmus = ad.read_h5ad(f'{path}/Mmus.non_neurons.iter_cluster_annotated.h5ad')\n",
    "Hsap = ad.read_h5ad(f'{path}/Hsap.non_neurons.iter_cluster_annotated.h5ad')"
   ]
  },
  {
   "cell_type": "code",
   "execution_count": 6,
   "id": "bc335cff",
   "metadata": {},
   "outputs": [],
   "source": [
    "Pmar_Epen = Pmar[Pmar.obs['Refined family'].isin(['Ependymal cells'])]\n",
    "Pvit_Epen = Pvit[Pvit.obs['Refined family'].isin(['Ependymal cells'])]\n",
    "Mmus_Epen = Mmus[Mmus.obs['Refined family'].isin(['Ependymal cells'])]\n",
    "Hsap_Epen = Hsap[Hsap.obs['Refined family'].isin(['Ependymal cells'])]"
   ]
  },
  {
   "cell_type": "code",
   "execution_count": 7,
   "id": "06e54002",
   "metadata": {},
   "outputs": [
    {
     "data": {
      "text/plain": [
       "(5046, 17184)"
      ]
     },
     "execution_count": 7,
     "metadata": {},
     "output_type": "execute_result"
    }
   ],
   "source": [
    "Pmar_Epen.shape"
   ]
  },
  {
   "cell_type": "code",
   "execution_count": 8,
   "id": "0ba94d22",
   "metadata": {},
   "outputs": [
    {
     "data": {
      "text/plain": [
       "(2867, 18891)"
      ]
     },
     "execution_count": 8,
     "metadata": {},
     "output_type": "execute_result"
    }
   ],
   "source": [
    "Pvit_Epen.shape"
   ]
  },
  {
   "cell_type": "code",
   "execution_count": 9,
   "id": "9793f153",
   "metadata": {},
   "outputs": [
    {
     "data": {
      "text/plain": [
       "(803, 18787)"
      ]
     },
     "execution_count": 9,
     "metadata": {},
     "output_type": "execute_result"
    }
   ],
   "source": [
    "Mmus_Epen.shape"
   ]
  },
  {
   "cell_type": "code",
   "execution_count": 10,
   "id": "a3897918",
   "metadata": {},
   "outputs": [
    {
     "data": {
      "text/plain": [
       "(652, 19680)"
      ]
     },
     "execution_count": 10,
     "metadata": {},
     "output_type": "execute_result"
    }
   ],
   "source": [
    "Hsap_Epen.shape"
   ]
  },
  {
   "cell_type": "code",
   "execution_count": 11,
   "id": "18a79ff5",
   "metadata": {},
   "outputs": [],
   "source": [
    "Pmar_Epen.write_h5ad(\"Pmar.Epen.h5ad\", compression='gzip')\n",
    "Pvit_Epen.write_h5ad(\"Pvit.Epen.h5ad\", compression='gzip')\n",
    "Mmus_Epen.write_h5ad(\"Mmus.Epen.h5ad\", compression='gzip')\n",
    "Hsap_Epen.write_h5ad(\"Hsap.Epen.h5ad\", compression='gzip')"
   ]
  },
  {
   "cell_type": "code",
   "execution_count": null,
   "id": "955e4c41",
   "metadata": {},
   "outputs": [],
   "source": []
  }
 ],
 "metadata": {
  "kernelspec": {
   "display_name": "Python [conda env:scpy39]",
   "language": "python",
   "name": "conda-env-scpy39-py"
  },
  "language_info": {
   "codemirror_mode": {
    "name": "ipython",
    "version": 3
   },
   "file_extension": ".py",
   "mimetype": "text/x-python",
   "name": "python",
   "nbconvert_exporter": "python",
   "pygments_lexer": "ipython3",
   "version": "3.9.18"
  }
 },
 "nbformat": 4,
 "nbformat_minor": 5
}
