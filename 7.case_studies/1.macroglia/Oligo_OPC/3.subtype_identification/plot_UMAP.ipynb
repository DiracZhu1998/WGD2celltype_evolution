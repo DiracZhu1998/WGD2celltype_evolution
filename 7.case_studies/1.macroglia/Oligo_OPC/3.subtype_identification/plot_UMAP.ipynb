{
 "cells": [
  {
   "cell_type": "code",
   "execution_count": 1,
   "id": "9252f059",
   "metadata": {},
   "outputs": [
    {
     "name": "stderr",
     "output_type": "stream",
     "text": [
      "/home/zoo/ball6395/software/miniconda3/envs/omicverse/lib/python3.10/torch_geometric/typing.py:54: UserWarning: An issue occurred while importing 'pyg-lib'. Disabling its usage. Stacktrace: /lib/x86_64-linux-gnu/libm.so.6: version `GLIBC_2.27' not found (required by /home/zoo/ball6395/software/miniconda3/envs/omicverse/lib/python3.10/libpyg.so)\n",
      "  warnings.warn(f\"An issue occurred while importing 'pyg-lib'. \"\n",
      "/home/zoo/ball6395/software/miniconda3/envs/omicverse/lib/python3.10/torch_geometric/typing.py:110: UserWarning: An issue occurred while importing 'torch-sparse'. Disabling its usage. Stacktrace: /lib/x86_64-linux-gnu/libm.so.6: version `GLIBC_2.27' not found (required by /home/zoo/ball6395/software/miniconda3/envs/omicverse/lib/python3.10/libpyg.so)\n",
      "  warnings.warn(f\"An issue occurred while importing 'torch-sparse'. \"\n"
     ]
    },
    {
     "name": "stdout",
     "output_type": "stream",
     "text": [
      "\n",
      "   ____            _     _    __                  \n",
      "  / __ \\____ ___  (_)___| |  / /__  _____________ \n",
      " / / / / __ `__ \\/ / ___/ | / / _ \\/ ___/ ___/ _ \\ \n",
      "/ /_/ / / / / / / / /__ | |/ /  __/ /  (__  )  __/ \n",
      "\\____/_/ /_/ /_/_/\\___/ |___/\\___/_/  /____/\\___/                                              \n",
      "\n",
      "Version: 1.6.3, Tutorials: https://omicverse.readthedocs.io/\n",
      "All dependencies are satisfied.\n"
     ]
    }
   ],
   "source": [
    "import omicverse as ov\n",
    "import scanpy as sc\n",
    "import matplotlib.pyplot as plt\n",
    "ov.ov_plot_set()\n",
    "import pandas as pd\n",
    "import anndata as ad\n",
    "import numpy as np\n",
    "from matplotlib import patheffects"
   ]
  },
  {
   "cell_type": "code",
   "execution_count": 2,
   "id": "482f50c0",
   "metadata": {},
   "outputs": [],
   "source": [
    "np.random.seed(42)"
   ]
  },
  {
   "cell_type": "code",
   "execution_count": 6,
   "id": "1acb4efd",
   "metadata": {},
   "outputs": [],
   "source": [
    "path = \"../2.SAM_reclustering/SAM/\""
   ]
  },
  {
   "cell_type": "code",
   "execution_count": 7,
   "id": "f4ca4034",
   "metadata": {},
   "outputs": [],
   "source": [
    "Hsap = sc.read_h5ad(f'{path}/Hsap_Oligo_OPC.15.30.2500.DonorID.h5ad')\n",
    "Mmus = sc.read_h5ad(f'{path}/Mmus_Oligo_OPC.15.30.2500.DonorID.h5ad')\n",
    "Pvit = sc.read_h5ad(f'{path}/Pvit_Oligo_OPC.15.30.2500.DonorID.h5ad')"
   ]
  },
  {
   "cell_type": "code",
   "execution_count": 8,
   "id": "0f0bff7a",
   "metadata": {},
   "outputs": [],
   "source": [
    "# modify for plotting\n",
    "# Hsap\n",
    "Hsap.obs['location'] = [i.split(' - ')[0] for i in Hsap.obs['Tissue']]\n",
    "\n",
    "Hsap.obs['location'][Hsap.obs['location'].isin(['Head of hippocampus (HiH)',  'Amygdaloid complex (AMY)', 'Extended amygdala (EXA)',\n",
    "                                    'Body of hippocampus (HiB)', 'Basal nuclei (BN)', 'Tail of Hippocampus (HiT)','Claustrum', 'Paleocortex (PalCx)',\n",
    "                                    'Basal forebrain (BF)','Cerebral cortex (Cx)', 'Perirhinal cortex (area 35) (A35)'])] = 'Telencephalon'\n",
    "Hsap.obs['location'][Hsap.obs['location'].isin(['Thalamus (THM)', 'Hypothalamus (HTH)', 'Epithalamus'])] = 'Diencephalon'\n",
    "Hsap.obs['location'][Hsap.obs['location'].isin(['Midbrain (M)','Midbrain (RN)'])] = 'Mesencephalon'\n",
    "Hsap.obs['location'][Hsap.obs['location'].isin(['Myelencephalon (medulla oblongata) (Mo)','Pons (Pn)', 'Cerebellum (CB)'])] = 'Rhombencephalon'\n",
    "# Mmus\n",
    "Mmus.obs['location'] = Mmus.obs['Tissue'].astype('string')\n",
    "Mmus.obs['location'][Mmus.obs['location'].isin(['StriatDor', 'StriatVent', 'Amygd', 'HC', 'OB', 'CA1',\n",
    "                                                'Ctx1','Ctx3','Ctx2','Ctx1.5','DentGyr','SScortex'])] = 'Telencephalon'\n",
    "Mmus.obs['location'][Mmus.obs['location'].isin(['Thal', 'Hypoth'])] = 'Diencephalon'\n",
    "Mmus.obs['location'][Mmus.obs['location'].isin(['MBd', 'MBv', ])] = 'Mesencephalon'\n",
    "Mmus.obs['location'][Mmus.obs['location'].isin(['Medulla','CB'])] = 'Rhombencephalon'\n",
    "# Pvit\n",
    "Pvit.obs['location'] = Pvit.obs['Region'].astype('string')\n",
    "Pvit.obs['location'][Pvit.obs['location'].isin(['Telencephalon', 'amDVR'])] = 'Telencephalon'\n",
    "Pvit.obs['location'][Pvit.obs['location'].isin(['Thalamus+Hypothalamus'])] = 'Diencephalon'\n",
    "Pvit.obs['location'][Pvit.obs['location'].isin(['Thalamus+Hypothalamus+Midbrain',\n",
    "                                               'Optic Tectum + Midbrain', 'Optic Tectum'])] = 'Di-/Mesencephalon'\n",
    "Pvit.obs['location'][Pvit.obs['location'].isin(['Cerebellum', 'posterior brain', 'Brainstem'])] = 'Rhombencephalon'"
   ]
  },
  {
   "cell_type": "code",
   "execution_count": 9,
   "id": "a1f02503",
   "metadata": {},
   "outputs": [
    {
     "name": "stdout",
     "output_type": "stream",
     "text": [
      "WARNING: saving figure to file figures/X_umap.Mmus_Oligo_OPC.pdf\n",
      "WARNING: saving figure to file figures/X_umap.Hsap_Oligo_OPC.pdf\n",
      "WARNING: saving figure to file figures/X_umap.Pvit_Oligo_OPC.pdf\n"
     ]
    },
    {
     "data": {
      "text/plain": [
       "<AxesSubplot: title={'center': 'location'}, xlabel='X_umap1', ylabel='X_umap2'>"
      ]
     },
     "execution_count": 9,
     "metadata": {},
     "output_type": "execute_result"
    }
   ],
   "source": [
    "color_dict = {'Telencephalon':'#DE582B', 'Diencephalon':'#A4E048', 'Di-/Mesencephalon':'#738061',\n",
    "              'Mesencephalon':'#808080','Rhombencephalon':'#293890', 'Others': '#000000'}\n",
    "ov.pl.embedding(\n",
    "    Mmus, basis = 'X_umap', color = ['location'], show = False, palette=color_dict, frameon='small', save= \".Mmus_Oligo_OPC.pdf\", size=2)\n",
    "ov.pl.embedding(\n",
    "    Hsap, basis = 'X_umap', color = ['location'], show = False, palette=color_dict, frameon='small', save= \".Hsap_Oligo_OPC.pdf\", size=2)\n",
    "ov.pl.embedding(\n",
    "    Pvit, basis = 'X_umap', color = ['location'], show = False, palette=color_dict, frameon='small', save= \".Pvit_Oligo_OPC.pdf\", size=2)"
   ]
  },
  {
   "cell_type": "code",
   "execution_count": 12,
   "id": "ddf837f3",
   "metadata": {},
   "outputs": [],
   "source": [
    "meta_path = \".\"\n",
    "umap = pd.read_csv(f'{meta_path}/Amniote_Oligo_OPC.UMAP.csv', index_col=0)\n",
    "meta = pd.read_csv(f'{meta_path}/Amniote_Oligo_OPC.meta.csv', index_col=0)\n",
    "\n",
    "Hsap.obsm['X_umap'] = umap.loc[Hsap.obs.index].values\n",
    "Mmus.obsm['X_umap'] = umap.loc[Mmus.obs.index].values\n",
    "Pvit.obsm['X_umap'] = umap.loc[Pvit.obs.index].values\n",
    "\n",
    "Hsap.obs['Oligo_OPC.integrated_leiden.1'] = meta.loc[Hsap.obs.index]['Oligo_OPC.integrated_leiden.1'].astype('string')\n",
    "Mmus.obs['Oligo_OPC.integrated_leiden.1'] = meta.loc[Mmus.obs.index]['Oligo_OPC.integrated_leiden.1'].astype('string')\n",
    "Pvit.obs['Oligo_OPC.integrated_leiden.1'] = meta.loc[Pvit.obs.index]['Oligo_OPC.integrated_leiden.1'].astype('string')"
   ]
  },
  {
   "cell_type": "code",
   "execution_count": 13,
   "id": "59af6745",
   "metadata": {},
   "outputs": [],
   "source": [
    "vertebrate = ad.concat([Hsap, Mmus, Pvit], join='outer', axis=0)"
   ]
  },
  {
   "cell_type": "code",
   "execution_count": 14,
   "id": "3f7a3759",
   "metadata": {},
   "outputs": [],
   "source": [
    "vertebrate.obs['Species'] =  pd.Categorical(vertebrate.obs['Species'], categories=['Hsap','Mmus','Pvit'], ordered=True)"
   ]
  },
  {
   "cell_type": "code",
   "execution_count": 15,
   "id": "105256af",
   "metadata": {},
   "outputs": [
    {
     "data": {
      "text/plain": [
       "Hsap    67691\n",
       "Pvit    42881\n",
       "Mmus    22660\n",
       "Name: Species, dtype: int64"
      ]
     },
     "execution_count": 15,
     "metadata": {},
     "output_type": "execute_result"
    }
   ],
   "source": [
    "vertebrate.obs['Species'].value_counts()"
   ]
  },
  {
   "cell_type": "code",
   "execution_count": 16,
   "id": "5b0f1fc5",
   "metadata": {},
   "outputs": [],
   "source": [
    "# subset some cells for balancing number of cells in different species, just for better visualisation\n",
    "ID1 = vertebrate.obs[~vertebrate.obs['Species'].isin(['Hsap'])].sample(20000, random_state=42).index.tolist()\n",
    "ID2 = vertebrate.obs[~vertebrate.obs['Species'].isin(['Mmus'])].sample(20000, random_state=42).index.tolist()\n",
    "ID3 = vertebrate.obs[~vertebrate.obs['Species'].isin(['Pvit'])].sample(20000, random_state=42).index.tolist()\n",
    "vertebrate = vertebrate[vertebrate.obs.index.isin(list(ID1+ID2+ID3))].copy()"
   ]
  },
  {
   "cell_type": "code",
   "execution_count": 17,
   "id": "2f215814",
   "metadata": {},
   "outputs": [
    {
     "name": "stdout",
     "output_type": "stream",
     "text": [
      "WARNING: saving figure to file figures/X_umap.vertebrate_Oligo_OPC.species.pdf\n"
     ]
    },
    {
     "data": {
      "text/plain": [
       "<AxesSubplot: xlabel='X_umap1', ylabel='X_umap2'>"
      ]
     },
     "execution_count": 17,
     "metadata": {},
     "output_type": "execute_result"
    }
   ],
   "source": [
    "color_dict = {'Hsap':'#989A9C', 'Mmus':'#F7D08D','Pvit':'#BF83A5','Pmar':'#8684B0'}\n",
    "# plot species factors in neuorns and non-neurons atlas\n",
    "fig, ax = plt.subplots(figsize=(4,4))\n",
    "random_indices = np.random.permutation(list(range(vertebrate.shape[0])))\n",
    "ov.pl.embedding(\n",
    "    vertebrate[random_indices, :],\n",
    "    basis=\"X_umap\",\n",
    "    color=['Species'],\n",
    "    title='',\n",
    "    show=False,  \n",
    "    size=2,\n",
    "    palette=color_dict,\n",
    "    frameon='small',\n",
    "    ax=ax, \n",
    "    save= \".vertebrate_Oligo_OPC.species.pdf\"\n",
    ")"
   ]
  },
  {
   "cell_type": "code",
   "execution_count": 18,
   "id": "420328cc",
   "metadata": {},
   "outputs": [
    {
     "name": "stdout",
     "output_type": "stream",
     "text": [
      "WARNING: saving figure to file figures/X_umap.vertebrate_Oligo_OPC.region.pdf\n"
     ]
    },
    {
     "data": {
      "text/plain": [
       "<AxesSubplot: xlabel='X_umap1', ylabel='X_umap2'>"
      ]
     },
     "execution_count": 18,
     "metadata": {},
     "output_type": "execute_result"
    }
   ],
   "source": [
    "color_dict = {'Telencephalon':'#DE582B', 'Diencephalon':'#A4E048', 'Di-/Mesencephalon':'#738061',\n",
    "              'Mesencephalon':'#808080','Rhombencephalon':'#293890', 'Others': '#000000'}# plot species factors in neuorns and non-neurons atlas\n",
    "fig, ax = plt.subplots(figsize=(4,4))\n",
    "random_indices = np.random.permutation(list(range(vertebrate.shape[0])))\n",
    "ov.pl.embedding(\n",
    "    vertebrate[random_indices, :],\n",
    "    basis=\"X_umap\",\n",
    "    color=['location'],\n",
    "    title='',\n",
    "    show=False,  \n",
    "    size=2,\n",
    "    palette=color_dict,\n",
    "    frameon='small',\n",
    "    ax=ax, \n",
    "    save= \".vertebrate_Oligo_OPC.region.pdf\"\n",
    ")"
   ]
  },
  {
   "cell_type": "code",
   "execution_count": 20,
   "id": "5ad4747f",
   "metadata": {},
   "outputs": [
    {
     "name": "stdout",
     "output_type": "stream",
     "text": [
      "WARNING: saving figure to file figures/X_umap.vertebrate_Oligo_OPC.subtype.pdf\n"
     ]
    },
    {
     "data": {
      "text/plain": [
       "<AxesSubplot: xlabel='X_umap1', ylabel='X_umap2'>"
      ]
     },
     "execution_count": 20,
     "metadata": {},
     "output_type": "execute_result"
    }
   ],
   "source": [
    "fig, ax = plt.subplots(figsize=(4,4))\n",
    "random_indices = np.random.permutation(list(range(vertebrate.shape[0])))\n",
    "ov.pl.embedding(\n",
    "    vertebrate[random_indices, :],\n",
    "    basis=\"X_umap\",\n",
    "    color=['Oligo_OPC.integrated_leiden.1'],\n",
    "    title='',\n",
    "    show=False,  \n",
    "    size=2,\n",
    "    frameon='small',\n",
    "    ax=ax, \n",
    "    save= \".vertebrate_Oligo_OPC.subtype.pdf\"\n",
    ")"
   ]
  },
  {
   "cell_type": "code",
   "execution_count": null,
   "id": "4194d5f2",
   "metadata": {},
   "outputs": [],
   "source": []
  }
 ],
 "metadata": {
  "kernelspec": {
   "display_name": "Python [conda env:omicverse]",
   "language": "python",
   "name": "conda-env-omicverse-py"
  },
  "language_info": {
   "codemirror_mode": {
    "name": "ipython",
    "version": 3
   },
   "file_extension": ".py",
   "mimetype": "text/x-python",
   "name": "python",
   "nbconvert_exporter": "python",
   "pygments_lexer": "ipython3",
   "version": "3.10.14"
  }
 },
 "nbformat": 4,
 "nbformat_minor": 5
}
