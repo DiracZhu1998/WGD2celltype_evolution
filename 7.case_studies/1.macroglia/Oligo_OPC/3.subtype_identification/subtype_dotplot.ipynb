{
 "cells": [
  {
   "cell_type": "code",
   "execution_count": 1,
   "id": "f4a0af73",
   "metadata": {},
   "outputs": [
    {
     "name": "stderr",
     "output_type": "stream",
     "text": [
      "Loading required package: Seurat\n",
      "\n",
      "Loading required package: SeuratObject\n",
      "\n",
      "Loading required package: sp\n",
      "\n",
      "\n",
      "Attaching package: ‘SeuratObject’\n",
      "\n",
      "\n",
      "The following object is masked from ‘package:base’:\n",
      "\n",
      "    intersect\n",
      "\n",
      "\n"
     ]
    }
   ],
   "source": [
    "require(Seurat)"
   ]
  },
  {
   "cell_type": "code",
   "execution_count": 2,
   "id": "55c714a7",
   "metadata": {},
   "outputs": [],
   "source": [
    "Hsap <- readRDS('../2.SAM_reclustering/SAM/Hsap_Oligo_OPC.15.30.2500.DonorID.rds')\n",
    "Mmus <- readRDS('../2.SAM_reclustering/SAM/Mmus_Oligo_OPC.15.30.2500.DonorID.rds')\n",
    "Pvit <- readRDS('../2.SAM_reclustering/SAM/Pvit_Oligo_OPC.15.30.2500.DonorID.rds')"
   ]
  },
  {
   "cell_type": "code",
   "execution_count": 3,
   "id": "b22f34d5",
   "metadata": {},
   "outputs": [
    {
     "name": "stderr",
     "output_type": "stream",
     "text": [
      "Computing nearest neighbor graph\n",
      "\n",
      "Computing SNN\n",
      "\n"
     ]
    },
    {
     "name": "stdout",
     "output_type": "stream",
     "text": [
      "Modularity Optimizer version 1.3.0 by Ludo Waltman and Nees Jan van Eck\n",
      "\n",
      "Number of nodes: 67691\n",
      "Number of edges: 1855788\n",
      "\n",
      "Running Louvain algorithm...\n",
      "Maximum modularity in 10 random starts: 0.8968\n",
      "Number of communities: 9\n",
      "Elapsed time: 140 seconds\n"
     ]
    },
    {
     "name": "stderr",
     "output_type": "stream",
     "text": [
      "Computing nearest neighbor graph\n",
      "\n",
      "Computing SNN\n",
      "\n"
     ]
    },
    {
     "name": "stdout",
     "output_type": "stream",
     "text": [
      "Modularity Optimizer version 1.3.0 by Ludo Waltman and Nees Jan van Eck\n",
      "\n",
      "Number of nodes: 22660\n",
      "Number of edges: 797349\n",
      "\n",
      "Running Louvain algorithm...\n",
      "Maximum modularity in 10 random starts: 0.9450\n",
      "Number of communities: 13\n",
      "Elapsed time: 14 seconds\n"
     ]
    },
    {
     "name": "stderr",
     "output_type": "stream",
     "text": [
      "Computing nearest neighbor graph\n",
      "\n",
      "Computing SNN\n",
      "\n"
     ]
    },
    {
     "name": "stdout",
     "output_type": "stream",
     "text": [
      "Modularity Optimizer version 1.3.0 by Ludo Waltman and Nees Jan van Eck\n",
      "\n",
      "Number of nodes: 42881\n",
      "Number of edges: 1325159\n",
      "\n",
      "Running Louvain algorithm...\n",
      "Maximum modularity in 10 random starts: 0.9092\n",
      "Number of communities: 13\n",
      "Elapsed time: 52 seconds\n"
     ]
    }
   ],
   "source": [
    "Hsap <- FindNeighbors(Hsap, dims = 1:20)\n",
    "Hsap <- FindClusters(Hsap, resolution = 0.3, cluster.name = 'Oligo_OPC.res.0.3')\n",
    "\n",
    "Mmus <- FindNeighbors(Mmus, dims = 1:20)\n",
    "Mmus <- FindClusters(Mmus, resolution = 0.3, cluster.name = 'Oligo_OPC.res.0.3')\n",
    "\n",
    "Pvit <- FindNeighbors(Pvit, dims = 1:20)\n",
    "Pvit <- FindClusters(Pvit, resolution = 0.3, cluster.name = 'Oligo_OPC.res.0.3')"
   ]
  },
  {
   "cell_type": "code",
   "execution_count": 4,
   "id": "fe271342",
   "metadata": {},
   "outputs": [
    {
     "data": {
      "text/html": [
       "<strong>pdf:</strong> 2"
      ],
      "text/latex": [
       "\\textbf{pdf:} 2"
      ],
      "text/markdown": [
       "**pdf:** 2"
      ],
      "text/plain": [
       "pdf \n",
       "  2 "
      ]
     },
     "metadata": {},
     "output_type": "display_data"
    }
   ],
   "source": [
    "p1 <- DotPlot(Hsap, features = c('ENSG00000105695','ENSG00000144230','ENSG00000134853'), scale.max = 100)\n",
    "p2 <- DotPlot(Mmus, features = c('Mag','Gpr17','Pdgfra'), scale.max = 100)\n",
    "p3 <- DotPlot(Pvit, features = c('MAG','GPR17','PDGFRA'), scale.max = 100)\n",
    "pdf('figures/Oligo_OPC_subtype.dotplot.pdf', width = 20, height = 6)\n",
    "p1|p2|p3\n",
    "dev.off()"
   ]
  },
  {
   "cell_type": "code",
   "execution_count": 10,
   "id": "8f12ecb6",
   "metadata": {},
   "outputs": [],
   "source": [
    "# fast annotation based on markers\n",
    "Hsap_ann <- 0:(length(unique(Hsap@meta.data$`Oligo_OPC.res.0.3`))-1)\n",
    "Mmus_ann <- 0:(length(unique(Mmus@meta.data$`Oligo_OPC.res.0.3`))-1)\n",
    "Pvit_ann <- 0:(length(unique(Pvit@meta.data$`Oligo_OPC.res.0.3`))-1)"
   ]
  },
  {
   "cell_type": "code",
   "execution_count": 34,
   "id": "415bfce7",
   "metadata": {},
   "outputs": [],
   "source": [
    "# Manual annotation\n",
    "names(Hsap_ann) <- as.character(Hsap_ann)\n",
    "names(Hsap_ann)[Hsap_ann %in% c(7)] <- 'COPC'\n",
    "names(Hsap_ann)[Hsap_ann %in% c(3,8)] <- 'OPC'\n",
    "names(Hsap_ann)[Hsap_ann %in% c(0,1,2,4,5,6)] <- 'Oligo'\n",
    "Hsap@meta.data$Oligo <- vapply(Hsap@meta.data$Oligo_OPC.res.0.3, FUN = function(x){\n",
    "    names(Hsap_ann[Hsap_ann == x])\n",
    "}, FUN.VALUE = character(1))\n",
    "Hsap@meta.data$Oligo <- factor(paste(Hsap@meta.data$Oligo, Hsap@meta.data$`Oligo_OPC.res.0.3`, sep = '_'), \n",
    "                               levels = c(paste('Oligo', c(0,1,2,4,5,6), sep = '_'),\n",
    "                                         c('COPC_7','OPC_3','OPC_8'))\n",
    ")\n",
    "\n",
    "names(Mmus_ann) <- as.character(Mmus_ann)\n",
    "names(Mmus_ann)[Mmus_ann %in% c(5,8,12)] <- 'COPC'\n",
    "names(Mmus_ann)[Mmus_ann %in% c(10)] <- 'OPC'\n",
    "names(Mmus_ann)[!Mmus_ann %in% c(10,5,8,12)] <- 'Oligo'\n",
    "Mmus@meta.data$Oligo <- vapply(Mmus@meta.data$Oligo_OPC.res.0.3, FUN = function(x){\n",
    "    names(Mmus_ann[Mmus_ann == x])\n",
    "}, FUN.VALUE = character(1))\n",
    "Mmus@meta.data$Oligo <- factor(paste(Mmus@meta.data$Oligo, Mmus@meta.data$`Oligo_OPC.res.0.3`, sep = '_'),\n",
    "                               levels = c(paste('Oligo', c(0,1,2,3,4,6,7,9,11), sep = '_'),\n",
    "                                         c('COPC_5','COPC_8','COPC_12','OPC_10'))\n",
    ")\n",
    "\n",
    "names(Pvit_ann) <- as.character(Pvit_ann)\n",
    "names(Pvit_ann)[Pvit_ann %in% c(3,7)] <- 'COPC'\n",
    "names(Pvit_ann)[Pvit_ann %in% c(0,6,9,10)] <- 'OPC'\n",
    "names(Pvit_ann)[!Pvit_ann %in% c(0,6,9,10,3,7)] <- 'Oligo'\n",
    "Pvit@meta.data$Oligo <- vapply(Pvit@meta.data$Oligo_OPC.res.0.3, FUN = function(x){\n",
    "    names(Pvit_ann[Pvit_ann == x])\n",
    "}, FUN.VALUE = character(1))\n",
    "Pvit@meta.data$Oligo <- factor(paste(Pvit@meta.data$Oligo, Pvit@meta.data$`Oligo_OPC.res.0.3`, sep = '_'),\n",
    "                               levels = c(paste('Oligo', c(1,2,4,5,8,11,12), sep = '_'),\n",
    "                                          c('COPC_3','COPC_7','OPC_0','OPC_6','OPC_9','OPC_10'))\n",
    ")\n",
    "\n",
    "Idents(Hsap) <- 'Oligo'\n",
    "Idents(Mmus) <- 'Oligo'\n",
    "Idents(Pvit) <- 'Oligo'"
   ]
  },
  {
   "cell_type": "code",
   "execution_count": 38,
   "id": "d1a5c3f1",
   "metadata": {},
   "outputs": [
    {
     "data": {
      "text/html": [
       "<strong>pdf:</strong> 2"
      ],
      "text/latex": [
       "\\textbf{pdf:} 2"
      ],
      "text/markdown": [
       "**pdf:** 2"
      ],
      "text/plain": [
       "pdf \n",
       "  2 "
      ]
     },
     "metadata": {},
     "output_type": "display_data"
    }
   ],
   "source": [
    "p1 <- DotPlot(Hsap, features = c('ENSG00000105695','ENSG00000144230','ENSG00000134853'), scale.max = 100)\n",
    "p2 <- DotPlot(Mmus, features = c('Mag','Gpr17','Pdgfra'), scale.max = 100)\n",
    "p3 <- DotPlot(Pvit, features = c('MAG','GPR17','PDGFRA'), scale.max = 100)\n",
    "pdf('figures/Oligo_OPC_subtype.dotplot.pdf', width = 13, height = 6)\n",
    "p1|p2|p3\n",
    "dev.off()"
   ]
  },
  {
   "cell_type": "code",
   "execution_count": 36,
   "id": "3fe3728c",
   "metadata": {},
   "outputs": [],
   "source": [
    "saveRDS(Hsap, '../2.SAM_reclustering/SAM/Hsap_Oligo_OPC.15.30.2500.DonorID.rds')\n",
    "saveRDS(Mmus, '../2.SAM_reclustering/SAM/Mmus_Oligo_OPC.15.30.2500.DonorID.rds')\n",
    "saveRDS(Pvit, '../2.SAM_reclustering/SAM/Pvit_Oligo_OPC.15.30.2500.DonorID.rds')"
   ]
  },
  {
   "cell_type": "code",
   "execution_count": null,
   "id": "d9b6e8d3",
   "metadata": {},
   "outputs": [],
   "source": []
  }
 ],
 "metadata": {
  "kernelspec": {
   "display_name": "R [conda env:sc]",
   "language": "R",
   "name": "conda-env-sc-r"
  },
  "language_info": {
   "codemirror_mode": "r",
   "file_extension": ".r",
   "mimetype": "text/x-r-source",
   "name": "R",
   "pygments_lexer": "r",
   "version": "4.3.2"
  }
 },
 "nbformat": 4,
 "nbformat_minor": 5
}
