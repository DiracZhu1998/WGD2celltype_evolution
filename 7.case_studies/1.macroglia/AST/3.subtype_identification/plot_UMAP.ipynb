{
 "cells": [
  {
   "cell_type": "code",
   "execution_count": 1,
   "id": "9252f059",
   "metadata": {},
   "outputs": [
    {
     "name": "stderr",
     "output_type": "stream",
     "text": [
      "/home/zoo/ball6395/software/miniconda3/envs/omicverse/lib/python3.10/torch_geometric/typing.py:54: UserWarning: An issue occurred while importing 'pyg-lib'. Disabling its usage. Stacktrace: /lib/x86_64-linux-gnu/libm.so.6: version `GLIBC_2.27' not found (required by /home/zoo/ball6395/software/miniconda3/envs/omicverse/lib/python3.10/libpyg.so)\n",
      "  warnings.warn(f\"An issue occurred while importing 'pyg-lib'. \"\n",
      "/home/zoo/ball6395/software/miniconda3/envs/omicverse/lib/python3.10/torch_geometric/typing.py:110: UserWarning: An issue occurred while importing 'torch-sparse'. Disabling its usage. Stacktrace: /lib/x86_64-linux-gnu/libm.so.6: version `GLIBC_2.27' not found (required by /home/zoo/ball6395/software/miniconda3/envs/omicverse/lib/python3.10/libpyg.so)\n",
      "  warnings.warn(f\"An issue occurred while importing 'torch-sparse'. \"\n"
     ]
    },
    {
     "name": "stdout",
     "output_type": "stream",
     "text": [
      "\n",
      "   ____            _     _    __                  \n",
      "  / __ \\____ ___  (_)___| |  / /__  _____________ \n",
      " / / / / __ `__ \\/ / ___/ | / / _ \\/ ___/ ___/ _ \\ \n",
      "/ /_/ / / / / / / / /__ | |/ /  __/ /  (__  )  __/ \n",
      "\\____/_/ /_/ /_/_/\\___/ |___/\\___/_/  /____/\\___/                                              \n",
      "\n",
      "Version: 1.6.3, Tutorials: https://omicverse.readthedocs.io/\n",
      "All dependencies are satisfied.\n"
     ]
    }
   ],
   "source": [
    "import omicverse as ov\n",
    "import scanpy as sc\n",
    "import matplotlib.pyplot as plt\n",
    "ov.ov_plot_set()\n",
    "import pandas as pd\n",
    "import anndata as ad\n",
    "import numpy as np\n",
    "from matplotlib import patheffects"
   ]
  },
  {
   "cell_type": "code",
   "execution_count": 2,
   "id": "482f50c0",
   "metadata": {},
   "outputs": [],
   "source": [
    "np.random.seed(42)"
   ]
  },
  {
   "cell_type": "code",
   "execution_count": 3,
   "id": "1acb4efd",
   "metadata": {},
   "outputs": [],
   "source": [
    "path = \"../2.SAM_reclustering/SAM/\""
   ]
  },
  {
   "cell_type": "code",
   "execution_count": 24,
   "id": "f4ca4034",
   "metadata": {},
   "outputs": [],
   "source": [
    "Hsap = sc.read_h5ad(f'{path}/Hsap_Ast.15.30.2500.DonorID.h5ad')\n",
    "Mmus = sc.read_h5ad(f'{path}/Mmus_Ast.15.30.2500.DonorID.h5ad')\n",
    "Pvit = sc.read_h5ad(f'{path}/Pvit_Ast.15.30.2500.DonorID.h5ad')\n",
    "Pmar = sc.read_h5ad(f'{path}/Pmar_Ast.15.30.2500.DonorID.h5ad')"
   ]
  },
  {
   "cell_type": "code",
   "execution_count": 9,
   "id": "0f0bff7a",
   "metadata": {},
   "outputs": [],
   "source": [
    "# modify for plotting\n",
    "# Hsap\n",
    "Hsap.obs['location'] = [i.split(' - ')[0] for i in Hsap.obs['Tissue']]\n",
    "\n",
    "Hsap.obs['location'][Hsap.obs['location'].isin(['Head of hippocampus (HiH)',  'Amygdaloid complex (AMY)', 'Extended amygdala (EXA)',\n",
    "                                    'Body of hippocampus (HiB)', 'Basal nuclei (BN)', 'Tail of Hippocampus (HiT)','Claustrum', 'Paleocortex (PalCx)',\n",
    "                                    'Basal forebrain (BF)','Cerebral cortex (Cx)', 'Perirhinal cortex (area 35) (A35)'])] = 'Telencephalon'\n",
    "Hsap.obs['location'][Hsap.obs['location'].isin(['Thalamus (THM)', 'Hypothalamus (HTH)', 'Epithalamus'])] = 'Diencephalon'\n",
    "Hsap.obs['location'][Hsap.obs['location'].isin(['Midbrain (M)','Midbrain (RN)'])] = 'Mesencephalon'\n",
    "Hsap.obs['location'][Hsap.obs['location'].isin(['Myelencephalon (medulla oblongata) (Mo)','Pons (Pn)', 'Cerebellum (CB)'])] = 'Rhombencephalon'\n",
    "# Mmus\n",
    "Mmus.obs['location'] = Mmus.obs['Tissue'].astype('string')\n",
    "Mmus.obs['location'][Mmus.obs['location'].isin(['StriatDor', 'StriatVent', 'Amygd', 'HC', 'OB', 'CA1',\n",
    "                                                'Ctx1','Ctx3','Ctx2','Ctx1.5','DentGyr','SScortex'])] = 'Telencephalon'\n",
    "Mmus.obs['location'][Mmus.obs['location'].isin(['Thal', 'Hypoth'])] = 'Diencephalon'\n",
    "Mmus.obs['location'][Mmus.obs['location'].isin(['MBd', 'MBv', ])] = 'Mesencephalon'\n",
    "Mmus.obs['location'][Mmus.obs['location'].isin(['Medulla','CB'])] = 'Rhombencephalon'\n",
    "# Pvit\n",
    "Pvit.obs['location'] = Pvit.obs['Region'].astype('string')\n",
    "Pvit.obs['location'][Pvit.obs['location'].isin(['Telencephalon', 'amDVR'])] = 'Telencephalon'\n",
    "Pvit.obs['location'][Pvit.obs['location'].isin(['Thalamus+Hypothalamus'])] = 'Diencephalon'\n",
    "Pvit.obs['location'][Pvit.obs['location'].isin(['Thalamus+Hypothalamus+Midbrain',\n",
    "                                               'Optic Tectum + Midbrain', 'Optic Tectum'])] = 'Di-/Mesencephalon'\n",
    "Pvit.obs['location'][Pvit.obs['location'].isin(['Cerebellum', 'posterior brain', 'Brainstem'])] = 'Rhombencephalon'\n",
    "# Pmar\n",
    "Pmar.obs['location'] = Pmar.obs['Putative_location'].astype('string')\n",
    "Pmar.obs['location'][Pmar.obs['location'].isin(['Telencephalon'])] = 'Telencephalon'\n",
    "Pmar.obs['location'][Pmar.obs['location'].isin(['Diencephalon', 'Diencephalon; Sub-Commissural Organ (SCO)',\n",
    "                                               'Diencephalon; Pineal/Parapineal organs'])] = 'Diencephalon'\n",
    "Pmar.obs['location'][Pmar.obs['location'].isin(['Diencephalon/Mesencephalon', 'Mesencephalon'])] = 'Di-/Mesencephalon'\n",
    "Pmar.obs['location'][Pmar.obs['location'].isin(['Mesencephalon/Rhombencephalon', 'Rhombencephalon'])] = 'Rhombencephalon'\n",
    "Pmar.obs['location'][Pmar.obs['location'].isin(['Prosencephalon', 'Whole brain', \n",
    "                                                'Whole brain; leptomeninges/choroid plexuses',\n",
    "                                               'Cranial nerve ganglia'])] = 'WB and others'\n"
   ]
  },
  {
   "cell_type": "code",
   "execution_count": 10,
   "id": "a1f02503",
   "metadata": {},
   "outputs": [
    {
     "name": "stdout",
     "output_type": "stream",
     "text": [
      "WARNING: saving figure to file figures/X_umap.Mmus_AST.pdf\n",
      "WARNING: saving figure to file figures/X_umap.Hsap_AST.pdf\n",
      "WARNING: saving figure to file figures/X_umap.Pvit_AST.pdf\n",
      "WARNING: saving figure to file figures/X_umap.Pmar_AST.pdf\n"
     ]
    },
    {
     "data": {
      "text/plain": [
       "<AxesSubplot: title={'center': 'location'}, xlabel='X_umap1', ylabel='X_umap2'>"
      ]
     },
     "execution_count": 10,
     "metadata": {},
     "output_type": "execute_result"
    }
   ],
   "source": [
    "color_dict = {'Telencephalon':'#DE582B', 'Diencephalon':'#A4E048', 'Di-/Mesencephalon':'#738061',\n",
    "              'Mesencephalon':'#808080','Rhombencephalon':'#293890', 'WB and others': '#000000'}\n",
    "ov.pl.embedding(\n",
    "    Mmus, basis = 'X_umap', color = ['location'], show = False, palette=color_dict, frameon='small', save= \".Mmus_AST.pdf\", size=2)\n",
    "ov.pl.embedding(\n",
    "    Hsap, basis = 'X_umap', color = ['location'], show = False, palette=color_dict, frameon='small', save= \".Hsap_AST.pdf\", size=2)\n",
    "ov.pl.embedding(\n",
    "    Pvit, basis = 'X_umap', color = ['location'], show = False, palette=color_dict, frameon='small', save= \".Pvit_AST.pdf\", size=2)\n",
    "ov.pl.embedding(\n",
    "    Pmar, basis = 'X_umap', color = ['location'], show = False, palette=color_dict, frameon='small', save= \".Pmar_AST.pdf\", size=2)"
   ]
  },
  {
   "cell_type": "code",
   "execution_count": 11,
   "id": "ddf837f3",
   "metadata": {},
   "outputs": [],
   "source": [
    "meta_path = \".\"\n",
    "umap = pd.read_csv(f'{meta_path}/Vertebrate_AST.UMAP.csv', index_col=0)\n",
    "meta = pd.read_csv(f'{meta_path}/Vertebrate_AST.meta.csv', index_col=0)\n",
    "\n",
    "Hsap.obsm['X_umap'] = umap.loc[Hsap.obs.index].values\n",
    "Mmus.obsm['X_umap'] = umap.loc[Mmus.obs.index].values\n",
    "Pvit.obsm['X_umap'] = umap.loc[Pvit.obs.index].values\n",
    "Pmar.obsm['X_umap'] = umap.loc[Pmar.obs.index].values"
   ]
  },
  {
   "cell_type": "code",
   "execution_count": 12,
   "id": "59af6745",
   "metadata": {},
   "outputs": [],
   "source": [
    "vertebrate = ad.concat([Hsap, Mmus, Pvit, Pmar], join='outer', axis=0)"
   ]
  },
  {
   "cell_type": "code",
   "execution_count": 13,
   "id": "3f7a3759",
   "metadata": {},
   "outputs": [],
   "source": [
    "vertebrate.obs['Species'] =  pd.Categorical(vertebrate.obs['Species'], categories=['Hsap','Mmus','Pvit','Pmar'], ordered=True)"
   ]
  },
  {
   "cell_type": "code",
   "execution_count": 14,
   "id": "105256af",
   "metadata": {},
   "outputs": [
    {
     "data": {
      "text/plain": [
       "Pvit    31316\n",
       "Mmus    19015\n",
       "Hsap    18895\n",
       "Pmar     6389\n",
       "Name: Species, dtype: int64"
      ]
     },
     "execution_count": 14,
     "metadata": {},
     "output_type": "execute_result"
    }
   ],
   "source": [
    "vertebrate.obs['Species'].value_counts()"
   ]
  },
  {
   "cell_type": "code",
   "execution_count": 15,
   "id": "5b0f1fc5",
   "metadata": {},
   "outputs": [],
   "source": [
    "# subset some cells for balancing number of cells in different species, just for better visualisation\n",
    "ID1 = vertebrate.obs[~vertebrate.obs['Species'].isin(['Hsap'])].sample(6000, random_state=42).index.tolist()\n",
    "ID2 = vertebrate.obs[~vertebrate.obs['Species'].isin(['Mmus'])].sample(6000, random_state=42).index.tolist()\n",
    "ID3 = vertebrate.obs[~vertebrate.obs['Species'].isin(['Pvit'])].sample(6000, random_state=42).index.tolist()\n",
    "ID4 = vertebrate.obs[~vertebrate.obs['Species'].isin(['Pmar'])].sample(6000, random_state=42).index.tolist()\n",
    "vertebrate = vertebrate[vertebrate.obs.index.isin(list(ID1+ID2+ID3+ID4))].copy()"
   ]
  },
  {
   "cell_type": "code",
   "execution_count": 16,
   "id": "2f215814",
   "metadata": {},
   "outputs": [
    {
     "name": "stdout",
     "output_type": "stream",
     "text": [
      "WARNING: saving figure to file figures/X_umap.vertebrate_AST.species.pdf\n"
     ]
    },
    {
     "data": {
      "text/plain": [
       "<AxesSubplot: xlabel='X_umap1', ylabel='X_umap2'>"
      ]
     },
     "execution_count": 16,
     "metadata": {},
     "output_type": "execute_result"
    }
   ],
   "source": [
    "color_dict = {'Hsap':'#989A9C', 'Mmus':'#F7D08D','Pvit':'#BF83A5','Pmar':'#8684B0'}\n",
    "# plot species factors in neuorns and non-neurons atlas\n",
    "fig, ax = plt.subplots(figsize=(4,4))\n",
    "random_indices = np.random.permutation(list(range(vertebrate.shape[0])))\n",
    "ov.pl.embedding(\n",
    "    vertebrate[random_indices, :],\n",
    "    basis=\"X_umap\",\n",
    "    color=['Species'],\n",
    "    title='',\n",
    "    show=False,  \n",
    "    size=2,\n",
    "    palette=color_dict,\n",
    "    frameon='small',\n",
    "    ax=ax, \n",
    "    save= \".vertebrate_AST.species.pdf\"\n",
    ")"
   ]
  },
  {
   "cell_type": "code",
   "execution_count": 17,
   "id": "420328cc",
   "metadata": {},
   "outputs": [
    {
     "name": "stdout",
     "output_type": "stream",
     "text": [
      "WARNING: saving figure to file figures/X_umap.vertebrate_AST.region.pdf\n"
     ]
    },
    {
     "data": {
      "text/plain": [
       "<AxesSubplot: xlabel='X_umap1', ylabel='X_umap2'>"
      ]
     },
     "execution_count": 17,
     "metadata": {},
     "output_type": "execute_result"
    }
   ],
   "source": [
    "color_dict = {'Telencephalon':'#DE582B', 'Diencephalon':'#A4E048', 'Di-/Mesencephalon':'#738061',\n",
    "              'Mesencephalon':'#808080','Rhombencephalon':'#293890', 'WB and others': '#000000'}# plot species factors in neuorns and non-neurons atlas\n",
    "fig, ax = plt.subplots(figsize=(4,4))\n",
    "random_indices = np.random.permutation(list(range(vertebrate.shape[0])))\n",
    "ov.pl.embedding(\n",
    "    vertebrate[random_indices, :],\n",
    "    basis=\"X_umap\",\n",
    "    color=['location'],\n",
    "    title='',\n",
    "    show=False,  \n",
    "    size=2,\n",
    "    palette=color_dict,\n",
    "    frameon='small',\n",
    "    ax=ax, \n",
    "    save= \".vertebrate_AST.region.pdf\"\n",
    ")"
   ]
  },
  {
   "cell_type": "code",
   "execution_count": 56,
   "id": "4194d5f2",
   "metadata": {},
   "outputs": [
    {
     "name": "stdout",
     "output_type": "stream",
     "text": [
      "WARNING: saving figure to file figures/X_umap.Mmus_tissue.pdf\n"
     ]
    },
    {
     "data": {
      "text/plain": [
       "<AxesSubplot: xlabel='X_umap1', ylabel='X_umap2'>"
      ]
     },
     "execution_count": 56,
     "metadata": {},
     "output_type": "execute_result"
    }
   ],
   "source": [
    "fig, ax = plt.subplots(figsize=(4,4))\n",
    "ov.pl.embedding(\n",
    "    Mmus, basis = 'X_umap', color = ['Tissue'], show = False, frameon='small', size=2,\n",
    "    ax=ax, title='',\n",
    "    save= \".Mmus_tissue.pdf\")"
   ]
  },
  {
   "cell_type": "code",
   "execution_count": 47,
   "id": "fd3b265a",
   "metadata": {},
   "outputs": [
    {
     "data": {
      "text/plain": [
       "['Non-telencephalon astrocytes, protoplasmic',\n",
       " 'Telencephalon astrocytes, protoplasmic',\n",
       " 'Telencephalon astrocytes, fibrous',\n",
       " 'Non-telencephalon astrocytes, fibrous',\n",
       " 'Olfactory astrocytes',\n",
       " 'Bergmann glia',\n",
       " 'Dorsal midbrain Myoc-expressing astrocyte-like',\n",
       " 'Subventricular zone radial glia-like cells',\n",
       " 'Dentate gyrus radial glia-like cells']"
      ]
     },
     "execution_count": 47,
     "metadata": {},
     "output_type": "execute_result"
    }
   ],
   "source": [
    "tmp = Mmus.obs['Description'].value_counts()\n",
    "retained = tmp[tmp > 300].index.tolist()"
   ]
  },
  {
   "cell_type": "code",
   "execution_count": 49,
   "id": "382b69cc",
   "metadata": {},
   "outputs": [],
   "source": [
    "ops = sc.read_h5ad('../../../../01.data/02.atlas_final/2.samap/4.final/Mmus.wb.iter_cluster_annotated.h5ad')"
   ]
  },
  {
   "cell_type": "code",
   "execution_count": 50,
   "id": "0f04429d",
   "metadata": {},
   "outputs": [],
   "source": [
    "Mmus_ = ops[ops.obs['Description'].isin(retained)].copy()"
   ]
  },
  {
   "cell_type": "code",
   "execution_count": 51,
   "id": "2d7fc785",
   "metadata": {},
   "outputs": [],
   "source": [
    "Mmus_.write_h5ad('Mmus.test.h5ad',compression='gzip')"
   ]
  },
  {
   "cell_type": "code",
   "execution_count": 52,
   "id": "2a01d361",
   "metadata": {},
   "outputs": [
    {
     "data": {
      "text/plain": [
       "<anndata._core.raw.Raw at 0x7fc80a9a2c50>"
      ]
     },
     "execution_count": 52,
     "metadata": {},
     "output_type": "execute_result"
    }
   ],
   "source": [
    "Mmus_.raw"
   ]
  },
  {
   "cell_type": "code",
   "execution_count": 54,
   "id": "d9ca8ca6",
   "metadata": {},
   "outputs": [
    {
     "data": {
      "text/plain": [
       "<19002x18787 sparse matrix of type '<class 'numpy.float32'>'\n",
       "\twith 15040379 stored elements in Compressed Sparse Column format>"
      ]
     },
     "execution_count": 54,
     "metadata": {},
     "output_type": "execute_result"
    }
   ],
   "source": [
    "Mmus_.raw.X"
   ]
  },
  {
   "cell_type": "code",
   "execution_count": 53,
   "id": "e121ae41",
   "metadata": {},
   "outputs": [
    {
     "data": {
      "text/plain": [
       "AnnData object with n_obs × n_vars = 19002 × 18787\n",
       "    obs: 'Age', 'AnalysisPool', 'AnalysisProject', 'Class', 'ClusterName', 'Clusters', 'Description', 'DonorID', 'MitoRiboRatio', 'Neurotransmitter', 'TaxonomyRank1', 'TaxonomyRank2', 'TaxonomyRank3', 'TaxonomyRank4', 'TaxonomySymbol', 'Tissue', 'cell_type', 'Species', 'iter.clustering', 'Refined family', 'Refined subtype'\n",
       "    var: 'Accession', '_LogCV', '_LogMean', '_Selected', '_Total', '_Valid', 'mask_genes', 'means', 'variances', 'weights', 'spatial_dispersions', 'mean_correction'\n",
       "    uns: 'dimred_indices', 'path_to_file', 'preprocess_args', 'ranked_genes', 'run_args'\n",
       "    obsm: 'PCA', 'X_pca', 'X_processed', 'X_test', 'X_umap', 'tSNE'\n",
       "    varm: 'PCs', 'PCs_SAMap'\n",
       "    layers: 'X_disp'\n",
       "    obsp: 'connectivities', 'distances', 'nnm'"
      ]
     },
     "execution_count": 53,
     "metadata": {},
     "output_type": "execute_result"
    }
   ],
   "source": [
    "Mmus_"
   ]
  },
  {
   "cell_type": "code",
   "execution_count": null,
   "id": "25faf441",
   "metadata": {},
   "outputs": [],
   "source": []
  }
 ],
 "metadata": {
  "kernelspec": {
   "display_name": "Python [conda env:omicverse]",
   "language": "python",
   "name": "conda-env-omicverse-py"
  },
  "language_info": {
   "codemirror_mode": {
    "name": "ipython",
    "version": 3
   },
   "file_extension": ".py",
   "mimetype": "text/x-python",
   "name": "python",
   "nbconvert_exporter": "python",
   "pygments_lexer": "ipython3",
   "version": "3.10.14"
  }
 },
 "nbformat": 4,
 "nbformat_minor": 5
}
