{
 "cells": [
  {
   "cell_type": "code",
   "execution_count": 4,
   "id": "f4a0af73",
   "metadata": {},
   "outputs": [],
   "source": [
    "require(Seurat)\n",
    "require(dplyr)\n",
    "library(ggplot2)"
   ]
  },
  {
   "cell_type": "code",
   "execution_count": 2,
   "id": "55c714a7",
   "metadata": {},
   "outputs": [],
   "source": [
    "Hsap <- readRDS('../2.SAM_reclustering/SAM/Hsap_Ast.15.30.2500.DonorID.rds')\n",
    "Mmus <- readRDS('../2.SAM_reclustering/SAM/Mmus_Ast.15.30.2500.DonorID.rds')\n",
    "Pvit <- readRDS('../2.SAM_reclustering/SAM/Pvit_Ast.15.30.2500.DonorID.rds')\n",
    "Pmar <- readRDS('../2.SAM_reclustering/SAM/Pmar_Ast.15.30.2500.DonorID.rds')"
   ]
  },
  {
   "cell_type": "code",
   "execution_count": 3,
   "id": "b22f34d5",
   "metadata": {},
   "outputs": [
    {
     "name": "stderr",
     "output_type": "stream",
     "text": [
      "Computing nearest neighbor graph\n",
      "\n",
      "Computing SNN\n",
      "\n"
     ]
    },
    {
     "name": "stdout",
     "output_type": "stream",
     "text": [
      "Modularity Optimizer version 1.3.0 by Ludo Waltman and Nees Jan van Eck\n",
      "\n",
      "Number of nodes: 18895\n",
      "Number of edges: 663916\n",
      "\n",
      "Running Louvain algorithm...\n",
      "Maximum modularity in 10 random starts: 0.9159\n",
      "Number of communities: 10\n",
      "Elapsed time: 16 seconds\n"
     ]
    },
    {
     "name": "stderr",
     "output_type": "stream",
     "text": [
      "Computing nearest neighbor graph\n",
      "\n",
      "Computing SNN\n",
      "\n"
     ]
    },
    {
     "name": "stdout",
     "output_type": "stream",
     "text": [
      "Modularity Optimizer version 1.3.0 by Ludo Waltman and Nees Jan van Eck\n",
      "\n",
      "Number of nodes: 19015\n",
      "Number of edges: 679420\n",
      "\n",
      "Running Louvain algorithm...\n",
      "Maximum modularity in 10 random starts: 0.9458\n",
      "Number of communities: 15\n",
      "Elapsed time: 17 seconds\n"
     ]
    },
    {
     "name": "stderr",
     "output_type": "stream",
     "text": [
      "Computing nearest neighbor graph\n",
      "\n",
      "Computing SNN\n",
      "\n"
     ]
    },
    {
     "name": "stdout",
     "output_type": "stream",
     "text": [
      "Modularity Optimizer version 1.3.0 by Ludo Waltman and Nees Jan van Eck\n",
      "\n",
      "Number of nodes: 31316\n",
      "Number of edges: 1029042\n",
      "\n",
      "Running Louvain algorithm...\n",
      "Maximum modularity in 10 random starts: 0.8995\n",
      "Number of communities: 10\n",
      "Elapsed time: 37 seconds\n"
     ]
    },
    {
     "name": "stderr",
     "output_type": "stream",
     "text": [
      "Computing nearest neighbor graph\n",
      "\n",
      "Computing SNN\n",
      "\n"
     ]
    },
    {
     "name": "stdout",
     "output_type": "stream",
     "text": [
      "Modularity Optimizer version 1.3.0 by Ludo Waltman and Nees Jan van Eck\n",
      "\n",
      "Number of nodes: 6389\n",
      "Number of edges: 223476\n",
      "\n",
      "Running Louvain algorithm...\n",
      "Maximum modularity in 10 random starts: 0.9225\n",
      "Number of communities: 10\n",
      "Elapsed time: 4 seconds\n"
     ]
    }
   ],
   "source": [
    "Hsap <- FindNeighbors(Hsap, dims = 1:25)\n",
    "Hsap <- FindClusters(Hsap, resolution = 0.3, cluster.name = 'AST.res.0.3')\n",
    "\n",
    "Mmus <- FindNeighbors(Mmus, dims = 1:25)\n",
    "Mmus <- FindClusters(Mmus, resolution = 0.3, cluster.name = 'AST.res.0.3')\n",
    "\n",
    "Pvit <- FindNeighbors(Pvit, dims = 1:25)\n",
    "Pvit <- FindClusters(Pvit, resolution = 0.3, cluster.name = 'AST.res.0.3')\n",
    "\n",
    "Pmar <- FindNeighbors(Pmar, dims = 1:25)\n",
    "Pmar <- FindClusters(Pmar, resolution = 0.3, cluster.name = 'AST.res.0.3')"
   ]
  },
  {
   "cell_type": "code",
   "execution_count": 34,
   "id": "858e1bf6",
   "metadata": {},
   "outputs": [],
   "source": [
    "# fast annotation for mouse\n",
    "res = c()\n",
    "for (i in unique(Mmus@meta.data$`AST.res.0.3`)){\n",
    "    celli <- colnames(Mmus)[which(Mmus@meta.data$`AST.res.0.3` == i)]\n",
    "    for (j in unique(Mmus@meta.data$Description)){\n",
    "        cellj <- colnames(Mmus)[which(Mmus@meta.data$Description == j)]\n",
    "        inter <- length(intersect(celli, cellj))/length(celli)\n",
    "        res <- rbind(res, c(i, j, inter))\n",
    "    }\n",
    "}\n",
    "res = as.data.frame(res)\n",
    "res$V3 <- as.double(res$V3)\n",
    "ops = res[res$V3 > 0.5,]\n",
    "ops$V4 <- paste(ops$V2, ops$V1, sep = '_')"
   ]
  },
  {
   "cell_type": "code",
   "execution_count": 35,
   "id": "d352eb60",
   "metadata": {},
   "outputs": [],
   "source": [
    "# fast annotation for mouse\n",
    "Mmus@meta.data$AST <- vapply(Mmus@meta.data$`AST.res.0.3`, FUN = function(x){\n",
    "    if (x %in% ops$V1){\n",
    "        return(ops[ops$V1 == x, 'V2'])\n",
    "    } else {\n",
    "        return(\"Non-telencephalon astrocytes\")\n",
    "    }\n",
    "}, FUN.VALUE = character(1))"
   ]
  },
  {
   "cell_type": "code",
   "execution_count": null,
   "id": "6eddd45f",
   "metadata": {},
   "outputs": [],
   "source": []
  },
  {
   "cell_type": "code",
   "execution_count": 21,
   "id": "5ef2bbb1",
   "metadata": {},
   "outputs": [],
   "source": [
    "# fast annotation for human based on location\n",
    "Hsap@meta.data$Tissue <- vapply(as.character(Hsap@meta.data$Tissue), FUN = function(x){\n",
    "                                      strsplit(x, split = \"-\")[[1]][1]\n",
    "},   FUN.VALUE = character(1))\n",
    "\n",
    "res = c()\n",
    "for (i in unique(Hsap@meta.data$`AST.res.0.3`)){\n",
    "    celli <- colnames(Hsap)[which(Hsap@meta.data$`AST.res.0.3` == i)]\n",
    "    for (j in unique(Hsap@meta.data$Tissue)){\n",
    "        cellj <- colnames(Hsap)[which(Hsap@meta.data$Tissue == j)]\n",
    "        inter <- length(intersect(celli, cellj))/length(celli)\n",
    "        res <- rbind(res, c(i, j, inter))\n",
    "    }\n",
    "}\n",
    "res = as.data.frame(res)\n",
    "res$V3 <- as.double(res$V3)\n",
    "res <- res %>% group_by(V1) %>% filter(V3 == max(V3))\n",
    "res$V4 <- paste(res$V2, res$V1, sep = '_')\n",
    "\n",
    "Hsap@meta.data$AST <- vapply(Hsap@meta.data$`AST.res.0.3`, FUN = function(x){\n",
    "    return(unlist(res[res$V1 == x, 'V4']))\n",
    "}, FUN.VALUE = character(1))"
   ]
  },
  {
   "cell_type": "code",
   "execution_count": 22,
   "id": "a41ff8b0",
   "metadata": {},
   "outputs": [],
   "source": [
    "# fast annotation for lizard based on location\n",
    "Pvit@meta.data$Region <- vapply(as.character(Pvit@meta.data$Region), FUN = function(x){\n",
    "                                      strsplit(x, split = \"-\")[[1]][1]\n",
    "},   FUN.VALUE = character(1))\n",
    "\n",
    "res = c()\n",
    "for (i in unique(Pvit@meta.data$`AST.res.0.3`)){\n",
    "    celli <- colnames(Pvit)[which(Pvit@meta.data$`AST.res.0.3` == i)]\n",
    "    for (j in unique(Pvit@meta.data$Region)){\n",
    "        cellj <- colnames(Pvit)[which(Pvit@meta.data$Region == j)]\n",
    "        inter <- length(intersect(celli, cellj))/length(celli)\n",
    "        res <- rbind(res, c(i, j, inter))\n",
    "    }\n",
    "}\n",
    "res = as.data.frame(res)\n",
    "res$V3 <- as.double(res$V3)\n",
    "res <- res %>% group_by(V1) %>% filter(V3 == max(V3))\n",
    "res$V4 <- paste(res$V2, res$V1, sep = '_')\n",
    "\n",
    "Pvit@meta.data$AST <- vapply(Pvit@meta.data$`AST.res.0.3`, FUN = function(x){\n",
    "    return(unlist(res[res$V1 == x, 'V4']))\n",
    "}, FUN.VALUE = character(1))"
   ]
  },
  {
   "cell_type": "code",
   "execution_count": 23,
   "id": "f730220f",
   "metadata": {},
   "outputs": [],
   "source": [
    "# fast annotation for lamprey based on location\n",
    "Pmar@meta.data$Putative_location <- vapply(as.character(Pmar@meta.data$Putative_location), FUN = function(x){\n",
    "                                      strsplit(x, split = \"-\")[[1]][1]\n",
    "},   FUN.VALUE = character(1))\n",
    "\n",
    "res = c()\n",
    "for (i in unique(Pmar@meta.data$`AST.res.0.3`)){\n",
    "    celli <- colnames(Pmar)[which(Pmar@meta.data$`AST.res.0.3` == i)]\n",
    "    for (j in unique(Pmar@meta.data$Putative_location)){\n",
    "        cellj <- colnames(Pmar)[which(Pmar@meta.data$Putative_location == j)]\n",
    "        inter <- length(intersect(celli, cellj))/length(celli)\n",
    "        res <- rbind(res, c(i, j, inter))\n",
    "    }\n",
    "}\n",
    "res = as.data.frame(res)\n",
    "res$V3 <- as.double(res$V3)\n",
    "res <- res %>% group_by(V1) %>% filter(V3 == max(V3))\n",
    "res$V4 <- paste(res$V2, res$V1, sep = '_')\n",
    "\n",
    "Pmar@meta.data$AST <- vapply(Pmar@meta.data$`AST.res.0.3`, FUN = function(x){\n",
    "    return(unlist(res[res$V1 == x, 'V4']))\n",
    "}, FUN.VALUE = character(1))"
   ]
  },
  {
   "cell_type": "code",
   "execution_count": 1,
   "id": "8ff2e11b",
   "metadata": {},
   "outputs": [],
   "source": [
    "Hsap <- readRDS('../2.SAM_reclustering/SAM/Hsap_Ast.15.30.2500.DonorID.rds')\n",
    "Mmus <- readRDS('../2.SAM_reclustering/SAM/Mmus_Ast.15.30.2500.DonorID.rds')\n",
    "Pvit <- readRDS('../2.SAM_reclustering/SAM/Pvit_Ast.15.30.2500.DonorID.rds')\n",
    "Pmar <- readRDS('../2.SAM_reclustering/SAM/Pmar_Ast.15.30.2500.DonorID.rds')"
   ]
  },
  {
   "cell_type": "code",
   "execution_count": null,
   "id": "ab89f481",
   "metadata": {},
   "outputs": [],
   "source": []
  },
  {
   "cell_type": "code",
   "execution_count": null,
   "id": "a9d335aa",
   "metadata": {},
   "outputs": [],
   "source": [
    "Mmus@meta.data$AST <- factor(Mmus@meta.data$AST, levels = rev(c('Olfactory astrocytes', 'Subventricular zone radial glia-like cells',\n",
    "                                                           'Telencephalon astrocytes, protoplasmic', 'Telencephalon astrocytes, fibrous',\n",
    "                                                           'Non-telencephalon astrocytes', 'Non-telencephalon astrocytes, protoplasmic',\n",
    "                                                           'Non-telencephalon astrocytes, fibrous', 'Dorsal midbrain Myoc-expressing astrocyte-like',\n",
    "                                                           'Bergmann glia')))\n",
    "\n",
    "Hsap@meta.data$AST <- factor(Hsap@meta.data$AST, levels = rev(c('Cerebral cortex (Cx) _0', 'Cerebral cortex (Cx) _4',\n",
    "                                                               'Basal forebrain (BF) _9', 'Basal nuclei (BN) _2', 'Basal nuclei (BN) _8',\n",
    "                                                               'Head of hippocampus (HiH) _1', 'Thalamus (THM) _5', 'Hypothalamus (HTH) _7',\n",
    "                                                               'Cerebellum (CB) _3', 'Cerebellum (CB) _6')))\n",
    "\n",
    "Pvit@meta.data$AST <- factor(Pvit@meta.data$AST, levels = rev(c('Telencephalon_0', 'Telencephalon_2', 'Telencephalon_7',\n",
    "                                                               'Thalamus+Hypothalamus+Midbrain_1', 'Thalamus+Hypothalamus+Midbrain_3',\n",
    "                                                               'Thalamus+Hypothalamus+Midbrain_4','Thalamus+Hypothalamus+Midbrain_6',\n",
    "                                                               'Thalamus+Hypothalamus+Midbrain_8','Thalamus+Hypothalamus+Midbrain_9',\n",
    "                                                               'Cerebellum_5')))\n",
    "\n",
    "Pmar@meta.data$AST <- factor(Pmar@meta.data$AST, levels = rev(c('Prosencephalon_1','Prosencephalon_3','Prosencephalon_7',\n",
    "                                                               'Prosencephalon_8','Diencephalon_4','Diencephalon/Mesencephalon_5',\n",
    "                                                               'Diencephalon/Mesencephalon_6','Diencephalon/Mesencephalon_9',\n",
    "                                                               'Mesencephalon/Rhombencephalon_0','Mesencephalon/Rhombencephalon_2')))\n",
    "\n",
    "Idents(Mmus) <- 'AST'\n",
    "Idents(Hsap) <- 'AST'\n",
    "Idents(Pvit) <- 'AST'\n",
    "Idents(Pmar) <- 'AST'"
   ]
  },
  {
   "cell_type": "code",
   "execution_count": 46,
   "id": "e42ba5e1",
   "metadata": {},
   "outputs": [
    {
     "name": "stderr",
     "output_type": "stream",
     "text": [
      "Warning message:\n",
      "“The following requested variables were not found: IGSF1”\n"
     ]
    },
    {
     "data": {
      "text/html": [
       "<strong>pdf:</strong> 2"
      ],
      "text/latex": [
       "\\textbf{pdf:} 2"
      ],
      "text/markdown": [
       "**pdf:** 2"
      ],
      "text/plain": [
       "pdf \n",
       "  2 "
      ]
     },
     "metadata": {},
     "output_type": "display_data"
    }
   ],
   "source": [
    "p2 <- DotPlot(Mmus, scale.max = 10, features = c('Sphk1','Foxg1','Slc17a7','Slc17a6','Igsf1','En1','Aplnr','Gdf10','Pax3', 'Mybpc1',\n",
    "                                   'Tfap2c','Gfap')) + theme(axis.text.x = element_text(angle = 90))\n",
    "p1 <- DotPlot(Hsap, scale.max = 10, features = c('ENSG00000176170','ENSG00000176165','ENSG00000104888','ENSG00000091664',\n",
    "                                 'ENSG00000147255','ENSG00000163064','ENSG00000134817','ENSG00000266524','ENSG00000135903', 'ENSG00000196091',\n",
    "                                   'ENSG00000087510','ENSG00000131095')) + theme(axis.text.x = element_text(angle = 90))\n",
    "p3 <- DotPlot(Pvit, scale.max = 10, features = toupper(c('Sphk1','Foxg1','Slc17a7','Slc17a6','Igsf1','En1','Aplnr','DRAXIN','Pax3', 'Mybpc1',\n",
    "                                   'Tfap2c','Gfap'))) + theme(axis.text.x = element_text(angle = 90))\n",
    "p4 <- DotPlot(Pmar, scale.max = 10, features = c('MSTRG.16654', 'MSTRG.10939','PMZ-0043056','MSTRG.857',\n",
    "                                        'MSTRG.4830', 'MSTRG.18473')) + theme(axis.text.x = element_text(angle = 90))\n",
    "pdf('figures/AST_subtype.dotplot.pdf', width = 32, height = 8)\n",
    "p1|p2|p3|p4\n",
    "dev.off()"
   ]
  },
  {
   "cell_type": "code",
   "execution_count": 51,
   "id": "3fe3728c",
   "metadata": {},
   "outputs": [],
   "source": [
    "saveRDS(Hsap, '../2.SAM_reclustering/SAM/Hsap_Ast.15.30.2500.DonorID.rds')\n",
    "saveRDS(Mmus, '../2.SAM_reclustering/SAM/Mmus_Ast.15.30.2500.DonorID.rds')\n",
    "saveRDS(Pvit, '../2.SAM_reclustering/SAM/Pvit_Ast.15.30.2500.DonorID.rds')\n",
    "saveRDS(Pmar, '../2.SAM_reclustering/SAM/Pmar_Ast.15.30.2500.DonorID.rds')"
   ]
  },
  {
   "cell_type": "code",
   "execution_count": null,
   "id": "21d7d2ab",
   "metadata": {},
   "outputs": [],
   "source": [
    "Hsap <- readRDS('../2.SAM_reclustering/SAM/Hsap_Ast.15.30.2500.DonorID.rds')\n",
    "Mmus <- readRDS('../2.SAM_reclustering/SAM/Mmus_Ast.15.30.2500.DonorID.rds')\n",
    "Pvit <- readRDS('../2.SAM_reclustering/SAM/Pvit_Ast.15.30.2500.DonorID.rds')\n",
    "Pmar <- readRDS('../2.SAM_reclustering/SAM/Pmar_Ast.15.30.2500.DonorID.rds')"
   ]
  }
 ],
 "metadata": {
  "kernelspec": {
   "display_name": "R [conda env:sc]",
   "language": "R",
   "name": "conda-env-sc-r"
  },
  "language_info": {
   "codemirror_mode": "r",
   "file_extension": ".r",
   "mimetype": "text/x-r-source",
   "name": "R",
   "pygments_lexer": "r",
   "version": "4.3.2"
  }
 },
 "nbformat": 4,
 "nbformat_minor": 5
}
