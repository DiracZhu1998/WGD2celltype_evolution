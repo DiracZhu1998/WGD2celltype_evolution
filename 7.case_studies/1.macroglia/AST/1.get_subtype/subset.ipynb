{
 "cells": [
  {
   "cell_type": "code",
   "execution_count": 1,
   "id": "89c9f9c9-91fb-40cf-bfa3-94183bbf9b60",
   "metadata": {},
   "outputs": [],
   "source": [
    "import anndata as ad\n",
    "import scanpy as sc\n",
    "import pandas as pd"
   ]
  },
  {
   "cell_type": "code",
   "execution_count": 2,
   "id": "07af0212-72ed-47cb-9014-a2a4f030c9ac",
   "metadata": {},
   "outputs": [],
   "source": [
    "path = \"/mnt/data01/yuanzhen/01.Vertebrate_cell_evo/01.data/02.atlas_final/2.samap/4.final/\""
   ]
  },
  {
   "cell_type": "code",
   "execution_count": 5,
   "id": "29dc0c20-72e6-4c42-be94-824f1b03ce52",
   "metadata": {},
   "outputs": [],
   "source": [
    "Pmar = ad.read_h5ad(f'{path}/Pmar.non_neurons.iter_cluster_annotated.h5ad')\n",
    "Pvit = ad.read_h5ad(f'{path}/Pvit.non_neurons.iter_cluster_annotated.h5ad')\n",
    "Mmus = ad.read_h5ad(f'{path}/Mmus.non_neurons.iter_cluster_annotated.h5ad')\n",
    "Hsap = ad.read_h5ad(f'{path}/Hsap.non_neurons.iter_cluster_annotated.h5ad')"
   ]
  },
  {
   "cell_type": "code",
   "execution_count": 13,
   "id": "18a79ff5",
   "metadata": {},
   "outputs": [],
   "source": [
    "Pmar_Ast = Pmar[Pmar.obs['Refined family'].isin(['Astrocytes'])]\n",
    "Pvit_Ast = Pvit[Pvit.obs['Refined family'].isin(['Astrocytes'])]\n",
    "Mmus_Ast = Mmus[Mmus.obs['Refined family'].isin(['Astrocytes'])]\n",
    "Hsap_Ast = Hsap[Hsap.obs['Refined family'].isin(['Astrocytes'])]"
   ]
  },
  {
   "cell_type": "code",
   "execution_count": 15,
   "id": "28fafd31",
   "metadata": {},
   "outputs": [],
   "source": [
    "Pmar_Ast.write_h5ad(\"Pmar.Ast.h5ad\", compression='gzip')\n",
    "Pvit_Ast.write_h5ad(\"Pvit.Ast.h5ad\", compression='gzip')\n",
    "Mmus_Ast.write_h5ad(\"Mmus.Ast.h5ad\", compression='gzip')\n",
    "Hsap_Ast.write_h5ad(\"Hsap.Ast.h5ad\", compression='gzip')"
   ]
  },
  {
   "cell_type": "code",
   "execution_count": null,
   "id": "caf3b548",
   "metadata": {},
   "outputs": [],
   "source": []
  }
 ],
 "metadata": {
  "kernelspec": {
   "display_name": "Python [conda env:scpy39]",
   "language": "python",
   "name": "conda-env-scpy39-py"
  },
  "language_info": {
   "codemirror_mode": {
    "name": "ipython",
    "version": 3
   },
   "file_extension": ".py",
   "mimetype": "text/x-python",
   "name": "python",
   "nbconvert_exporter": "python",
   "pygments_lexer": "ipython3",
   "version": "3.9.18"
  }
 },
 "nbformat": 4,
 "nbformat_minor": 5
}
