{
 "cells": [
  {
   "cell_type": "code",
   "execution_count": 1,
   "id": "65229997",
   "metadata": {},
   "outputs": [],
   "source": [
    "suppressPackageStartupMessages({\n",
    "    require(igraph)\n",
    "    library(dplyr)\n",
    "    library(ggvenn)\n",
    "    library(tidyr)\n",
    "    library(ggpubr)\n",
    "    library(rstatix)\n",
    "})"
   ]
  },
  {
   "cell_type": "code",
   "execution_count": 3,
   "id": "bfdc646d",
   "metadata": {},
   "outputs": [],
   "source": [
    "species <- c('Hsap','Mmus','Pvit', 'Pmar')\n",
    "\n",
    "duplicate_pairs <- readRDS(\"Combined.SSD_WGD.rds\")\n",
    "Hsap2Mmus <- read.table(\"/mnt/data01/yuanzhen/01.Vertebrate_cell_evo/02.gene_relationships/run4/results/Ortho_pipeline/OrthoFinder/RBH_results/RBH.Hsap.Mmus.tsv\", header = T)\n",
    "Mmus2Hsap <- read.table(\"/mnt/data01/yuanzhen/01.Vertebrate_cell_evo/02.gene_relationships/run4/results/Ortho_pipeline/OrthoFinder/RBH_results/RBH.Mmus.Hsap.tsv\", header = T)\n",
    "Hsap2Pvit <- read.table(\"/mnt/data01/yuanzhen/01.Vertebrate_cell_evo/02.gene_relationships/run4/results/Ortho_pipeline/OrthoFinder/RBH_results/RBH.Hsap.Pvit.tsv\", header = T)\n",
    "Pvit2Hsap <- read.table(\"/mnt/data01/yuanzhen/01.Vertebrate_cell_evo/02.gene_relationships/run4/results/Ortho_pipeline/OrthoFinder/RBH_results/RBH.Pvit.Hsap.tsv\", header = T)\n",
    "Mmus2Pvit <- read.table(\"/mnt/data01/yuanzhen/01.Vertebrate_cell_evo/02.gene_relationships/run4/results/Ortho_pipeline/OrthoFinder/RBH_results/RBH.Mmus.Pvit.tsv\", header = T)\n",
    "Pvit2Mmus <- read.table(\"/mnt/data01/yuanzhen/01.Vertebrate_cell_evo/02.gene_relationships/run4/results/Ortho_pipeline/OrthoFinder/RBH_results/RBH.Pvit.Mmus.tsv\", header = T)\n",
    "\n",
    "Hsap2Pmar <- read.table(\"/mnt/data01/yuanzhen/01.Vertebrate_cell_evo/02.gene_relationships/run4/results/Ortho_pipeline/OrthoFinder/RBH_results/RBH.Hsap.Pmar.tsv\", header = T)\n",
    "Pmar2Hsap <- read.table(\"/mnt/data01/yuanzhen/01.Vertebrate_cell_evo/02.gene_relationships/run4/results/Ortho_pipeline/OrthoFinder/RBH_results/RBH.Pmar.Hsap.tsv\", header = T)\n",
    "Mmus2Pmar <- read.table(\"/mnt/data01/yuanzhen/01.Vertebrate_cell_evo/02.gene_relationships/run4/results/Ortho_pipeline/OrthoFinder/RBH_results/RBH.Mmus.Pmar.tsv\", header = T)\n",
    "Pmar2Mmus <- read.table(\"/mnt/data01/yuanzhen/01.Vertebrate_cell_evo/02.gene_relationships/run4/results/Ortho_pipeline/OrthoFinder/RBH_results/RBH.Pmar.Mmus.tsv\", header = T)\n",
    "Pvit2Pmar <- read.table(\"/mnt/data01/yuanzhen/01.Vertebrate_cell_evo/02.gene_relationships/run4/results/Ortho_pipeline/OrthoFinder/RBH_results/RBH.Pvit.Pmar.tsv\", header = T)\n",
    "Pmar2Pvit <- read.table(\"/mnt/data01/yuanzhen/01.Vertebrate_cell_evo/02.gene_relationships/run4/results/Ortho_pipeline/OrthoFinder/RBH_results/RBH.Pmar.Pvit.tsv\", header = T)\n",
    "\n",
    "\n",
    "# pay attention, hsap2mmus just species linkage orthologs, not dup1 not dup2 \n",
    "colnames(Hsap2Mmus) <- c(\"dup1\",\"dup2\")\n",
    "colnames(Mmus2Hsap) <- c(\"dup1\",\"dup2\")\n",
    "colnames(Hsap2Pvit) <- c(\"dup1\",\"dup2\")\n",
    "colnames(Pvit2Hsap) <- c(\"dup1\",\"dup2\")\n",
    "colnames(Mmus2Pvit) <- c(\"dup1\",\"dup2\")\n",
    "colnames(Pvit2Mmus) <- c(\"dup1\",\"dup2\")\n",
    "colnames(Hsap2Pmar) <- c(\"dup1\",\"dup2\")\n",
    "colnames(Pmar2Hsap) <- c(\"dup1\",\"dup2\")\n",
    "colnames(Mmus2Pmar) <- c(\"dup1\",\"dup2\")\n",
    "colnames(Pmar2Mmus) <- c(\"dup1\",\"dup2\")\n",
    "colnames(Pvit2Pmar) <- c(\"dup1\",\"dup2\")\n",
    "colnames(Pmar2Pvit) <- c(\"dup1\",\"dup2\")\n",
    "\n",
    "orthologs <- rbind(Hsap2Mmus,Mmus2Hsap,Hsap2Pvit,Pvit2Hsap,Mmus2Pvit,Pvit2Mmus,\n",
    "                   Hsap2Pmar,Pmar2Hsap,Mmus2Pmar,Pmar2Mmus,Pvit2Pmar,Pmar2Pvit)"
   ]
  },
  {
   "cell_type": "code",
   "execution_count": 8,
   "id": "53f07431",
   "metadata": {},
   "outputs": [],
   "source": [
    "Amniote_homologous_celltypes <- read.delim('/mnt/data01/yuanzhen/01.Vertebrate_cell_evo/01.data/02.atlas_final/3.plotting/8.plot_dotplot_cross_species/celltype_ordering.v2.txt', header = F)$V1\n",
    "Vertebrate_homologous_celltypes <- Amniote_homologous_celltypes[!Amniote_homologous_celltypes %in% \n",
    "                                                                c('Oligodendrocyte precursor cells','Oligodendrocytes')]"
   ]
  },
  {
   "cell_type": "code",
   "execution_count": 4,
   "id": "95a3946c",
   "metadata": {},
   "outputs": [],
   "source": [
    "# combined paralogs and orthologs file together, and build graph\n",
    "Combined_pairs_ssd <- duplicate_pairs %>% filter(species %in% species & type == \"SSD\") %>% select(c(\"dup1\", \"dup2\"))\n",
    "Combined_pairs_wgd <- duplicate_pairs %>% filter(species %in% species & type == \"WGD\") %>% select(c(\"dup1\", \"dup2\"))\n",
    "\n",
    "Combined_pairs_ssd <- rbind(orthologs, Combined_pairs_ssd)\n",
    "Combined_pairs_wgd <- rbind(orthologs, Combined_pairs_wgd)"
   ]
  },
  {
   "cell_type": "code",
   "execution_count": 5,
   "id": "e79b6b7b",
   "metadata": {},
   "outputs": [],
   "source": [
    "background <- readRDS(\"/mnt/data01/yuanzhen/01.Vertebrate_cell_evo/04.ohno_para_significance/0bin/gene_bg.rds\")"
   ]
  },
  {
   "cell_type": "code",
   "execution_count": 6,
   "id": "2539f3f7",
   "metadata": {},
   "outputs": [],
   "source": [
    "# genes in our dataset\n",
    "Combined_pairs_ssd <- Combined_pairs_ssd[Combined_pairs_ssd$dup1 %in% background$gene & \n",
    "                                 Combined_pairs_ssd$dup2 %in% background$gene, ]\n",
    "Combined_pairs_wgd <- Combined_pairs_wgd[Combined_pairs_wgd$dup1 %in% background$gene & \n",
    "                                 Combined_pairs_wgd$dup2 %in% background$gene, ]"
   ]
  },
  {
   "cell_type": "code",
   "execution_count": 7,
   "id": "55914a26",
   "metadata": {},
   "outputs": [],
   "source": [
    "# get SSD/WGD families\n",
    "g <- graph_from_data_frame(Combined_pairs_ssd, directed = FALSE)\n",
    "components <- components(g)$membership\n",
    "SSD_pairs <- split(names(components), components)\n",
    "g <- graph_from_data_frame(Combined_pairs_wgd, directed = FALSE)\n",
    "components <- components(g)$membership\n",
    "WGD_pairs <- split(names(components), components)"
   ]
  },
  {
   "cell_type": "code",
   "execution_count": 8,
   "id": "702bb236",
   "metadata": {},
   "outputs": [],
   "source": [
    "# get expression domain based on tri score\n",
    "markers <- readRDS(\"exp_domain/combined.exp_tri_score.rds\")"
   ]
  },
  {
   "cell_type": "code",
   "execution_count": 10,
   "id": "d250feda",
   "metadata": {},
   "outputs": [],
   "source": [
    "# function to get family, marker, and orthologs information \n",
    "get_family_switching <- function(family, clusters, markers, species1, species2, orthologs){\n",
    "    # filter WGD/SSD pairs to contain only two species\n",
    "    bg_tmp <- background %>% filter(species %in% c(species1, species2))\n",
    "    select <- lapply(seq_along(family), FUN = function(i){\n",
    "        x = family[[i]]\n",
    "        names(x) <- bg_tmp[match(x, bg_tmp$gene), \"species\"]\n",
    "        if ( sum(table(names(x)) >1) >0){\n",
    "            return(i)\n",
    "        }\n",
    "    })\n",
    "    family <- family[unlist(select)]\n",
    "    family <- lapply(family, FUN = function(i){\n",
    "        return(i[i %in% bg_tmp$gene]) # remove other species gene ID\n",
    "    })\n",
    "    \n",
    "    # filter markers to contain only two species\n",
    "    markers <- markers %>% filter(species %in% c(species1, species2))\n",
    "\n",
    "    info <- Reduce(rbind, lapply(clusters, FUN = function(c){\n",
    "        # filter to contain markers\n",
    "        markers_tmp <- unique(unlist(markers %>% filter(cluster == c) %>% select(\"gene\")))\n",
    "        select <- lapply(seq_along(family), FUN = function(i){\n",
    "            x = family[[i]]\n",
    "            if (sum( x %in% markers_tmp)){ # contain marker(s)\n",
    "                return(i)\n",
    "            }\n",
    "        })\n",
    "        family_sub <- family[unlist(select)]\n",
    "        \n",
    "        info <- Reduce(rbind, lapply(names(family_sub), FUN = function(x){\n",
    "            pairs <- family_sub[[x]]\n",
    "            results <- data.frame(gene = pairs, markers = FALSE, species = NA)\n",
    "            results$markers <- pairs %in% markers_tmp\n",
    "            results$species <- bg_tmp[match(pairs, bg_tmp$gene), \"species\"]\n",
    "            #results$gene <- ID2name[match(pairs, ID2name$Gene.stable.ID), \"Gene.name\"]\n",
    "            results$orthogroup_index <- x\n",
    "            results$cluster <- c\n",
    "            results$orthologs <- ifelse(pairs %in% orthologs$dup1, orthologs[match(pairs, orthologs$dup1), 2], \n",
    "                                    ifelse(pairs %in% orthologs$dup2, orthologs[match(pairs, orthologs$dup2), 1], FALSE))\n",
    "            results$orthologs_is_marker <- results[match(results$orthologs, results$gene), \"markers\"]\n",
    "            return(results)\n",
    "        }))\n",
    "        return(info)\n",
    "    }))\n",
    "    return(info)\n",
    "}"
   ]
  },
  {
   "cell_type": "code",
   "execution_count": 13,
   "id": "25cd4ec0",
   "metadata": {},
   "outputs": [],
   "source": [
    "info_wgd_Hsap2Mmus <- get_family_switching(family = WGD_pairs, clusters = unique(markers$cluster), markers, species1 = \"Hsap\", species2 = \"Mmus\", orthologs = Hsap2Mmus)\n",
    "info_ssd_Hsap2Mmus <- get_family_switching(family = SSD_pairs, clusters = unique(markers$cluster), markers, species1 = \"Hsap\", species2 = \"Mmus\", orthologs = Hsap2Mmus)\n",
    "\n",
    "info_wgd_Hsap2Pvit <- get_family_switching(family = WGD_pairs, clusters = unique(markers$cluster), markers, species1 = \"Hsap\", species2 = \"Pvit\", orthologs = Hsap2Pvit)\n",
    "info_ssd_Hsap2Pvit <- get_family_switching(family = SSD_pairs, clusters = unique(markers$cluster), markers, species1 = \"Hsap\", species2 = \"Pvit\", orthologs = Hsap2Pvit)\n",
    "\n",
    "info_wgd_Mmus2Pvit <- get_family_switching(family = WGD_pairs, clusters = unique(markers$cluster), markers, species1 = \"Mmus\", species2 = \"Pvit\", orthologs = Mmus2Pvit)\n",
    "info_ssd_Mmus2Pvit <- get_family_switching(family = SSD_pairs, clusters = unique(markers$cluster), markers, species1 = \"Mmus\", species2 = \"Pvit\", orthologs = Mmus2Pvit)\n",
    "\n",
    "info_wgd_Hsap2Pmar <- get_family_switching(family = WGD_pairs, clusters = unique(markers$cluster), markers, species1 = \"Hsap\", species2 = \"Pmar\", orthologs = Hsap2Pmar)\n",
    "info_ssd_Hsap2Pmar <- get_family_switching(family = SSD_pairs, clusters = unique(markers$cluster), markers, species1 = \"Hsap\", species2 = \"Pmar\", orthologs = Hsap2Pmar)\n",
    "\n",
    "info_wgd_Mmus2Pmar <- get_family_switching(family = WGD_pairs, clusters = unique(markers$cluster), markers, species1 = \"Mmus\", species2 = \"Pmar\", orthologs = Mmus2Pmar)\n",
    "info_ssd_Mmus2Pmar <- get_family_switching(family = SSD_pairs, clusters = unique(markers$cluster), markers, species1 = \"Mmus\", species2 = \"Pmar\", orthologs = Mmus2Pmar)\n",
    "\n",
    "info_wgd_Pvit2Pmar <- get_family_switching(family = WGD_pairs, clusters = unique(markers$cluster), markers, species1 = \"Pvit\", species2 = \"Pmar\", orthologs = Pvit2Pmar)\n",
    "info_ssd_Pvit2Pmar <- get_family_switching(family = SSD_pairs, clusters = unique(markers$cluster), markers, species1 = \"Pvit\", species2 = \"Pmar\", orthologs = Pvit2Pmar)\n"
   ]
  },
  {
   "cell_type": "code",
   "execution_count": 12,
   "id": "1bd94680",
   "metadata": {},
   "outputs": [
    {
     "data": {
      "text/html": [
       "<table class=\"dataframe\">\n",
       "<caption>A data.frame: 6 × 7</caption>\n",
       "<thead>\n",
       "\t<tr><th></th><th scope=col>gene</th><th scope=col>markers</th><th scope=col>species</th><th scope=col>orthogroup_index</th><th scope=col>cluster</th><th scope=col>orthologs</th><th scope=col>orthologs_is_marker</th></tr>\n",
       "\t<tr><th></th><th scope=col>&lt;chr&gt;</th><th scope=col>&lt;lgl&gt;</th><th scope=col>&lt;chr&gt;</th><th scope=col>&lt;chr&gt;</th><th scope=col>&lt;chr&gt;</th><th scope=col>&lt;chr&gt;</th><th scope=col>&lt;lgl&gt;</th></tr>\n",
       "</thead>\n",
       "<tbody>\n",
       "\t<tr><th scope=row>1</th><td>ENSG00000167772</td><td> TRUE</td><td>Hsap</td><td>29</td><td>Astrocytes</td><td>Angptl4</td><td>FALSE</td></tr>\n",
       "\t<tr><th scope=row>2</th><td>ENSG00000171560</td><td>FALSE</td><td>Hsap</td><td>29</td><td>Astrocytes</td><td>Fga    </td><td>FALSE</td></tr>\n",
       "\t<tr><th scope=row>3</th><td>ENSG00000130720</td><td>FALSE</td><td>Hsap</td><td>29</td><td>Astrocytes</td><td>Fibcd1 </td><td>FALSE</td></tr>\n",
       "\t<tr><th scope=row>4</th><td>ENSG00000136859</td><td>FALSE</td><td>Hsap</td><td>29</td><td>Astrocytes</td><td>Angptl2</td><td>FALSE</td></tr>\n",
       "\t<tr><th scope=row>5</th><td>ENSG00000116194</td><td>FALSE</td><td>Hsap</td><td>29</td><td>Astrocytes</td><td>Angptl1</td><td>FALSE</td></tr>\n",
       "\t<tr><th scope=row>6</th><td>ENSG00000130812</td><td>FALSE</td><td>Hsap</td><td>29</td><td>Astrocytes</td><td>Angptl6</td><td>FALSE</td></tr>\n",
       "</tbody>\n",
       "</table>\n"
      ],
      "text/latex": [
       "A data.frame: 6 × 7\n",
       "\\begin{tabular}{r|lllllll}\n",
       "  & gene & markers & species & orthogroup\\_index & cluster & orthologs & orthologs\\_is\\_marker\\\\\n",
       "  & <chr> & <lgl> & <chr> & <chr> & <chr> & <chr> & <lgl>\\\\\n",
       "\\hline\n",
       "\t1 & ENSG00000167772 &  TRUE & Hsap & 29 & Astrocytes & Angptl4 & FALSE\\\\\n",
       "\t2 & ENSG00000171560 & FALSE & Hsap & 29 & Astrocytes & Fga     & FALSE\\\\\n",
       "\t3 & ENSG00000130720 & FALSE & Hsap & 29 & Astrocytes & Fibcd1  & FALSE\\\\\n",
       "\t4 & ENSG00000136859 & FALSE & Hsap & 29 & Astrocytes & Angptl2 & FALSE\\\\\n",
       "\t5 & ENSG00000116194 & FALSE & Hsap & 29 & Astrocytes & Angptl1 & FALSE\\\\\n",
       "\t6 & ENSG00000130812 & FALSE & Hsap & 29 & Astrocytes & Angptl6 & FALSE\\\\\n",
       "\\end{tabular}\n"
      ],
      "text/markdown": [
       "\n",
       "A data.frame: 6 × 7\n",
       "\n",
       "| <!--/--> | gene &lt;chr&gt; | markers &lt;lgl&gt; | species &lt;chr&gt; | orthogroup_index &lt;chr&gt; | cluster &lt;chr&gt; | orthologs &lt;chr&gt; | orthologs_is_marker &lt;lgl&gt; |\n",
       "|---|---|---|---|---|---|---|---|\n",
       "| 1 | ENSG00000167772 |  TRUE | Hsap | 29 | Astrocytes | Angptl4 | FALSE |\n",
       "| 2 | ENSG00000171560 | FALSE | Hsap | 29 | Astrocytes | Fga     | FALSE |\n",
       "| 3 | ENSG00000130720 | FALSE | Hsap | 29 | Astrocytes | Fibcd1  | FALSE |\n",
       "| 4 | ENSG00000136859 | FALSE | Hsap | 29 | Astrocytes | Angptl2 | FALSE |\n",
       "| 5 | ENSG00000116194 | FALSE | Hsap | 29 | Astrocytes | Angptl1 | FALSE |\n",
       "| 6 | ENSG00000130812 | FALSE | Hsap | 29 | Astrocytes | Angptl6 | FALSE |\n",
       "\n"
      ],
      "text/plain": [
       "  gene            markers species orthogroup_index cluster    orthologs\n",
       "1 ENSG00000167772  TRUE   Hsap    29               Astrocytes Angptl4  \n",
       "2 ENSG00000171560 FALSE   Hsap    29               Astrocytes Fga      \n",
       "3 ENSG00000130720 FALSE   Hsap    29               Astrocytes Fibcd1   \n",
       "4 ENSG00000136859 FALSE   Hsap    29               Astrocytes Angptl2  \n",
       "5 ENSG00000116194 FALSE   Hsap    29               Astrocytes Angptl1  \n",
       "6 ENSG00000130812 FALSE   Hsap    29               Astrocytes Angptl6  \n",
       "  orthologs_is_marker\n",
       "1 FALSE              \n",
       "2 FALSE              \n",
       "3 FALSE              \n",
       "4 FALSE              \n",
       "5 FALSE              \n",
       "6 FALSE              "
      ]
     },
     "metadata": {},
     "output_type": "display_data"
    }
   ],
   "source": [
    "head(info_wgd_Hsap2Mmus)"
   ]
  },
  {
   "cell_type": "code",
   "execution_count": 14,
   "id": "f17f635e",
   "metadata": {},
   "outputs": [
    {
     "name": "stderr",
     "output_type": "stream",
     "text": [
      "\u001b[1m\u001b[22m`summarise()` has grouped output by 'cluster'. You can override using the\n",
      "`.groups` argument.\n",
      "\u001b[1m\u001b[22m`summarise()` has grouped output by 'cluster'. You can override using the\n",
      "`.groups` argument.\n",
      "\u001b[1m\u001b[22m`summarise()` has grouped output by 'cluster'. You can override using the\n",
      "`.groups` argument.\n",
      "\u001b[1m\u001b[22m`summarise()` has grouped output by 'cluster'. You can override using the\n",
      "`.groups` argument.\n",
      "\u001b[1m\u001b[22m`summarise()` has grouped output by 'cluster'. You can override using the\n",
      "`.groups` argument.\n",
      "\u001b[1m\u001b[22m`summarise()` has grouped output by 'cluster'. You can override using the\n",
      "`.groups` argument.\n",
      "\u001b[1m\u001b[22m`summarise()` has grouped output by 'cluster'. You can override using the\n",
      "`.groups` argument.\n",
      "\u001b[1m\u001b[22m`summarise()` has grouped output by 'cluster'. You can override using the\n",
      "`.groups` argument.\n",
      "\u001b[1m\u001b[22m`summarise()` has grouped output by 'cluster'. You can override using the\n",
      "`.groups` argument.\n",
      "\u001b[1m\u001b[22m`summarise()` has grouped output by 'cluster'. You can override using the\n",
      "`.groups` argument.\n",
      "\u001b[1m\u001b[22m`summarise()` has grouped output by 'cluster'. You can override using the\n",
      "`.groups` argument.\n",
      "\u001b[1m\u001b[22m`summarise()` has grouped output by 'cluster'. You can override using the\n",
      "`.groups` argument.\n"
     ]
    }
   ],
   "source": [
    "# calculate the ratio of paralog switching\n",
    "details_switching_wgd_Hsap2Mmus <- info_wgd_Hsap2Mmus %>% group_by(cluster, orthogroup_index) %>% \n",
    "    summarise(\n",
    "        shared = ifelse( sum(markers == TRUE & orthologs_is_marker == TRUE, na.rm = TRUE) > 0,\"YES\", \"NO\"),\n",
    "        switching = ifelse( sum(markers == FALSE & orthologs_is_marker == TRUE, na.rm = TRUE) > 0, \"YES\", \"NO\"),\n",
    "        species = \"Hsap_vs_Mmus\", type = \"WGD\"\n",
    "        ) %>% ungroup()\n",
    "details_switching_ssd_Hsap2Mmus <- info_ssd_Hsap2Mmus %>% group_by(cluster, orthogroup_index) %>% \n",
    "    summarise(\n",
    "        shared = ifelse( sum(markers == TRUE & orthologs_is_marker == TRUE, na.rm = TRUE) > 0,\"YES\", \"NO\"),\n",
    "        switching = ifelse( sum(markers == FALSE & orthologs_is_marker == TRUE, na.rm = TRUE) > 0, \"YES\", \"NO\"),\n",
    "        species = \"Hsap_vs_Mmus\", type = \"SSD\"\n",
    "        ) %>% ungroup()\n",
    "\n",
    "details_switching_wgd_Hsap2Pvit <- info_wgd_Hsap2Pvit %>% group_by(cluster, orthogroup_index) %>% \n",
    "    summarise(\n",
    "        shared = ifelse( sum(markers == TRUE & orthologs_is_marker == TRUE, na.rm = TRUE) > 0,\"YES\", \"NO\"),\n",
    "        switching = ifelse( sum(markers == FALSE & orthologs_is_marker == TRUE, na.rm = TRUE) > 0, \"YES\", \"NO\"),\n",
    "        species = \"Hsap_vs_Pvit\", type = \"WGD\"\n",
    "        ) %>% ungroup()\n",
    "details_switching_ssd_Hsap2Pvit <- info_ssd_Hsap2Pvit %>% group_by(cluster, orthogroup_index) %>% \n",
    "    summarise(\n",
    "        shared = ifelse( sum(markers == TRUE & orthologs_is_marker == TRUE, na.rm = TRUE) > 0,\"YES\", \"NO\"),\n",
    "        switching = ifelse( sum(markers == FALSE & orthologs_is_marker == TRUE, na.rm = TRUE) > 0, \"YES\", \"NO\"),\n",
    "        species = \"Hsap_vs_Pvit\", type = \"SSD\"\n",
    "        ) %>% ungroup()\n",
    "\n",
    "details_switching_wgd_Mmus2Pvit <- info_wgd_Mmus2Pvit %>% group_by(cluster, orthogroup_index) %>% \n",
    "    summarise(\n",
    "        shared = ifelse( sum(markers == TRUE & orthologs_is_marker == TRUE, na.rm = TRUE) > 0,\"YES\", \"NO\"),\n",
    "        switching = ifelse( sum(markers == FALSE & orthologs_is_marker == TRUE, na.rm = TRUE) > 0, \"YES\", \"NO\"),\n",
    "        species = \"Mmus_vs_Pvit\", type = \"WGD\"\n",
    "        ) %>% ungroup()\n",
    "details_switching_ssd_Mmus2Pvit <- info_ssd_Mmus2Pvit %>% group_by(cluster, orthogroup_index) %>% \n",
    "    summarise(\n",
    "        shared = ifelse( sum(markers == TRUE & orthologs_is_marker == TRUE, na.rm = TRUE) > 0,\"YES\", \"NO\"),\n",
    "        switching = ifelse( sum(markers == FALSE & orthologs_is_marker == TRUE, na.rm = TRUE) > 0, \"YES\", \"NO\"),\n",
    "        species = \"Mmus_vs_Pvit\", type = \"SSD\"\n",
    "        ) %>% ungroup()\n",
    "\n",
    "\n",
    "details_switching_wgd_Hsap2Pmar <- info_wgd_Hsap2Pmar %>% group_by(cluster, orthogroup_index) %>% \n",
    "    summarise(\n",
    "        shared = ifelse( sum(markers == TRUE & orthologs_is_marker == TRUE, na.rm = TRUE) > 0,\"YES\", \"NO\"),\n",
    "        switching = ifelse( sum(markers == FALSE & orthologs_is_marker == TRUE, na.rm = TRUE) > 0, \"YES\", \"NO\"),\n",
    "        species = \"Hsap_vs_Pmar\", type = \"WGD\"\n",
    "        ) %>% ungroup()\n",
    "details_switching_ssd_Hsap2Pmar <- info_ssd_Hsap2Pmar %>% group_by(cluster, orthogroup_index) %>% \n",
    "    summarise(\n",
    "        shared = ifelse( sum(markers == TRUE & orthologs_is_marker == TRUE, na.rm = TRUE) > 0,\"YES\", \"NO\"),\n",
    "        switching = ifelse( sum(markers == FALSE & orthologs_is_marker == TRUE, na.rm = TRUE) > 0, \"YES\", \"NO\"),\n",
    "        species = \"Hsap_vs_Pmar\", type = \"SSD\"\n",
    "        ) %>% ungroup()\n",
    "\n",
    "details_switching_wgd_Mmus2Pmar <- info_wgd_Mmus2Pmar %>% group_by(cluster, orthogroup_index) %>% \n",
    "    summarise(\n",
    "        shared = ifelse( sum(markers == TRUE & orthologs_is_marker == TRUE, na.rm = TRUE) > 0,\"YES\", \"NO\"),\n",
    "        switching = ifelse( sum(markers == FALSE & orthologs_is_marker == TRUE, na.rm = TRUE) > 0, \"YES\", \"NO\"),\n",
    "        species = \"Mmus_vs_Pmar\", type = \"WGD\"\n",
    "        ) %>% ungroup()\n",
    "details_switching_ssd_Mmus2Pmar <- info_ssd_Mmus2Pmar %>% group_by(cluster, orthogroup_index) %>% \n",
    "    summarise(\n",
    "        shared = ifelse( sum(markers == TRUE & orthologs_is_marker == TRUE, na.rm = TRUE) > 0,\"YES\", \"NO\"),\n",
    "        switching = ifelse( sum(markers == FALSE & orthologs_is_marker == TRUE, na.rm = TRUE) > 0, \"YES\", \"NO\"),\n",
    "        species = \"Mmus_vs_Pmar\", type = \"SSD\"\n",
    "        ) %>% ungroup()\n",
    "\n",
    "details_switching_wgd_Pvit2Pmar <- info_wgd_Pvit2Pmar %>% group_by(cluster, orthogroup_index) %>% \n",
    "    summarise(\n",
    "        shared = ifelse( sum(markers == TRUE & orthologs_is_marker == TRUE, na.rm = TRUE) > 0,\"YES\", \"NO\"),\n",
    "        switching = ifelse( sum(markers == FALSE & orthologs_is_marker == TRUE, na.rm = TRUE) > 0, \"YES\", \"NO\"),\n",
    "        species = \"Pvit_vs_Pmar\", type = \"WGD\"\n",
    "        ) %>% ungroup()\n",
    "details_switching_ssd_Pvit2Pmar <- info_ssd_Pvit2Pmar %>% group_by(cluster, orthogroup_index) %>% \n",
    "    summarise(\n",
    "        shared = ifelse( sum(markers == TRUE & orthologs_is_marker == TRUE, na.rm = TRUE) > 0,\"YES\", \"NO\"),\n",
    "        switching = ifelse( sum(markers == FALSE & orthologs_is_marker == TRUE, na.rm = TRUE) > 0, \"YES\", \"NO\"),\n",
    "        species = \"Pvit_vs_Pmar\", type = \"SSD\"\n",
    "        ) %>% ungroup()\n",
    "\n",
    "\n",
    "\n",
    "details_switching <- rbind(details_switching_wgd_Hsap2Mmus, details_switching_ssd_Hsap2Mmus,\n",
    "                          details_switching_wgd_Hsap2Pvit, details_switching_ssd_Hsap2Pvit,\n",
    "                          details_switching_wgd_Mmus2Pvit, details_switching_ssd_Mmus2Pvit,\n",
    "                          details_switching_wgd_Hsap2Pmar, details_switching_ssd_Hsap2Pmar,\n",
    "                          details_switching_wgd_Mmus2Pmar, details_switching_ssd_Mmus2Pmar,\n",
    "                          details_switching_wgd_Pvit2Pmar, details_switching_ssd_Pvit2Pmar\n",
    "                          )"
   ]
  },
  {
   "cell_type": "code",
   "execution_count": 15,
   "id": "39ddf262",
   "metadata": {},
   "outputs": [
    {
     "data": {
      "text/html": [
       "<table class=\"dataframe\">\n",
       "<caption>A tibble: 6 × 6</caption>\n",
       "<thead>\n",
       "\t<tr><th scope=col>cluster</th><th scope=col>orthogroup_index</th><th scope=col>shared</th><th scope=col>switching</th><th scope=col>species</th><th scope=col>type</th></tr>\n",
       "\t<tr><th scope=col>&lt;chr&gt;</th><th scope=col>&lt;chr&gt;</th><th scope=col>&lt;chr&gt;</th><th scope=col>&lt;chr&gt;</th><th scope=col>&lt;chr&gt;</th><th scope=col>&lt;chr&gt;</th></tr>\n",
       "</thead>\n",
       "<tbody>\n",
       "\t<tr><td>Vascular cells</td><td>988</td><td>YES</td><td>NO </td><td>Pvit_vs_Pmar</td><td>SSD</td></tr>\n",
       "\t<tr><td>Vascular cells</td><td>99 </td><td>NO </td><td>YES</td><td>Pvit_vs_Pmar</td><td>SSD</td></tr>\n",
       "\t<tr><td>Vascular cells</td><td>991</td><td>NO </td><td>YES</td><td>Pvit_vs_Pmar</td><td>SSD</td></tr>\n",
       "\t<tr><td>Vascular cells</td><td>994</td><td>NO </td><td>NO </td><td>Pvit_vs_Pmar</td><td>SSD</td></tr>\n",
       "\t<tr><td>Vascular cells</td><td>995</td><td>YES</td><td>YES</td><td>Pvit_vs_Pmar</td><td>SSD</td></tr>\n",
       "\t<tr><td>Vascular cells</td><td>998</td><td>NO </td><td>NO </td><td>Pvit_vs_Pmar</td><td>SSD</td></tr>\n",
       "</tbody>\n",
       "</table>\n"
      ],
      "text/latex": [
       "A tibble: 6 × 6\n",
       "\\begin{tabular}{llllll}\n",
       " cluster & orthogroup\\_index & shared & switching & species & type\\\\\n",
       " <chr> & <chr> & <chr> & <chr> & <chr> & <chr>\\\\\n",
       "\\hline\n",
       "\t Vascular cells & 988 & YES & NO  & Pvit\\_vs\\_Pmar & SSD\\\\\n",
       "\t Vascular cells & 99  & NO  & YES & Pvit\\_vs\\_Pmar & SSD\\\\\n",
       "\t Vascular cells & 991 & NO  & YES & Pvit\\_vs\\_Pmar & SSD\\\\\n",
       "\t Vascular cells & 994 & NO  & NO  & Pvit\\_vs\\_Pmar & SSD\\\\\n",
       "\t Vascular cells & 995 & YES & YES & Pvit\\_vs\\_Pmar & SSD\\\\\n",
       "\t Vascular cells & 998 & NO  & NO  & Pvit\\_vs\\_Pmar & SSD\\\\\n",
       "\\end{tabular}\n"
      ],
      "text/markdown": [
       "\n",
       "A tibble: 6 × 6\n",
       "\n",
       "| cluster &lt;chr&gt; | orthogroup_index &lt;chr&gt; | shared &lt;chr&gt; | switching &lt;chr&gt; | species &lt;chr&gt; | type &lt;chr&gt; |\n",
       "|---|---|---|---|---|---|\n",
       "| Vascular cells | 988 | YES | NO  | Pvit_vs_Pmar | SSD |\n",
       "| Vascular cells | 99  | NO  | YES | Pvit_vs_Pmar | SSD |\n",
       "| Vascular cells | 991 | NO  | YES | Pvit_vs_Pmar | SSD |\n",
       "| Vascular cells | 994 | NO  | NO  | Pvit_vs_Pmar | SSD |\n",
       "| Vascular cells | 995 | YES | YES | Pvit_vs_Pmar | SSD |\n",
       "| Vascular cells | 998 | NO  | NO  | Pvit_vs_Pmar | SSD |\n",
       "\n"
      ],
      "text/plain": [
       "  cluster        orthogroup_index shared switching species      type\n",
       "1 Vascular cells 988              YES    NO        Pvit_vs_Pmar SSD \n",
       "2 Vascular cells 99               NO     YES       Pvit_vs_Pmar SSD \n",
       "3 Vascular cells 991              NO     YES       Pvit_vs_Pmar SSD \n",
       "4 Vascular cells 994              NO     NO        Pvit_vs_Pmar SSD \n",
       "5 Vascular cells 995              YES    YES       Pvit_vs_Pmar SSD \n",
       "6 Vascular cells 998              NO     NO        Pvit_vs_Pmar SSD "
      ]
     },
     "metadata": {},
     "output_type": "display_data"
    }
   ],
   "source": [
    "tail(details_switching)"
   ]
  },
  {
   "cell_type": "code",
   "execution_count": 3,
   "id": "e6fc2089",
   "metadata": {},
   "outputs": [
    {
     "name": "stderr",
     "output_type": "stream",
     "text": [
      "\u001b[1m\u001b[22m`summarise()` has grouped output by 'species', 'type'. You can override using\n",
      "the `.groups` argument.\n"
     ]
    }
   ],
   "source": [
    "switching_pct <- details_switching %>% group_by(species, type, cluster) %>% summarise(\n",
    "    total_number = n(),\n",
    "    #both = sum(shared == \"YES\" & switching == \"YES\", na.rm = TRUE)/total_number,\n",
    "    shared = sum(shared == \"YES\", na.rm = TRUE)/total_number,\n",
    "    switching = sum(switching == \"YES\", na.rm = TRUE)/total_number\n",
    ") %>% ungroup()"
   ]
  },
  {
   "cell_type": "code",
   "execution_count": 4,
   "id": "1b07dc27",
   "metadata": {},
   "outputs": [
    {
     "data": {
      "text/html": [
       "<table class=\"dataframe\">\n",
       "<caption>A tibble: 6 × 6</caption>\n",
       "<thead>\n",
       "\t<tr><th scope=col>species</th><th scope=col>type</th><th scope=col>cluster</th><th scope=col>total_number</th><th scope=col>shared</th><th scope=col>switching</th></tr>\n",
       "\t<tr><th scope=col>&lt;chr&gt;</th><th scope=col>&lt;chr&gt;</th><th scope=col>&lt;chr&gt;</th><th scope=col>&lt;int&gt;</th><th scope=col>&lt;dbl&gt;</th><th scope=col>&lt;dbl&gt;</th></tr>\n",
       "</thead>\n",
       "<tbody>\n",
       "\t<tr><td>Hsap_vs_Mmus</td><td>SSD</td><td>Astrocytes                        </td><td>1712</td><td>0.2862150</td><td>0.7207944</td></tr>\n",
       "\t<tr><td>Hsap_vs_Mmus</td><td>SSD</td><td>Choroid plexus epithelial cells   </td><td>2203</td><td>0.5342714</td><td>0.5215615</td></tr>\n",
       "\t<tr><td>Hsap_vs_Mmus</td><td>SSD</td><td>Diencephalon GABAergic neurons    </td><td>2269</td><td>0.6011459</td><td>0.4543852</td></tr>\n",
       "\t<tr><td>Hsap_vs_Mmus</td><td>SSD</td><td>Diencephalon cholinergic neurons  </td><td>2028</td><td>0.0000000</td><td>0.9097633</td></tr>\n",
       "\t<tr><td>Hsap_vs_Mmus</td><td>SSD</td><td>Diencephalon glutamatergic neurons</td><td>2395</td><td>0.6004175</td><td>0.4605428</td></tr>\n",
       "\t<tr><td>Hsap_vs_Mmus</td><td>SSD</td><td>Ependymal cells                   </td><td>2111</td><td>0.5466604</td><td>0.5286594</td></tr>\n",
       "</tbody>\n",
       "</table>\n"
      ],
      "text/latex": [
       "A tibble: 6 × 6\n",
       "\\begin{tabular}{llllll}\n",
       " species & type & cluster & total\\_number & shared & switching\\\\\n",
       " <chr> & <chr> & <chr> & <int> & <dbl> & <dbl>\\\\\n",
       "\\hline\n",
       "\t Hsap\\_vs\\_Mmus & SSD & Astrocytes                         & 1712 & 0.2862150 & 0.7207944\\\\\n",
       "\t Hsap\\_vs\\_Mmus & SSD & Choroid plexus epithelial cells    & 2203 & 0.5342714 & 0.5215615\\\\\n",
       "\t Hsap\\_vs\\_Mmus & SSD & Diencephalon GABAergic neurons     & 2269 & 0.6011459 & 0.4543852\\\\\n",
       "\t Hsap\\_vs\\_Mmus & SSD & Diencephalon cholinergic neurons   & 2028 & 0.0000000 & 0.9097633\\\\\n",
       "\t Hsap\\_vs\\_Mmus & SSD & Diencephalon glutamatergic neurons & 2395 & 0.6004175 & 0.4605428\\\\\n",
       "\t Hsap\\_vs\\_Mmus & SSD & Ependymal cells                    & 2111 & 0.5466604 & 0.5286594\\\\\n",
       "\\end{tabular}\n"
      ],
      "text/markdown": [
       "\n",
       "A tibble: 6 × 6\n",
       "\n",
       "| species &lt;chr&gt; | type &lt;chr&gt; | cluster &lt;chr&gt; | total_number &lt;int&gt; | shared &lt;dbl&gt; | switching &lt;dbl&gt; |\n",
       "|---|---|---|---|---|---|\n",
       "| Hsap_vs_Mmus | SSD | Astrocytes                         | 1712 | 0.2862150 | 0.7207944 |\n",
       "| Hsap_vs_Mmus | SSD | Choroid plexus epithelial cells    | 2203 | 0.5342714 | 0.5215615 |\n",
       "| Hsap_vs_Mmus | SSD | Diencephalon GABAergic neurons     | 2269 | 0.6011459 | 0.4543852 |\n",
       "| Hsap_vs_Mmus | SSD | Diencephalon cholinergic neurons   | 2028 | 0.0000000 | 0.9097633 |\n",
       "| Hsap_vs_Mmus | SSD | Diencephalon glutamatergic neurons | 2395 | 0.6004175 | 0.4605428 |\n",
       "| Hsap_vs_Mmus | SSD | Ependymal cells                    | 2111 | 0.5466604 | 0.5286594 |\n",
       "\n"
      ],
      "text/plain": [
       "  species      type cluster                            total_number shared   \n",
       "1 Hsap_vs_Mmus SSD  Astrocytes                         1712         0.2862150\n",
       "2 Hsap_vs_Mmus SSD  Choroid plexus epithelial cells    2203         0.5342714\n",
       "3 Hsap_vs_Mmus SSD  Diencephalon GABAergic neurons     2269         0.6011459\n",
       "4 Hsap_vs_Mmus SSD  Diencephalon cholinergic neurons   2028         0.0000000\n",
       "5 Hsap_vs_Mmus SSD  Diencephalon glutamatergic neurons 2395         0.6004175\n",
       "6 Hsap_vs_Mmus SSD  Ependymal cells                    2111         0.5466604\n",
       "  switching\n",
       "1 0.7207944\n",
       "2 0.5215615\n",
       "3 0.4543852\n",
       "4 0.9097633\n",
       "5 0.4605428\n",
       "6 0.5286594"
      ]
     },
     "metadata": {},
     "output_type": "display_data"
    }
   ],
   "source": [
    "head(switching_pct)"
   ]
  },
  {
   "cell_type": "code",
   "execution_count": 5,
   "id": "3f910ca6",
   "metadata": {},
   "outputs": [],
   "source": [
    "switching_pct$type <- factor(switching_pct$type, levels = c(\"WGD\", \"SSD\"))\n",
    "switching_pct$species <- factor(switching_pct$species, \n",
    "                                levels = c(\"Hsap_vs_Mmus\", \"Hsap_vs_Pvit\", \"Mmus_vs_Pvit\", \n",
    "                                           \"Hsap_vs_Pmar\", \"Mmus_vs_Pmar\", \"Pvit_vs_Pmar\"))"
   ]
  },
  {
   "cell_type": "code",
   "execution_count": 3,
   "id": "f0623075",
   "metadata": {},
   "outputs": [
    {
     "data": {
      "image/png": "[encoded data removed]",
      "text/plain": [
       "plot without title"
      ]
     },
     "metadata": {
      "image/png": {
       "height": 420,
       "width": 420
      }
     },
     "output_type": "display_data"
    }
   ],
   "source": [
    "my_comparisons <- list(c(\"shared\", \"switching\"))\n",
    "p <- switching_pct %>% filter(cluster %in% Vertebrate_homologous_celltypes) %>% \n",
    "    pivot_longer(cols = c(shared, switching)) %>% \n",
    "        ggboxplot(x = \"name\", y = \"value\", color = \"name\", palette = \"npg\") + \n",
    "        stat_compare_means(method = 'wilcox.test', comparisons = list(c(\"shared\", \"switching\")), paired = TRUE, label = \"p.signif\") + \n",
    "        facet_grid(vars(type), vars(species)) \n",
    "p\n",
    "ggsave(\"paralog_switching_ratio.across_species.pdf\", p, width = 8, height = 6)"
   ]
  },
  {
   "cell_type": "code",
   "execution_count": 4,
   "id": "af683664",
   "metadata": {},
   "outputs": [
    {
     "name": "stderr",
     "output_type": "stream",
     "text": [
      "Warning message in wilcox.test.default(c(0.139954853273138, 0.183460457647531, 0.196567862714509, :\n",
      "“cannot compute exact p-value with zeroes”\n",
      "Warning message in wilcox.test.default(c(0.0840390879478827, 0.163761467889908, :\n",
      "“cannot compute exact p-value with zeroes”\n",
      "Warning message in wilcox.test.default(c(0.131895687061184, 0.165194346289753, 0.191623864085342, :\n",
      "“cannot compute exact p-value with zeroes”\n",
      "Warning message in wilcox.test.default(c(0.139954853273138, 0.183460457647531, 0.196567862714509, :\n",
      "“cannot compute exact p-value with zeroes”\n",
      "Warning message in wilcox.test.default(c(0.0840390879478827, 0.163761467889908, :\n",
      "“cannot compute exact p-value with zeroes”\n",
      "Warning message in wilcox.test.default(c(0.131895687061184, 0.165194346289753, 0.191623864085342, :\n",
      "“cannot compute exact p-value with zeroes”\n"
     ]
    },
    {
     "data": {
      "image/png": "[encoded data removed]",
      "text/plain": [
       "plot without title"
      ]
     },
     "metadata": {
      "image/png": {
       "height": 420,
       "width": 420
      }
     },
     "output_type": "display_data"
    }
   ],
   "source": [
    "my_comparisons <- list(c(\"WGD\", \"SSD\"))\n",
    "p2 <- switching_pct %>% filter(cluster %in% Vertebrate_homologous_celltypes) %>% \n",
    "    pivot_longer(cols = c(shared, switching)) %>% \n",
    "        ggboxplot(x = \"type\", y = \"value\", color = \"type\", palette = \"npg\") + \n",
    "        stat_compare_means(method = 'wilcox.test', comparisons = list(c(\"WGD\", \"SSD\")), paired = TRUE, label = \"p.signif\") + \n",
    "        facet_grid(vars(name), vars(species)) \n",
    "p2\n",
    "ggsave(\"paralog_switching_ratio.SSD_WGD.pdf\", p2, width = 8, height = 6)"
   ]
  },
  {
   "cell_type": "code",
   "execution_count": 10,
   "id": "b3df76a5",
   "metadata": {},
   "outputs": [],
   "source": [
    "save.image(file = \"paralog.switching.RData\")"
   ]
  },
  {
   "cell_type": "code",
   "execution_count": 2,
   "id": "8f04f0e4",
   "metadata": {},
   "outputs": [],
   "source": [
    "load('paralog.switching.RData')"
   ]
  },
  {
   "cell_type": "code",
   "execution_count": null,
   "id": "3eed1ba6",
   "metadata": {},
   "outputs": [],
   "source": [
    "# testing for finding good cases"
   ]
  },
  {
   "cell_type": "code",
   "execution_count": null,
   "id": "37eaf120",
   "metadata": {},
   "outputs": [],
   "source": [
    "info_wgd"
   ]
  },
  {
   "cell_type": "code",
   "execution_count": 4,
   "id": "305abb43",
   "metadata": {},
   "outputs": [],
   "source": [
    "tmp <- read.delim('/mnt/data01/yuanzhen/01.Vertebrate_cell_evo/01.data/03.markers/3.nsforest/Hsap/Hsap.TFs.Refined_family_supplementary.csv', sep = ',')"
   ]
  },
  {
   "cell_type": "code",
   "execution_count": 13,
   "id": "998714f2",
   "metadata": {},
   "outputs": [],
   "source": [
    "ops <- Reduce(rbind,lapply(unique(tmp$binary_genes), FUN = function(x){\n",
    "    info_wgd_Hsap2Mmus[info_wgd_Hsap2Mmus$gene == x & info_wgd_Hsap2Mmus$markers & !info_wgd_Hsap2Mmus$orthologs_is_marker, ]\n",
    "}))"
   ]
  },
  {
   "cell_type": "code",
   "execution_count": 23,
   "id": "2b5f2c3f",
   "metadata": {},
   "outputs": [
    {
     "data": {
      "text/html": [
       "<table class=\"dataframe\">\n",
       "<caption>A data.frame: 2 × 7</caption>\n",
       "<thead>\n",
       "\t<tr><th scope=col>gene</th><th scope=col>markers</th><th scope=col>species</th><th scope=col>orthogroup_index</th><th scope=col>cluster</th><th scope=col>orthologs</th><th scope=col>orthologs_is_marker</th></tr>\n",
       "\t<tr><th scope=col>&lt;chr&gt;</th><th scope=col>&lt;lgl&gt;</th><th scope=col>&lt;chr&gt;</th><th scope=col>&lt;chr&gt;</th><th scope=col>&lt;chr&gt;</th><th scope=col>&lt;chr&gt;</th><th scope=col>&lt;lgl&gt;</th></tr>\n",
       "</thead>\n",
       "<tbody>\n",
       "\t<tr><td>ENSG00000198785</td><td>TRUE</td><td>Hsap</td><td>4249</td><td>Rhombencephalon glutamatergic neurons</td><td>Grin3a</td><td>FALSE</td></tr>\n",
       "\t<tr><td>ENSG00000198785</td><td>TRUE</td><td>Hsap</td><td>4249</td><td>Splatter                             </td><td>Grin3a</td><td>FALSE</td></tr>\n",
       "</tbody>\n",
       "</table>\n"
      ],
      "text/latex": [
       "A data.frame: 2 × 7\n",
       "\\begin{tabular}{lllllll}\n",
       " gene & markers & species & orthogroup\\_index & cluster & orthologs & orthologs\\_is\\_marker\\\\\n",
       " <chr> & <lgl> & <chr> & <chr> & <chr> & <chr> & <lgl>\\\\\n",
       "\\hline\n",
       "\t ENSG00000198785 & TRUE & Hsap & 4249 & Rhombencephalon glutamatergic neurons & Grin3a & FALSE\\\\\n",
       "\t ENSG00000198785 & TRUE & Hsap & 4249 & Splatter                              & Grin3a & FALSE\\\\\n",
       "\\end{tabular}\n"
      ],
      "text/markdown": [
       "\n",
       "A data.frame: 2 × 7\n",
       "\n",
       "| gene &lt;chr&gt; | markers &lt;lgl&gt; | species &lt;chr&gt; | orthogroup_index &lt;chr&gt; | cluster &lt;chr&gt; | orthologs &lt;chr&gt; | orthologs_is_marker &lt;lgl&gt; |\n",
       "|---|---|---|---|---|---|---|\n",
       "| ENSG00000198785 | TRUE | Hsap | 4249 | Rhombencephalon glutamatergic neurons | Grin3a | FALSE |\n",
       "| ENSG00000198785 | TRUE | Hsap | 4249 | Splatter                              | Grin3a | FALSE |\n",
       "\n"
      ],
      "text/plain": [
       "  gene            markers species orthogroup_index\n",
       "1 ENSG00000198785 TRUE    Hsap    4249            \n",
       "2 ENSG00000198785 TRUE    Hsap    4249            \n",
       "  cluster                               orthologs orthologs_is_marker\n",
       "1 Rhombencephalon glutamatergic neurons Grin3a    FALSE              \n",
       "2 Splatter                              Grin3a    FALSE              "
      ]
     },
     "metadata": {},
     "output_type": "display_data"
    }
   ],
   "source": [
    "info_wgd_Hsap2Mmus %>% filter(markers & !orthologs_is_marker) %>% filter(orthologs == 'Grin3a')"
   ]
  },
  {
   "cell_type": "code",
   "execution_count": 245,
   "id": "396bb739",
   "metadata": {},
   "outputs": [],
   "source": [
    "ops <- info_wgd_Hsap2Mmus %>% filter(orthogroup_index == 1896)"
   ]
  },
  {
   "cell_type": "code",
   "execution_count": 6,
   "id": "9af19368",
   "metadata": {},
   "outputs": [],
   "source": [
    "plot_marker_usage <- function(family_results, genes, clusters){\n",
    "    tmp <- family_results %>% filter(gene %in% genes) %>% select(\"gene\",\"cluster\", \"markers\")\n",
    "    new <- expand.grid(gene = genes, cluster = clusters, markers = NA)\n",
    "    new <- merge(new, tmp, by = c(\"gene\", \"cluster\"), all.x = TRUE)\n",
    "    p <- new %>% ggplot(aes(x = as.factor(cluster), y = gene, fill = markers.y)) +\n",
    "        geom_tile() + scale_fill_manual(values = c(\"TRUE\" = \"red\", \"FALSE\" = \"grey50\", \"NA\" = \"grey50\")) +\n",
    "        labs(x = \"Cluster\", y = \"Gene\", fill = \"Marker\") + theme_minimal() + \n",
    "        theme(axis.text.x = element_text(angle = 90, hjust = 1, vjust = 0.5))\n",
    "    return(p)\n",
    "}"
   ]
  },
  {
   "cell_type": "code",
   "execution_count": 7,
   "id": "1ff774cb",
   "metadata": {},
   "outputs": [
    {
     "data": {
      "image/png": "[encoded data removed]",
      "text/plain": [
       "plot without title"
      ]
     },
     "metadata": {
      "image/png": {
       "height": 420,
       "width": 420
      }
     },
     "output_type": "display_data"
    }
   ],
   "source": [
    "genes <- c('SLC17A6','Slc17a6','SLC17A7','Slc17a7','SLC17A8','Slc17a8')\n",
    "#genes <- c('ENSG00000105329', 'ENSG00000119699', 'ENSG00000092969', 'Tgfb1','Tgfb3', 'Tgfb2')\n",
    "#genes <- c('ENSG00000105643','ENSG00000113369','ENSG00000140450','ENSG00000197070','ENSG00000265972')\n",
    "p <- plot_marker_usage(info_wgd_Mmus2Pvit, genes = genes, clusters = unique(info_wgd_Hsap2Mmus$cluster))\n",
    "#ggsave(filename = \"test.marker_usage.pdf\", p, width = 6, height = 3)\n",
    "p"
   ]
  },
  {
   "cell_type": "code",
   "execution_count": null,
   "id": "4edea040",
   "metadata": {},
   "outputs": [],
   "source": []
  },
  {
   "cell_type": "code",
   "execution_count": 35,
   "id": "8c2c00fb",
   "metadata": {},
   "outputs": [
    {
     "data": {
      "text/html": [
       "<table class=\"dataframe\">\n",
       "<caption>A tibble: 6 × 6</caption>\n",
       "<thead>\n",
       "\t<tr><th scope=col>species</th><th scope=col>type</th><th scope=col>cluster</th><th scope=col>total_number</th><th scope=col>shared</th><th scope=col>switching</th></tr>\n",
       "\t<tr><th scope=col>&lt;fct&gt;</th><th scope=col>&lt;fct&gt;</th><th scope=col>&lt;chr&gt;</th><th scope=col>&lt;int&gt;</th><th scope=col>&lt;dbl&gt;</th><th scope=col>&lt;dbl&gt;</th></tr>\n",
       "</thead>\n",
       "<tbody>\n",
       "\t<tr><td>Hsap_vs_Mmus</td><td>SSD</td><td>Astrocytes                        </td><td>1712</td><td>0.2862150</td><td>0.7207944</td></tr>\n",
       "\t<tr><td>Hsap_vs_Mmus</td><td>SSD</td><td>Choroid plexus epithelial cells   </td><td>2203</td><td>0.5342714</td><td>0.5215615</td></tr>\n",
       "\t<tr><td>Hsap_vs_Mmus</td><td>SSD</td><td>Diencephalon GABAergic neurons    </td><td>2269</td><td>0.6011459</td><td>0.4543852</td></tr>\n",
       "\t<tr><td>Hsap_vs_Mmus</td><td>SSD</td><td>Diencephalon cholinergic neurons  </td><td>2028</td><td>0.0000000</td><td>0.9097633</td></tr>\n",
       "\t<tr><td>Hsap_vs_Mmus</td><td>SSD</td><td>Diencephalon glutamatergic neurons</td><td>2395</td><td>0.6004175</td><td>0.4605428</td></tr>\n",
       "\t<tr><td>Hsap_vs_Mmus</td><td>SSD</td><td>Ependymal cells                   </td><td>2111</td><td>0.5466604</td><td>0.5286594</td></tr>\n",
       "</tbody>\n",
       "</table>\n"
      ],
      "text/latex": [
       "A tibble: 6 × 6\n",
       "\\begin{tabular}{llllll}\n",
       " species & type & cluster & total\\_number & shared & switching\\\\\n",
       " <fct> & <fct> & <chr> & <int> & <dbl> & <dbl>\\\\\n",
       "\\hline\n",
       "\t Hsap\\_vs\\_Mmus & SSD & Astrocytes                         & 1712 & 0.2862150 & 0.7207944\\\\\n",
       "\t Hsap\\_vs\\_Mmus & SSD & Choroid plexus epithelial cells    & 2203 & 0.5342714 & 0.5215615\\\\\n",
       "\t Hsap\\_vs\\_Mmus & SSD & Diencephalon GABAergic neurons     & 2269 & 0.6011459 & 0.4543852\\\\\n",
       "\t Hsap\\_vs\\_Mmus & SSD & Diencephalon cholinergic neurons   & 2028 & 0.0000000 & 0.9097633\\\\\n",
       "\t Hsap\\_vs\\_Mmus & SSD & Diencephalon glutamatergic neurons & 2395 & 0.6004175 & 0.4605428\\\\\n",
       "\t Hsap\\_vs\\_Mmus & SSD & Ependymal cells                    & 2111 & 0.5466604 & 0.5286594\\\\\n",
       "\\end{tabular}\n"
      ],
      "text/markdown": [
       "\n",
       "A tibble: 6 × 6\n",
       "\n",
       "| species &lt;fct&gt; | type &lt;fct&gt; | cluster &lt;chr&gt; | total_number &lt;int&gt; | shared &lt;dbl&gt; | switching &lt;dbl&gt; |\n",
       "|---|---|---|---|---|---|\n",
       "| Hsap_vs_Mmus | SSD | Astrocytes                         | 1712 | 0.2862150 | 0.7207944 |\n",
       "| Hsap_vs_Mmus | SSD | Choroid plexus epithelial cells    | 2203 | 0.5342714 | 0.5215615 |\n",
       "| Hsap_vs_Mmus | SSD | Diencephalon GABAergic neurons     | 2269 | 0.6011459 | 0.4543852 |\n",
       "| Hsap_vs_Mmus | SSD | Diencephalon cholinergic neurons   | 2028 | 0.0000000 | 0.9097633 |\n",
       "| Hsap_vs_Mmus | SSD | Diencephalon glutamatergic neurons | 2395 | 0.6004175 | 0.4605428 |\n",
       "| Hsap_vs_Mmus | SSD | Ependymal cells                    | 2111 | 0.5466604 | 0.5286594 |\n",
       "\n"
      ],
      "text/plain": [
       "  species      type cluster                            total_number shared   \n",
       "1 Hsap_vs_Mmus SSD  Astrocytes                         1712         0.2862150\n",
       "2 Hsap_vs_Mmus SSD  Choroid plexus epithelial cells    2203         0.5342714\n",
       "3 Hsap_vs_Mmus SSD  Diencephalon GABAergic neurons     2269         0.6011459\n",
       "4 Hsap_vs_Mmus SSD  Diencephalon cholinergic neurons   2028         0.0000000\n",
       "5 Hsap_vs_Mmus SSD  Diencephalon glutamatergic neurons 2395         0.6004175\n",
       "6 Hsap_vs_Mmus SSD  Ependymal cells                    2111         0.5466604\n",
       "  switching\n",
       "1 0.7207944\n",
       "2 0.5215615\n",
       "3 0.4543852\n",
       "4 0.9097633\n",
       "5 0.4605428\n",
       "6 0.5286594"
      ]
     },
     "metadata": {},
     "output_type": "display_data"
    }
   ],
   "source": [
    "head(switching_pct)"
   ]
  },
  {
   "cell_type": "code",
   "execution_count": 47,
   "id": "5257bdd2",
   "metadata": {},
   "outputs": [
    {
     "data": {
      "text/plain": [
       "\n",
       "  NO_NO  NO_YES  YES_NO YES_YES \n",
       " 227370  175873   81804   42586 "
      ]
     },
     "metadata": {},
     "output_type": "display_data"
    }
   ],
   "source": [
    "details_switching$test <- paste(details_switching$shared, details_switching$switching, sep = '_')\n",
    "table(details_switching$test)"
   ]
  },
  {
   "cell_type": "code",
   "execution_count": 48,
   "id": "b30d65cf",
   "metadata": {},
   "outputs": [
    {
     "data": {
      "text/html": [
       "<table class=\"dataframe\">\n",
       "<caption>A tibble: 6 × 7</caption>\n",
       "<thead>\n",
       "\t<tr><th scope=col>cluster</th><th scope=col>orthogroup_index</th><th scope=col>shared</th><th scope=col>switching</th><th scope=col>species</th><th scope=col>type</th><th scope=col>test</th></tr>\n",
       "\t<tr><th scope=col>&lt;chr&gt;</th><th scope=col>&lt;chr&gt;</th><th scope=col>&lt;chr&gt;</th><th scope=col>&lt;chr&gt;</th><th scope=col>&lt;chr&gt;</th><th scope=col>&lt;chr&gt;</th><th scope=col>&lt;chr&gt;</th></tr>\n",
       "</thead>\n",
       "<tbody>\n",
       "\t<tr><td>Astrocytes</td><td>1000</td><td>NO </td><td>YES</td><td>Hsap_vs_Mmus</td><td>WGD</td><td>NO_YES </td></tr>\n",
       "\t<tr><td>Astrocytes</td><td>1001</td><td>NO </td><td>YES</td><td>Hsap_vs_Mmus</td><td>WGD</td><td>NO_YES </td></tr>\n",
       "\t<tr><td>Astrocytes</td><td>1003</td><td>NO </td><td>YES</td><td>Hsap_vs_Mmus</td><td>WGD</td><td>NO_YES </td></tr>\n",
       "\t<tr><td>Astrocytes</td><td>1010</td><td>YES</td><td>NO </td><td>Hsap_vs_Mmus</td><td>WGD</td><td>YES_NO </td></tr>\n",
       "\t<tr><td>Astrocytes</td><td>1011</td><td>YES</td><td>NO </td><td>Hsap_vs_Mmus</td><td>WGD</td><td>YES_NO </td></tr>\n",
       "\t<tr><td>Astrocytes</td><td>1028</td><td>YES</td><td>YES</td><td>Hsap_vs_Mmus</td><td>WGD</td><td>YES_YES</td></tr>\n",
       "</tbody>\n",
       "</table>\n"
      ],
      "text/latex": [
       "A tibble: 6 × 7\n",
       "\\begin{tabular}{lllllll}\n",
       " cluster & orthogroup\\_index & shared & switching & species & type & test\\\\\n",
       " <chr> & <chr> & <chr> & <chr> & <chr> & <chr> & <chr>\\\\\n",
       "\\hline\n",
       "\t Astrocytes & 1000 & NO  & YES & Hsap\\_vs\\_Mmus & WGD & NO\\_YES \\\\\n",
       "\t Astrocytes & 1001 & NO  & YES & Hsap\\_vs\\_Mmus & WGD & NO\\_YES \\\\\n",
       "\t Astrocytes & 1003 & NO  & YES & Hsap\\_vs\\_Mmus & WGD & NO\\_YES \\\\\n",
       "\t Astrocytes & 1010 & YES & NO  & Hsap\\_vs\\_Mmus & WGD & YES\\_NO \\\\\n",
       "\t Astrocytes & 1011 & YES & NO  & Hsap\\_vs\\_Mmus & WGD & YES\\_NO \\\\\n",
       "\t Astrocytes & 1028 & YES & YES & Hsap\\_vs\\_Mmus & WGD & YES\\_YES\\\\\n",
       "\\end{tabular}\n"
      ],
      "text/markdown": [
       "\n",
       "A tibble: 6 × 7\n",
       "\n",
       "| cluster &lt;chr&gt; | orthogroup_index &lt;chr&gt; | shared &lt;chr&gt; | switching &lt;chr&gt; | species &lt;chr&gt; | type &lt;chr&gt; | test &lt;chr&gt; |\n",
       "|---|---|---|---|---|---|---|\n",
       "| Astrocytes | 1000 | NO  | YES | Hsap_vs_Mmus | WGD | NO_YES  |\n",
       "| Astrocytes | 1001 | NO  | YES | Hsap_vs_Mmus | WGD | NO_YES  |\n",
       "| Astrocytes | 1003 | NO  | YES | Hsap_vs_Mmus | WGD | NO_YES  |\n",
       "| Astrocytes | 1010 | YES | NO  | Hsap_vs_Mmus | WGD | YES_NO  |\n",
       "| Astrocytes | 1011 | YES | NO  | Hsap_vs_Mmus | WGD | YES_NO  |\n",
       "| Astrocytes | 1028 | YES | YES | Hsap_vs_Mmus | WGD | YES_YES |\n",
       "\n"
      ],
      "text/plain": [
       "  cluster    orthogroup_index shared switching species      type test   \n",
       "1 Astrocytes 1000             NO     YES       Hsap_vs_Mmus WGD  NO_YES \n",
       "2 Astrocytes 1001             NO     YES       Hsap_vs_Mmus WGD  NO_YES \n",
       "3 Astrocytes 1003             NO     YES       Hsap_vs_Mmus WGD  NO_YES \n",
       "4 Astrocytes 1010             YES    NO        Hsap_vs_Mmus WGD  YES_NO \n",
       "5 Astrocytes 1011             YES    NO        Hsap_vs_Mmus WGD  YES_NO \n",
       "6 Astrocytes 1028             YES    YES       Hsap_vs_Mmus WGD  YES_YES"
      ]
     },
     "metadata": {},
     "output_type": "display_data"
    }
   ],
   "source": [
    "head(details_switching)"
   ]
  },
  {
   "cell_type": "code",
   "execution_count": 54,
   "id": "07d772d6",
   "metadata": {},
   "outputs": [],
   "source": [
    "genes <- read.delim('/mnt/data01/yuanzhen/01.Vertebrate_cell_evo/01.data/03.markers/3.nsforest/Hsap/Hsap.markers.Refined_family_supplementary.csv', sep = ',')"
   ]
  },
  {
   "cell_type": "code",
   "execution_count": 46,
   "id": "468c1e34",
   "metadata": {},
   "outputs": [
    {
     "data": {
      "text/html": [
       "<table class=\"dataframe\">\n",
       "<caption>A data.frame: 6 × 5</caption>\n",
       "<thead>\n",
       "\t<tr><th></th><th scope=col>clusterName</th><th scope=col>binary_genes</th><th scope=col>rf_feature_importance</th><th scope=col>cluster_median</th><th scope=col>binary_score</th></tr>\n",
       "\t<tr><th></th><th scope=col>&lt;chr&gt;</th><th scope=col>&lt;chr&gt;</th><th scope=col>&lt;dbl&gt;</th><th scope=col>&lt;dbl&gt;</th><th scope=col>&lt;dbl&gt;</th></tr>\n",
       "</thead>\n",
       "<tbody>\n",
       "\t<tr><th scope=row>1</th><td>Astrocytes</td><td>Cldn10</td><td>0.014728788</td><td>1.614098</td><td>0.9866720</td></tr>\n",
       "\t<tr><th scope=row>2</th><td>Astrocytes</td><td>Fgfr3 </td><td>0.020052851</td><td>1.744010</td><td>0.9820579</td></tr>\n",
       "\t<tr><th scope=row>3</th><td>Astrocytes</td><td>Ntsr2 </td><td>0.035770687</td><td>2.570243</td><td>0.9766450</td></tr>\n",
       "\t<tr><th scope=row>4</th><td>Astrocytes</td><td>Acsbg1</td><td>0.015558778</td><td>1.631895</td><td>0.9757580</td></tr>\n",
       "\t<tr><th scope=row>5</th><td>Astrocytes</td><td>Itih3 </td><td>0.006783459</td><td>1.003065</td><td>0.9746788</td></tr>\n",
       "\t<tr><th scope=row>6</th><td>Astrocytes</td><td>S1pr1 </td><td>0.008314295</td><td>1.257179</td><td>0.9722109</td></tr>\n",
       "</tbody>\n",
       "</table>\n"
      ],
      "text/latex": [
       "A data.frame: 6 × 5\n",
       "\\begin{tabular}{r|lllll}\n",
       "  & clusterName & binary\\_genes & rf\\_feature\\_importance & cluster\\_median & binary\\_score\\\\\n",
       "  & <chr> & <chr> & <dbl> & <dbl> & <dbl>\\\\\n",
       "\\hline\n",
       "\t1 & Astrocytes & Cldn10 & 0.014728788 & 1.614098 & 0.9866720\\\\\n",
       "\t2 & Astrocytes & Fgfr3  & 0.020052851 & 1.744010 & 0.9820579\\\\\n",
       "\t3 & Astrocytes & Ntsr2  & 0.035770687 & 2.570243 & 0.9766450\\\\\n",
       "\t4 & Astrocytes & Acsbg1 & 0.015558778 & 1.631895 & 0.9757580\\\\\n",
       "\t5 & Astrocytes & Itih3  & 0.006783459 & 1.003065 & 0.9746788\\\\\n",
       "\t6 & Astrocytes & S1pr1  & 0.008314295 & 1.257179 & 0.9722109\\\\\n",
       "\\end{tabular}\n"
      ],
      "text/markdown": [
       "\n",
       "A data.frame: 6 × 5\n",
       "\n",
       "| <!--/--> | clusterName &lt;chr&gt; | binary_genes &lt;chr&gt; | rf_feature_importance &lt;dbl&gt; | cluster_median &lt;dbl&gt; | binary_score &lt;dbl&gt; |\n",
       "|---|---|---|---|---|---|\n",
       "| 1 | Astrocytes | Cldn10 | 0.014728788 | 1.614098 | 0.9866720 |\n",
       "| 2 | Astrocytes | Fgfr3  | 0.020052851 | 1.744010 | 0.9820579 |\n",
       "| 3 | Astrocytes | Ntsr2  | 0.035770687 | 2.570243 | 0.9766450 |\n",
       "| 4 | Astrocytes | Acsbg1 | 0.015558778 | 1.631895 | 0.9757580 |\n",
       "| 5 | Astrocytes | Itih3  | 0.006783459 | 1.003065 | 0.9746788 |\n",
       "| 6 | Astrocytes | S1pr1  | 0.008314295 | 1.257179 | 0.9722109 |\n",
       "\n"
      ],
      "text/plain": [
       "  clusterName binary_genes rf_feature_importance cluster_median binary_score\n",
       "1 Astrocytes  Cldn10       0.014728788           1.614098       0.9866720   \n",
       "2 Astrocytes  Fgfr3        0.020052851           1.744010       0.9820579   \n",
       "3 Astrocytes  Ntsr2        0.035770687           2.570243       0.9766450   \n",
       "4 Astrocytes  Acsbg1       0.015558778           1.631895       0.9757580   \n",
       "5 Astrocytes  Itih3        0.006783459           1.003065       0.9746788   \n",
       "6 Astrocytes  S1pr1        0.008314295           1.257179       0.9722109   "
      ]
     },
     "metadata": {},
     "output_type": "display_data"
    }
   ],
   "source": [
    "head(genes)"
   ]
  },
  {
   "cell_type": "code",
   "execution_count": 55,
   "id": "ac05c3ad",
   "metadata": {},
   "outputs": [],
   "source": [
    "ops <-Reduce(rbind, lapply(1:nrow(genes), FUN = function(x){\n",
    "    g <- unlist(genes[x, 2])\n",
    "    c <- unlist(genes[x, 1])\n",
    "    res <- info_wgd_Hsap2Mmus %>% filter(gene  == g & markers!=orthologs_is_marker & cluster == c)\n",
    "    return(res)\n",
    "}))"
   ]
  },
  {
   "cell_type": "code",
   "execution_count": 76,
   "id": "bc9edd7d",
   "metadata": {},
   "outputs": [
    {
     "data": {
      "text/html": [
       "<table class=\"dataframe\">\n",
       "<caption>A data.frame: 2 × 7</caption>\n",
       "<thead>\n",
       "\t<tr><th scope=col>gene</th><th scope=col>markers</th><th scope=col>species</th><th scope=col>orthogroup_index</th><th scope=col>cluster</th><th scope=col>orthologs</th><th scope=col>orthologs_is_marker</th></tr>\n",
       "\t<tr><th scope=col>&lt;chr&gt;</th><th scope=col>&lt;lgl&gt;</th><th scope=col>&lt;chr&gt;</th><th scope=col>&lt;chr&gt;</th><th scope=col>&lt;chr&gt;</th><th scope=col>&lt;chr&gt;</th><th scope=col>&lt;lgl&gt;</th></tr>\n",
       "</thead>\n",
       "<tbody>\n",
       "\t<tr><td>ENSG00000160963</td><td>TRUE</td><td>Hsap</td><td>3672</td><td>Telencephalon glutamatergic neurons</td><td>Col26a1</td><td>FALSE</td></tr>\n",
       "\t<tr><td>ENSG00000198108</td><td>TRUE</td><td>Hsap</td><td>2310</td><td>Telencephalon glutamatergic neurons</td><td>Chsy3  </td><td>FALSE</td></tr>\n",
       "</tbody>\n",
       "</table>\n"
      ],
      "text/latex": [
       "A data.frame: 2 × 7\n",
       "\\begin{tabular}{lllllll}\n",
       " gene & markers & species & orthogroup\\_index & cluster & orthologs & orthologs\\_is\\_marker\\\\\n",
       " <chr> & <lgl> & <chr> & <chr> & <chr> & <chr> & <lgl>\\\\\n",
       "\\hline\n",
       "\t ENSG00000160963 & TRUE & Hsap & 3672 & Telencephalon glutamatergic neurons & Col26a1 & FALSE\\\\\n",
       "\t ENSG00000198108 & TRUE & Hsap & 2310 & Telencephalon glutamatergic neurons & Chsy3   & FALSE\\\\\n",
       "\\end{tabular}\n"
      ],
      "text/markdown": [
       "\n",
       "A data.frame: 2 × 7\n",
       "\n",
       "| gene &lt;chr&gt; | markers &lt;lgl&gt; | species &lt;chr&gt; | orthogroup_index &lt;chr&gt; | cluster &lt;chr&gt; | orthologs &lt;chr&gt; | orthologs_is_marker &lt;lgl&gt; |\n",
       "|---|---|---|---|---|---|---|\n",
       "| ENSG00000160963 | TRUE | Hsap | 3672 | Telencephalon glutamatergic neurons | Col26a1 | FALSE |\n",
       "| ENSG00000198108 | TRUE | Hsap | 2310 | Telencephalon glutamatergic neurons | Chsy3   | FALSE |\n",
       "\n"
      ],
      "text/plain": [
       "  gene            markers species orthogroup_index\n",
       "1 ENSG00000160963 TRUE    Hsap    3672            \n",
       "2 ENSG00000198108 TRUE    Hsap    2310            \n",
       "  cluster                             orthologs orthologs_is_marker\n",
       "1 Telencephalon glutamatergic neurons Col26a1   FALSE              \n",
       "2 Telencephalon glutamatergic neurons Chsy3     FALSE              "
      ]
     },
     "metadata": {},
     "output_type": "display_data"
    }
   ],
   "source": [
    "ops %>% filter(cluster %in% Vertebrate_homologous_celltypes & cluster == 'Telencephalon glutamatergic neurons') "
   ]
  }
 ],
 "metadata": {
  "kernelspec": {
   "display_name": "R [conda env:sc]",
   "language": "R",
   "name": "conda-env-sc-r"
  },
  "language_info": {
   "codemirror_mode": "r",
   "file_extension": ".r",
   "mimetype": "text/x-r-source",
   "name": "R",
   "pygments_lexer": "r",
   "version": "4.3.2"
  }
 },
 "nbformat": 4,
 "nbformat_minor": 5
}
