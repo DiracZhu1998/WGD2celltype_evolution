{
 "cells": [
  {
   "cell_type": "code",
   "execution_count": 1,
   "id": "1704dbc3",
   "metadata": {},
   "outputs": [],
   "source": [
    "suppressPackageStartupMessages({\n",
    "    require(igraph)\n",
    "    library(dplyr)\n",
    "    library(ggvenn)\n",
    "    library(tidyr)\n",
    "    library(ggpubr)\n",
    "})"
   ]
  },
  {
   "cell_type": "code",
   "execution_count": 2,
   "id": "f96b9a8a",
   "metadata": {},
   "outputs": [],
   "source": [
    "combine_SSD_WGD <- function(paralogs, ohnologs){\n",
    "    \n",
    "    paralogs <- paralogs\n",
    "    colnames(paralogs) <- c(\"dup1\",\"dup2\")\n",
    "    paralogs$type <- \"SSD\"\n",
    "    \n",
    "    ohnologs <- ohnologs[,1:2]\n",
    "    colnames(ohnologs) <- c(\"dup1\",\"dup2\")\n",
    "    \n",
    "    index <- c()\n",
    "    for (i in 1:nrow(ohnologs)){\n",
    "        dup1 <- ohnologs[i, 1]\n",
    "        dup2 <- ohnologs[i, 2]\n",
    "        logic <- which((paralogs$dup1 == dup1 & paralogs$dup2 == dup2)|(paralogs$dup1 == dup2 & paralogs$dup2 == dup1))\n",
    "        if ( identical(logic, integer(0)) ){\n",
    "            index <- c(index, i)\n",
    "        } else {\n",
    "            paralogs[logic, \"type\"] <- \"WGD\"\n",
    "        }\n",
    "    }\n",
    "    tmp <- ohnologs[index, ]\n",
    "    tmp$type <- \"WGD\"\n",
    "    paralogs <- rbind(paralogs, tmp)\n",
    "    return(paralogs)\n",
    "    \n",
    "}"
   ]
  },
  {
   "cell_type": "code",
   "execution_count": 3,
   "id": "a0e110e9",
   "metadata": {},
   "outputs": [],
   "source": [
    "species <- c(\"Hsap\", \"Mmus\", \"Pvit\", \"Pmar\")\n",
    "\n",
    "SSD_WGD <- Reduce(rbind, lapply(species, FUN = function(s){\n",
    "    paralogs <- paste0(\"/mnt/data01/yuanzhen/01.Vertebrate_cell_evo/03.paralog_inferring/\",s,\".paralogs.txt\")\n",
    "    paralogs <- paralogs <- read.table(paralogs, header = T, sep = \"\\t\")\n",
    "    ohnologs <- paste0(\"/mnt/data01/yuanzhen/01.Vertebrate_cell_evo/03.ohnolog_identification/Ohnologs-v2.0/7_FilterOhnologs/\",s,\".ohnologs.txt\")\n",
    "    ohnologs <- read.delim(ohnologs, header = T)\n",
    "    res <- combine_SSD_WGD(paralogs, ohnologs)\n",
    "    res$species <- s\n",
    "    return(res)\n",
    "}))"
   ]
  },
  {
   "cell_type": "code",
   "execution_count": 4,
   "id": "f8f29b27",
   "metadata": {},
   "outputs": [],
   "source": [
    "saveRDS(SSD_WGD, file = \"Combined.SSD_WGD.rds\")\n",
    "write.table(SSD_WGD, file = \"Combined.SSD_WGD.txt\", col.names = T, row.names = F, sep = \"\\t\", quote = FALSE)"
   ]
  },
  {
   "cell_type": "code",
   "execution_count": null,
   "id": "1033d74e",
   "metadata": {},
   "outputs": [],
   "source": []
  }
 ],
 "metadata": {
  "kernelspec": {
   "display_name": "R [conda env:sc]",
   "language": "R",
   "name": "conda-env-sc-r"
  },
  "language_info": {
   "codemirror_mode": "r",
   "file_extension": ".r",
   "mimetype": "text/x-r-source",
   "name": "R",
   "pygments_lexer": "r",
   "version": "4.3.2"
  }
 },
 "nbformat": 4,
 "nbformat_minor": 5
}
