{
 "cells": [
  {
   "cell_type": "code",
   "execution_count": 1,
   "id": "d20929ad",
   "metadata": {},
   "outputs": [],
   "source": [
    "suppressPackageStartupMessages({\n",
    "    require(igraph)\n",
    "    library(dplyr)\n",
    "    library(ggvenn)\n",
    "    library(tidyr)\n",
    "    library(ggpubr)\n",
    "    library(rstatix)\n",
    "    library(stringr)\n",
    "})"
   ]
  },
  {
   "cell_type": "code",
   "execution_count": 2,
   "id": "9b51aa4b",
   "metadata": {},
   "outputs": [],
   "source": [
    "markers <- readRDS('/mnt/data01/yuanzhen/01.Vertebrate_cell_evo/01.data/03.markers/allmarkers.wilcox.FDR001_FC1.5.rds')"
   ]
  },
  {
   "cell_type": "code",
   "execution_count": 3,
   "id": "4e3c5df8",
   "metadata": {},
   "outputs": [],
   "source": [
    "# expressed genes for each species at cell type family level\n",
    "#markers <- readRDS('exp_domain/combined.exp_tri_score.rds')"
   ]
  },
  {
   "cell_type": "code",
   "execution_count": 4,
   "id": "347a5f1b",
   "metadata": {},
   "outputs": [],
   "source": [
    "Amniote_homologous_celltypes <- read.delim('/mnt/data01/yuanzhen/01.Vertebrate_cell_evo/01.data/02.atlas_final/3.plotting/8.plot_dotplot_cross_species/celltype_ordering.v2.txt', header = F)$V1\n",
    "Vertebrate_homologous_celltypes <- Amniote_homologous_celltypes[!Amniote_homologous_celltypes %in% \n",
    "                                                                c('Oligodendrocyte precursor cells','Oligodendrocytes')]"
   ]
  },
  {
   "cell_type": "code",
   "execution_count": 5,
   "id": "7f1b560f",
   "metadata": {},
   "outputs": [],
   "source": [
    "duplicate_pairs <- readRDS(\"Combined.SSD_WGD.rds\")"
   ]
  },
  {
   "cell_type": "code",
   "execution_count": 6,
   "id": "bdf52382",
   "metadata": {},
   "outputs": [],
   "source": [
    "orthogroups <- read.delim('/mnt/data01/yuanzhen/01.Vertebrate_cell_evo/02.gene_relationships/run4/results/Ortho_pipeline/OrthoFinder/Orthogroups/Orthogroups.tsv')\n",
    "# at least one copy for 4 species\n",
    "orthogroups <- orthogroups %>% select(c('Orthogroup', 'Pmar', 'Pvit', 'Mmus', 'Hsap'))  %>% \n",
    "    filter(Pmar != '' & Pvit != '' & Mmus != '' & Hsap != '')"
   ]
  },
  {
   "cell_type": "code",
   "execution_count": 7,
   "id": "0e12a6ea",
   "metadata": {},
   "outputs": [],
   "source": [
    "# calculate number of genes by calcualting commas in it\n",
    "count_commas <- function(x) {\n",
    "  sapply(gregexpr(\",\", x), function(match) ifelse(match[1] == -1, 0, length(match)))\n",
    "}\n",
    "number_genes <- data.frame(apply(orthogroups, c(1,2), count_commas))\n",
    "\n",
    "# retain orthogroups with only 5 copies max for each four species\n",
    "orthogroups <- orthogroups[which(number_genes$Pmar <= 4 & number_genes$Pvit <= 4 & number_genes$Mmus <= 4 & number_genes$Hsap <= 4), ]"
   ]
  },
  {
   "cell_type": "code",
   "execution_count": 8,
   "id": "04c91097",
   "metadata": {},
   "outputs": [],
   "source": [
    "WGD_genes <- unique(c(duplicate_pairs[duplicate_pairs$type == 'WGD', 'dup1'], duplicate_pairs[duplicate_pairs$type == 'WGD', 'dup2']))\n",
    "SSD_genes <- unique(c(duplicate_pairs[duplicate_pairs$type == 'SSD', 'dup1'], duplicate_pairs[duplicate_pairs$type == 'SSD', 'dup2']))\n",
    "paralog_genes <- unique(c(duplicate_pairs[,'dup1'], duplicate_pairs[,'dup2']))\n",
    "\n",
    "# pay attention! at least a pair (since it's in the same gene family:orthogroup)\n",
    "# a pair of ohnologues or SSD paralogues\n",
    "WGD_orthogroups <- orthogroups[apply(orthogroups, 1, function(row) {\n",
    "  any(sapply(row, function(cell) {\n",
    "    sum(WGD_genes %in% unlist(strsplit(as.character(cell), \", \"))) >= 2\n",
    "  }))\n",
    "}), ]\n",
    "\n",
    "SSD_orthogroups <- orthogroups[apply(orthogroups, 1, function(row) {\n",
    "  any(sapply(row, function(cell) {\n",
    "    sum(SSD_genes %in% unlist(strsplit(as.character(cell), \", \"))) >= 2\n",
    "  }))\n",
    "}), ]\n",
    "\n",
    "Paralog_orthogroups <- orthogroups[apply(orthogroups, 1, function(row) {\n",
    "  any(sapply(row, function(cell) {\n",
    "    sum(paralog_genes %in% unlist(strsplit(as.character(cell), \", \"))) >= 2\n",
    "  }))\n",
    "}), ]\n"
   ]
  },
  {
   "cell_type": "code",
   "execution_count": 9,
   "id": "a7d1ca35",
   "metadata": {},
   "outputs": [
    {
     "data": {
      "text/html": [
       "<style>\n",
       ".list-inline {list-style: none; margin:0; padding: 0}\n",
       ".list-inline>li {display: inline-block}\n",
       ".list-inline>li:not(:last-child)::after {content: \"\\00b7\"; padding: 0 .5ex}\n",
       "</style>\n",
       "<ol class=list-inline><li>1655</li><li>5</li></ol>\n"
      ],
      "text/latex": [
       "\\begin{enumerate*}\n",
       "\\item 1655\n",
       "\\item 5\n",
       "\\end{enumerate*}\n"
      ],
      "text/markdown": [
       "1. 1655\n",
       "2. 5\n",
       "\n",
       "\n"
      ],
      "text/plain": [
       "[1] 1655    5"
      ]
     },
     "metadata": {},
     "output_type": "display_data"
    }
   ],
   "source": [
    "#check the number of orthogroups being classified as both WGD_orthogroups and SSD_orthogroups\n",
    "shared <- semi_join(WGD_orthogroups, SSD_orthogroups, by = colnames(SSD_orthogroups))\n",
    "dim(shared)"
   ]
  },
  {
   "cell_type": "code",
   "execution_count": 10,
   "id": "85cf7a39",
   "metadata": {},
   "outputs": [],
   "source": [
    "get_gene_ID <- function(row, species){\n",
    "    return(paste(species, unlist(strsplit(as.character(row[[species]]), \", \")), sep = '_'))\n",
    "}"
   ]
  },
  {
   "cell_type": "code",
   "execution_count": 11,
   "id": "983afe51",
   "metadata": {},
   "outputs": [],
   "source": [
    "# for only amniotes\n",
    "get_results_amniotes <- function(orthogroup){\n",
    "    results <- Reduce(rbind, apply(orthogroup, 1, FUN = function(row){\n",
    "        # get gene IDs for each species\n",
    "        Hsap = get_gene_ID(row, 'Hsap')\n",
    "        Mmus = get_gene_ID(row, 'Mmus')\n",
    "        Pvit = get_gene_ID(row, 'Pvit')\n",
    "        # construct exp matrix\n",
    "        mtx1 = data.frame(matrix(0, nrow = length(c(Hsap, Mmus, Pvit)), ncol = length(Amniote_homologous_celltypes)))\n",
    "        rownames(mtx1) <- c(Hsap, Mmus, Pvit)\n",
    "        colnames(mtx1) <- Amniote_homologous_celltypes\n",
    "        # use markers to binarize mtx\n",
    "        for (g in rownames(mtx1)){\n",
    "            c <- markers[match(g, markers$species_gene), \"cluster\"]\n",
    "            if (!is.na(c)){\n",
    "                mtx1[g, colnames(mtx1) %in% c] <- 1   \n",
    "            }\n",
    "        }\n",
    "\n",
    "        Hsap_tmp <- colSums(mtx1[grepl('Hsap', rownames(mtx1)),])\n",
    "        Mmus_tmp <- colSums(mtx1[grepl('Mmus', rownames(mtx1)),])\n",
    "        Pvit_tmp <- colSums(mtx1[grepl('Pvit', rownames(mtx1)),])\n",
    "        Ancestral_states1 <- ifelse( \n",
    "            (Hsap_tmp > 0 & Mmus_tmp > 0) | (Hsap_tmp > 0 & Pvit_tmp > 0) | (Mmus_tmp > 0 & Pvit_tmp > 0),1,0)\n",
    "    \n",
    "        if (sum(Ancestral_states1[Ancestral_states1 == 1]) > 0){\n",
    "            # calculate sub- and neo- for species Human compared to ancestral state of amniotes and lamprey\n",
    "            info_mtx <- sweep(mtx1, 2, Ancestral_states1, FUN = \"-\")\n",
    "            # calculate sub- number for human (I also considered loss-of-function, in that case, wouldn't be count as sub)\n",
    "            Hsap_sub <- sum(info_mtx[grepl('Hsap', rownames(mtx1)), ] == -1)\n",
    "            Hsap_sub <- Hsap_sub - (length(Hsap)*sum(colSums(info_mtx[grepl('Hsap', rownames(mtx1)), ]) == length(Hsap)))\n",
    "            # calculate neo- number for human\n",
    "            Hsap_neo <- sum(info_mtx[grepl('Hsap', rownames(mtx1)), ] == 1)\n",
    "            # calculate sub- number for mouse\n",
    "            Mmus_sub <- sum(info_mtx[grepl('Mmus', rownames(mtx1)), ] == -1)\n",
    "            Mmus_sub <- Mmus_sub - (length(Mmus)*sum(colSums(info_mtx[grepl('Mmus', rownames(mtx1)), ]) == length(Mmus)))\n",
    "            # calculate neo- number for mouse\n",
    "            Mmus_neo <- sum(info_mtx[grepl('Mmus', rownames(mtx1)), ] == 1)\n",
    "            # calculate sub- number for lizard\n",
    "            Pvit_sub <- sum(info_mtx[grepl('Pvit', rownames(mtx1)), ] == -1)\n",
    "            Pvit_sub <- Pvit_sub - (length(Pvit)*sum(colSums(info_mtx[grepl('Pvit', rownames(mtx1)), ]) == length(Pvit)))\n",
    "            # calculate neo- number for lizard\n",
    "            Pvit_neo <- sum(info_mtx[grepl('Pvit', rownames(mtx1)), ] == 1)\n",
    "\n",
    "        info <- rbind(c(row[['Orthogroup']], Hsap_sub, Hsap_sub/length(grepl('Hsap', rownames(mtx1))), \"sub\", \"Hsap\"),\n",
    "                      c(row[['Orthogroup']], Hsap_neo, Hsap_neo/length(grepl('Hsap', rownames(mtx1))), \"neo\", \"Hsap\"),\n",
    "                      c(row[['Orthogroup']], Mmus_sub, Mmus_sub/length(grepl('Mmus', rownames(mtx1))), \"sub\", \"Mmus\"),\n",
    "                      c(row[['Orthogroup']], Mmus_neo, Mmus_neo/length(grepl('Mmus', rownames(mtx1))), \"neo\", \"Mmus\"),\n",
    "                      c(row[['Orthogroup']], Pvit_sub, Pvit_sub/length(grepl('Pvit', rownames(mtx1))), \"sub\", \"Pvit\"),\n",
    "                      c(row[['Orthogroup']], Pvit_neo, Pvit_neo/length(grepl('Pvit', rownames(mtx1))), \"neo\", \"Pvit\"))\n",
    "        } else {\n",
    "            info <- NULL\n",
    "            #info_mtx <- NULL\n",
    "        }\n",
    "        return(info)\n",
    "    }))\n",
    "    results <- data.frame(results)\n",
    "    colnames(results) <- c(\"orthogroups\", \"number\", \"ratio\", \"fun\", \"species\")\n",
    "    results$ratio <- as.double(results$ratio)\n",
    "    results$number <- as.numeric(results$number)\n",
    "    results$species <- factor(results$species, levels = c('Hsap', 'Mmus', 'Pvit'))\n",
    "    return(results)\n",
    "}"
   ]
  },
  {
   "cell_type": "code",
   "execution_count": 12,
   "id": "3f1ea9b2",
   "metadata": {},
   "outputs": [],
   "source": [
    "# for all vertebrates, if 3/4 used as marker then 1\n",
    "get_results_vertebrates <- function(orthogroup){\n",
    "    results <- Reduce(rbind, apply(orthogroup, 1, FUN = function(row){\n",
    "        # get gene IDs for each species\n",
    "        Hsap = get_gene_ID(row, 'Hsap')\n",
    "        Mmus = get_gene_ID(row, 'Mmus')\n",
    "        Pvit = get_gene_ID(row, 'Pvit')\n",
    "        Pmar = get_gene_ID(row, 'Pmar')\n",
    "        # construct exp matrix\n",
    "        mtx1 = data.frame(matrix(0, nrow = length(c(Hsap, Mmus, Pvit, Pmar)), ncol = length(Vertebrate_homologous_celltypes)))\n",
    "        rownames(mtx1) <- c(Hsap, Mmus, Pvit, Pmar)\n",
    "        colnames(mtx1) <- Vertebrate_homologous_celltypes\n",
    "        # use markers to binarize mtx\n",
    "        for (g in rownames(mtx1)){\n",
    "            c <- markers[match(g, markers$species_gene), \"cluster\"]\n",
    "            if (!is.na(c)){\n",
    "                mtx1[g, colnames(mtx1) %in% c] <- 1   \n",
    "            }\n",
    "        }\n",
    "        \n",
    "        Hsap_tmp <- colSums(mtx1[grepl('Hsap', rownames(mtx1)),])\n",
    "        Mmus_tmp <- colSums(mtx1[grepl('Mmus', rownames(mtx1)),])\n",
    "        Pvit_tmp <- colSums(mtx1[grepl('Pvit', rownames(mtx1)),])\n",
    "        Pmar_tmp <- colSums(mtx1[grepl('Pmar', rownames(mtx1)),])\n",
    "        Ancestral_states1 <- ifelse( \n",
    "            (Hsap_tmp > 0 & Mmus_tmp > 0 & Pvit_tmp > 0) | (Hsap_tmp > 0 & Mmus_tmp > 0 & Pmar_tmp > 0) | \n",
    "            (Hsap_tmp > 0 & Pmar_tmp > 0 & Pvit_tmp > 0) | (Mmus_tmp > 0 & Pvit_tmp > 0 & Pmar_tmp > 0),1,0)\n",
    "\n",
    "        if (sum(Ancestral_states1[Ancestral_states1 == 1]) > 0){\n",
    "            # calculate sub- and neo- for species Human compared to ancestral state of amniotes and lamprey\n",
    "            info_mtx <- sweep(mtx1, 2, Ancestral_states1, FUN = \"-\")\n",
    "            # calculate sub- number for human\n",
    "            Hsap_sub <- sum(info_mtx[grepl('Hsap', rownames(mtx1)), ] == -1)\n",
    "            Hsap_sub <- Hsap_sub - (length(Hsap)*sum(colSums(info_mtx[grepl('Hsap', rownames(mtx1)), ]) == length(Hsap)))\n",
    "            # calculate neo- number for human\n",
    "            Hsap_neo <- sum(info_mtx[grepl('Hsap', rownames(mtx1)), ] == 1)\n",
    "            # calculate sub- number for mouse\n",
    "            Mmus_sub <- sum(info_mtx[grepl('Mmus', rownames(mtx1)), ] == -1)\n",
    "            Mmus_sub <- Mmus_sub - (length(Mmus)*sum(colSums(info_mtx[grepl('Mmus', rownames(mtx1)), ]) == length(Mmus)))\n",
    "            # calculate neo- number for mouse\n",
    "            Mmus_neo <- sum(info_mtx[grepl('Mmus', rownames(mtx1)), ] == 1)\n",
    "            # calculate sub- number for lizard\n",
    "            Pvit_sub <- sum(info_mtx[grepl('Pvit', rownames(mtx1)), ] == -1)\n",
    "            Pvit_sub <- Pvit_sub - (length(Pvit)*sum(colSums(info_mtx[grepl('Pvit', rownames(mtx1)), ]) == length(Pvit)))\n",
    "            # calculate neo- number for lizard\n",
    "            Pvit_neo <- sum(info_mtx[grepl('Pvit', rownames(mtx1)), ] == 1)\n",
    "            # calculate sub- number for lamprey\n",
    "            Pmar_sub <- sum(info_mtx[grepl('Pmar', rownames(mtx1)), ] == -1)\n",
    "            Pmar_sub <- Pmar_sub - (length(Pmar)*sum(colSums(info_mtx[grepl('Pmar', rownames(mtx1)), ]) == length(Pmar)))\n",
    "            # calculate neo- number for lamprey\n",
    "            Pmar_neo <- sum(info_mtx[grepl('Pmar', rownames(mtx1)), ] == 1)\n",
    "        \n",
    "    \n",
    "            info <- rbind(c(row[['Orthogroup']], Hsap_sub, Hsap_sub/length(Hsap), \"sub\", \"Hsap\"),\n",
    "                          c(row[['Orthogroup']], Hsap_neo, Hsap_neo/length(Hsap), \"neo\", \"Hsap\"),\n",
    "                          c(row[['Orthogroup']], Mmus_sub, Mmus_sub/length(Mmus), \"sub\", \"Mmus\"),\n",
    "                          c(row[['Orthogroup']], Mmus_neo, Mmus_neo/length(Mmus), \"neo\", \"Mmus\"),\n",
    "                          c(row[['Orthogroup']], Pvit_sub, Pvit_sub/length(Pvit), \"sub\", \"Pvit\"),\n",
    "                          c(row[['Orthogroup']], Pvit_neo, Pvit_neo/length(Pvit), \"neo\", \"Pvit\"),\n",
    "                          c(row[['Orthogroup']], Pmar_sub, Pmar_sub/length(Pmar), \"sub\", \"Pmar\"),\n",
    "                          c(row[['Orthogroup']], Pmar_neo, Pmar_neo/length(Pmar), \"neo\", \"Pmar\"))\n",
    "        } else {\n",
    "            info <- NULL\n",
    "            #info_mtx <- NULL\n",
    "        }\n",
    "        return(info)\n",
    "    }))\n",
    "    results <- data.frame(results)\n",
    "    colnames(results) <- c(\"orthogroups\", \"number\", \"ratio\", \"fun\", \"species\")\n",
    "    results$ratio <- as.double(results$ratio)\n",
    "    results$number <- as.numeric(results$number)\n",
    "    results$species <- factor(results$species, levels = c('Hsap', 'Mmus', 'Pvit', 'Pmar'))\n",
    "    return(results)\n",
    "}"
   ]
  },
  {
   "cell_type": "code",
   "execution_count": 13,
   "id": "0cf610e0",
   "metadata": {},
   "outputs": [],
   "source": [
    "WGD_res_vertebrates <- get_results_vertebrates(WGD_orthogroups)\n",
    "SSD_res_vertebrates <- get_results_vertebrates(SSD_orthogroups)\n",
    "Paralog_res_vertebrates <- get_results_vertebrates(Paralog_orthogroups)"
   ]
  },
  {
   "cell_type": "code",
   "execution_count": 14,
   "id": "adabebbd",
   "metadata": {},
   "outputs": [],
   "source": [
    "WGD_res_vertebrates$type <- 'WGD'\n",
    "SSD_res_vertebrates$type <- 'SSD'\n",
    "results <- rbind(WGD_res_vertebrates, SSD_res_vertebrates)\n",
    "results$type <- factor(results$type, levels = c('WGD', 'SSD'))"
   ]
  },
  {
   "cell_type": "code",
   "execution_count": 15,
   "id": "467da912",
   "metadata": {},
   "outputs": [
    {
     "data": {
      "text/html": [
       "<table class=\"dataframe\">\n",
       "<caption>A data.frame: 6 × 6</caption>\n",
       "<thead>\n",
       "\t<tr><th></th><th scope=col>orthogroups</th><th scope=col>number</th><th scope=col>ratio</th><th scope=col>fun</th><th scope=col>species</th><th scope=col>type</th></tr>\n",
       "\t<tr><th></th><th scope=col>&lt;chr&gt;</th><th scope=col>&lt;dbl&gt;</th><th scope=col>&lt;dbl&gt;</th><th scope=col>&lt;chr&gt;</th><th scope=col>&lt;fct&gt;</th><th scope=col>&lt;fct&gt;</th></tr>\n",
       "</thead>\n",
       "<tbody>\n",
       "\t<tr><th scope=row>1</th><td>OG0000201</td><td>3</td><td>0.75</td><td>sub</td><td>Hsap</td><td>WGD</td></tr>\n",
       "\t<tr><th scope=row>2</th><td>OG0000201</td><td>0</td><td>0.00</td><td>neo</td><td>Hsap</td><td>WGD</td></tr>\n",
       "\t<tr><th scope=row>3</th><td>OG0000201</td><td>2</td><td>0.50</td><td>sub</td><td>Mmus</td><td>WGD</td></tr>\n",
       "\t<tr><th scope=row>4</th><td>OG0000201</td><td>0</td><td>0.00</td><td>neo</td><td>Mmus</td><td>WGD</td></tr>\n",
       "\t<tr><th scope=row>5</th><td>OG0000201</td><td>3</td><td>0.75</td><td>sub</td><td>Pvit</td><td>WGD</td></tr>\n",
       "\t<tr><th scope=row>6</th><td>OG0000201</td><td>0</td><td>0.00</td><td>neo</td><td>Pvit</td><td>WGD</td></tr>\n",
       "</tbody>\n",
       "</table>\n"
      ],
      "text/latex": [
       "A data.frame: 6 × 6\n",
       "\\begin{tabular}{r|llllll}\n",
       "  & orthogroups & number & ratio & fun & species & type\\\\\n",
       "  & <chr> & <dbl> & <dbl> & <chr> & <fct> & <fct>\\\\\n",
       "\\hline\n",
       "\t1 & OG0000201 & 3 & 0.75 & sub & Hsap & WGD\\\\\n",
       "\t2 & OG0000201 & 0 & 0.00 & neo & Hsap & WGD\\\\\n",
       "\t3 & OG0000201 & 2 & 0.50 & sub & Mmus & WGD\\\\\n",
       "\t4 & OG0000201 & 0 & 0.00 & neo & Mmus & WGD\\\\\n",
       "\t5 & OG0000201 & 3 & 0.75 & sub & Pvit & WGD\\\\\n",
       "\t6 & OG0000201 & 0 & 0.00 & neo & Pvit & WGD\\\\\n",
       "\\end{tabular}\n"
      ],
      "text/markdown": [
       "\n",
       "A data.frame: 6 × 6\n",
       "\n",
       "| <!--/--> | orthogroups &lt;chr&gt; | number &lt;dbl&gt; | ratio &lt;dbl&gt; | fun &lt;chr&gt; | species &lt;fct&gt; | type &lt;fct&gt; |\n",
       "|---|---|---|---|---|---|---|\n",
       "| 1 | OG0000201 | 3 | 0.75 | sub | Hsap | WGD |\n",
       "| 2 | OG0000201 | 0 | 0.00 | neo | Hsap | WGD |\n",
       "| 3 | OG0000201 | 2 | 0.50 | sub | Mmus | WGD |\n",
       "| 4 | OG0000201 | 0 | 0.00 | neo | Mmus | WGD |\n",
       "| 5 | OG0000201 | 3 | 0.75 | sub | Pvit | WGD |\n",
       "| 6 | OG0000201 | 0 | 0.00 | neo | Pvit | WGD |\n",
       "\n"
      ],
      "text/plain": [
       "  orthogroups number ratio fun species type\n",
       "1 OG0000201   3      0.75  sub Hsap    WGD \n",
       "2 OG0000201   0      0.00  neo Hsap    WGD \n",
       "3 OG0000201   2      0.50  sub Mmus    WGD \n",
       "4 OG0000201   0      0.00  neo Mmus    WGD \n",
       "5 OG0000201   3      0.75  sub Pvit    WGD \n",
       "6 OG0000201   0      0.00  neo Pvit    WGD "
      ]
     },
     "metadata": {},
     "output_type": "display_data"
    }
   ],
   "source": [
    "head(results)"
   ]
  },
  {
   "cell_type": "code",
   "execution_count": 16,
   "id": "7fee2c79",
   "metadata": {},
   "outputs": [
    {
     "data": {
      "text/html": [
       "2330"
      ],
      "text/latex": [
       "2330"
      ],
      "text/markdown": [
       "2330"
      ],
      "text/plain": [
       "[1] 2330"
      ]
     },
     "metadata": {},
     "output_type": "display_data"
    },
    {
     "data": {
      "text/html": [
       "634"
      ],
      "text/latex": [
       "634"
      ],
      "text/markdown": [
       "634"
      ],
      "text/plain": [
       "[1] 634"
      ]
     },
     "metadata": {},
     "output_type": "display_data"
    },
    {
     "data": {
      "text/html": [
       "2587"
      ],
      "text/latex": [
       "2587"
      ],
      "text/markdown": [
       "2587"
      ],
      "text/plain": [
       "[1] 2587"
      ]
     },
     "metadata": {},
     "output_type": "display_data"
    },
    {
     "data": {
      "text/html": [
       "693"
      ],
      "text/latex": [
       "693"
      ],
      "text/markdown": [
       "693"
      ],
      "text/plain": [
       "[1] 693"
      ]
     },
     "metadata": {},
     "output_type": "display_data"
    },
    {
     "data": {
      "text/html": [
       "2756"
      ],
      "text/latex": [
       "2756"
      ],
      "text/markdown": [
       "2756"
      ],
      "text/plain": [
       "[1] 2756"
      ]
     },
     "metadata": {},
     "output_type": "display_data"
    },
    {
     "data": {
      "text/html": [
       "743"
      ],
      "text/latex": [
       "743"
      ],
      "text/markdown": [
       "743"
      ],
      "text/plain": [
       "[1] 743"
      ]
     },
     "metadata": {},
     "output_type": "display_data"
    }
   ],
   "source": [
    "sum(results[results$fun == \"sub\" & results$type == 'WGD', \"number\"])\n",
    "sum(results[results$fun == \"neo\" & results$type == 'WGD', \"number\"])\n",
    "\n",
    "sum(results[results$fun == \"sub\" & results$type == 'SSD', \"number\"])\n",
    "sum(results[results$fun == \"neo\" & results$type == 'SSD', \"number\"])\n",
    "\n",
    "sum(Paralog_res_vertebrates[Paralog_res_vertebrates$fun == \"sub\", \"number\"])\n",
    "sum(Paralog_res_vertebrates[Paralog_res_vertebrates$fun == \"neo\", \"number\"])"
   ]
  },
  {
   "cell_type": "code",
   "execution_count": 17,
   "id": "66341d39",
   "metadata": {},
   "outputs": [
    {
     "data": {
      "text/html": [
       "0.786099865047234"
      ],
      "text/latex": [
       "0.786099865047234"
      ],
      "text/markdown": [
       "0.786099865047234"
      ],
      "text/plain": [
       "[1] 0.7860999"
      ]
     },
     "metadata": {},
     "output_type": "display_data"
    },
    {
     "data": {
      "text/html": [
       "0.788719512195122"
      ],
      "text/latex": [
       "0.788719512195122"
      ],
      "text/markdown": [
       "0.788719512195122"
      ],
      "text/plain": [
       "[1] 0.7887195"
      ]
     },
     "metadata": {},
     "output_type": "display_data"
    },
    {
     "data": {
      "text/html": [
       "0.787653615318663"
      ],
      "text/latex": [
       "0.787653615318663"
      ],
      "text/markdown": [
       "0.787653615318663"
      ],
      "text/plain": [
       "[1] 0.7876536"
      ]
     },
     "metadata": {},
     "output_type": "display_data"
    },
    {
     "data": {
      "text/html": [
       "0.723611850274969"
      ],
      "text/latex": [
       "0.723611850274969"
      ],
      "text/markdown": [
       "0.723611850274969"
      ],
      "text/plain": [
       "[1] 0.7236119"
      ]
     },
     "metadata": {},
     "output_type": "display_data"
    },
    {
     "data": {
      "text/html": [
       "0.724502039836813"
      ],
      "text/latex": [
       "0.724502039836813"
      ],
      "text/markdown": [
       "0.724502039836813"
      ],
      "text/plain": [
       "[1] 0.724502"
      ]
     },
     "metadata": {},
     "output_type": "display_data"
    },
    {
     "data": {
      "text/html": [
       "0.716390423572744"
      ],
      "text/latex": [
       "0.716390423572744"
      ],
      "text/markdown": [
       "0.716390423572744"
      ],
      "text/plain": [
       "[1] 0.7163904"
      ]
     },
     "metadata": {},
     "output_type": "display_data"
    }
   ],
   "source": [
    "2330/(2330 + 634)\n",
    "2587/(2587 + 693)\n",
    "2756/(2756 + 743)\n",
    "\n",
    "8158/(8158 + 3116)\n",
    "9057/(9057 + 3444)\n",
    "10114/(10114 + 4004)"
   ]
  },
  {
   "cell_type": "code",
   "execution_count": 18,
   "id": "878092c6",
   "metadata": {},
   "outputs": [],
   "source": [
    "my_comparisons <- list(c(\"sub\", \"neo\"))\n",
    "p1 <- results %>% ggboxplot(x = \"fun\", y = \"ratio\", color = \"fun\", palette = \"npg\") + \n",
    "    stat_compare_means(comparisons = my_comparisons, method = \"wilcox\", paired = TRUE) + \n",
    "    facet_grid(vars(type), vars(species))\n",
    "\n",
    "p2 <- results %>% ggboxplot(x = \"fun\", y = \"number\", color = \"fun\", palette = \"npg\") + \n",
    "    stat_compare_means(comparisons = my_comparisons, method = \"wilcox\", paired = TRUE) + \n",
    "    facet_grid(vars(type), vars(species))"
   ]
  },
  {
   "cell_type": "code",
   "execution_count": 23,
   "id": "8c2a27c5",
   "metadata": {},
   "outputs": [],
   "source": [
    "ggsave(\"vertebrates.marker.ratio.sub_neo.pdf\", p1, width = 6, height = 6)\n",
    "ggsave(\"vertebrates.marker.number.sub_neo.pdf\", p2, width = 6, height = 6)\n",
    "\n",
    "#ggsave(\"vertebrates.exp_Triscore.ratio.sub_neo.pdf\", p1, width = 6, height = 6)\n",
    "#ggsave(\"vertebrates.exp_Triscore.number.sub_neo.pdf\", p2, width = 6, height = 6)"
   ]
  },
  {
   "cell_type": "code",
   "execution_count": 20,
   "id": "0e6339ed",
   "metadata": {},
   "outputs": [],
   "source": [
    "WGD_res_amniotes <- get_results_amniotes(WGD_orthogroups)\n",
    "SSD_res_amniotes <- get_results_amniotes(SSD_orthogroups)\n",
    "WGD_res_amniotes$type <- 'WGD'\n",
    "SSD_res_amniotes$type <- 'SSD'\n",
    "results <- rbind(WGD_res_amniotes, SSD_res_amniotes)\n",
    "results$type <- factor(results$type, levels = c('WGD', 'SSD'))"
   ]
  },
  {
   "cell_type": "code",
   "execution_count": 24,
   "id": "f65d160e",
   "metadata": {},
   "outputs": [],
   "source": [
    "my_comparisons <- list(c(\"sub\", \"neo\"))\n",
    "p3 <- results %>% ggboxplot(x = \"fun\", y = \"ratio\", color = \"fun\", palette = \"npg\") + \n",
    "    stat_compare_means(comparisons = my_comparisons, method = \"wilcox\", paired = TRUE) + \n",
    "    facet_grid(vars(type), vars(species))\n",
    "\n",
    "p4 <- results %>% ggboxplot(x = \"fun\", y = \"number\", color = \"fun\", palette = \"npg\") + \n",
    "    stat_compare_means(comparisons = my_comparisons, method = \"wilcox\", paired = TRUE) + \n",
    "    facet_grid(vars(type), vars(species))\n",
    "\n",
    "ggsave(\"amniotes.marker.ratio.sub_neo.pdf\", p3, width = 5, height = 6)\n",
    "ggsave(\"amniotes.marker.number.sub_neo.pdf\", p4, width = 5, height = 6)\n",
    "#ggsave(\"amniotes.exp_Triscore.ratio.sub_neo.latest.pdf\", p3, width = 6, height = 6)\n",
    "#ggsave(\"amniotes.exp_Triscore.number.sub_neo.latest.pdf\", p4, width = 6, height = 6)"
   ]
  },
  {
   "cell_type": "code",
   "execution_count": null,
   "id": "664da1a0",
   "metadata": {},
   "outputs": [],
   "source": []
  },
  {
   "cell_type": "code",
   "execution_count": null,
   "id": "cbf40652",
   "metadata": {},
   "outputs": [],
   "source": []
  },
  {
   "cell_type": "code",
   "execution_count": 28,
   "id": "c473b535",
   "metadata": {},
   "outputs": [
    {
     "data": {
      "image/png": "[encoded data removed]",
      "text/plain": [
       "plot without title"
      ]
     },
     "metadata": {
      "image/png": {
       "height": 420,
       "width": 420
      }
     },
     "output_type": "display_data"
    }
   ],
   "source": [
    "# not included in paper, pls ignore\n",
    "my_comparisons <- list(c(\"WGD\", \"SSD\"))\n",
    "results %>% ggboxplot(x = \"type\", y = \"ratio\", color = \"type\", palette = \"npg\") + \n",
    "    stat_compare_means(comparisons = my_comparisons, method = \"wilcox\") + \n",
    "    facet_grid(vars(fun), vars(species))"
   ]
  },
  {
   "cell_type": "code",
   "execution_count": null,
   "id": "96127903",
   "metadata": {},
   "outputs": [],
   "source": []
  }
 ],
 "metadata": {
  "kernelspec": {
   "display_name": "R [conda env:sc]",
   "language": "R",
   "name": "conda-env-sc-r"
  },
  "language_info": {
   "codemirror_mode": "r",
   "file_extension": ".r",
   "mimetype": "text/x-r-source",
   "name": "R",
   "pygments_lexer": "r",
   "version": "4.3.2"
  }
 },
 "nbformat": 4,
 "nbformat_minor": 5
}
