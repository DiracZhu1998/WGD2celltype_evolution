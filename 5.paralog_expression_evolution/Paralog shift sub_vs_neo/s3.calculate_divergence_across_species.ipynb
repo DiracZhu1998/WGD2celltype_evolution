{
 "cells": [
  {
   "cell_type": "code",
   "execution_count": 3,
   "id": "b4deed31",
   "metadata": {},
   "outputs": [],
   "source": [
    "# to calculate paralogue family average dT and compare species to show whether the same family would divergence\n",
    "# for both species on pairwise comparison.\n",
    "suppressPackageStartupMessages({\n",
    "    require(igraph)\n",
    "    library(dplyr)\n",
    "    library(ggvenn)\n",
    "    library(tidyr)\n",
    "    library(ggpubr)\n",
    "    library(rstatix)\n",
    "    library(stringr)\n",
    "})"
   ]
  },
  {
   "cell_type": "code",
   "execution_count": 4,
   "id": "275fd1cd",
   "metadata": {},
   "outputs": [],
   "source": [
    "# get gene relationships\n",
    "duplicate_pairs <- readRDS(\"Combined.SSD_WGD.rds\")\n",
    "\n",
    "orthogroups <- read.delim('/mnt/data01/yuanzhen/01.Vertebrate_cell_evo/02.gene_relationships/run4/results/Ortho_pipeline/OrthoFinder/Orthogroups/Orthogroups.tsv')\n",
    "# *** at least one copy for at least one species\n",
    "orthogroups <- orthogroups %>% select(c('Orthogroup', 'Pmar', 'Pvit', 'Mmus', 'Hsap'))  %>% \n",
    "    filter(Pmar != '' | Pvit != ''  | Mmus != '' | Hsap != '')\n",
    "\n",
    "# calculate number of genes by calcualting commas in it\n",
    "count_commas <- function(x) {\n",
    "  sapply(gregexpr(\",\", x), function(match) ifelse(match[1] == -1, 0, length(match)))\n",
    "}\n",
    "number_genes <- data.frame(apply(orthogroups, c(1,2), count_commas))\n",
    "\n",
    "# retain orthogroups with only 5 copies max for each four species\n",
    "orthogroups <- orthogroups[which(number_genes$Pmar <= 4 & number_genes$Pvit <= 4 & number_genes$Mmus <= 4 & number_genes$Hsap <= 4), ]"
   ]
  },
  {
   "cell_type": "code",
   "execution_count": 5,
   "id": "dcc3b7d7",
   "metadata": {},
   "outputs": [],
   "source": [
    "WGD_genes <- unique(c(duplicate_pairs[duplicate_pairs$type == 'WGD', 'dup1'], duplicate_pairs[duplicate_pairs$type == 'WGD', 'dup2']))\n",
    "SSD_genes <- unique(c(duplicate_pairs[duplicate_pairs$type == 'SSD', 'dup1'], duplicate_pairs[duplicate_pairs$type == 'SSD', 'dup2']))\n",
    "paralog_genes <- unique(c(duplicate_pairs[,'dup1'], duplicate_pairs[,'dup2']))\n",
    "\n",
    "\n",
    "\n",
    "Paralog_orthogroups <- orthogroups[apply(orthogroups, 1, function(row) {\n",
    "  any(sapply(row, function(cell) {\n",
    "    sum(paralog_genes %in% unlist(strsplit(as.character(cell), \", \")))>=2\n",
    "  }))\n",
    "}), ]"
   ]
  },
  {
   "cell_type": "code",
   "execution_count": 8,
   "id": "85f496cd",
   "metadata": {},
   "outputs": [
    {
     "data": {
      "text/html": [
       "<table class=\"dataframe\">\n",
       "<caption>A data.frame: 6 × 4</caption>\n",
       "<thead>\n",
       "\t<tr><th></th><th scope=col>gene</th><th scope=col>cluster</th><th scope=col>species</th><th scope=col>species_gene</th></tr>\n",
       "\t<tr><th></th><th scope=col>&lt;chr&gt;</th><th scope=col>&lt;chr&gt;</th><th scope=col>&lt;chr&gt;</th><th scope=col>&lt;chr&gt;</th></tr>\n",
       "</thead>\n",
       "<tbody>\n",
       "\t<tr><th scope=row>1</th><td>ENSG00000188290</td><td>Astrocytes</td><td>Hsap</td><td>Hsap_ENSG00000188290</td></tr>\n",
       "\t<tr><th scope=row>2</th><td>ENSG00000078808</td><td>Astrocytes</td><td>Hsap</td><td>Hsap_ENSG00000078808</td></tr>\n",
       "\t<tr><th scope=row>3</th><td>ENSG00000160087</td><td>Astrocytes</td><td>Hsap</td><td>Hsap_ENSG00000160087</td></tr>\n",
       "\t<tr><th scope=row>4</th><td>ENSG00000131584</td><td>Astrocytes</td><td>Hsap</td><td>Hsap_ENSG00000131584</td></tr>\n",
       "\t<tr><th scope=row>5</th><td>ENSG00000127054</td><td>Astrocytes</td><td>Hsap</td><td>Hsap_ENSG00000127054</td></tr>\n",
       "\t<tr><th scope=row>6</th><td>ENSG00000107404</td><td>Astrocytes</td><td>Hsap</td><td>Hsap_ENSG00000107404</td></tr>\n",
       "</tbody>\n",
       "</table>\n"
      ],
      "text/latex": [
       "A data.frame: 6 × 4\n",
       "\\begin{tabular}{r|llll}\n",
       "  & gene & cluster & species & species\\_gene\\\\\n",
       "  & <chr> & <chr> & <chr> & <chr>\\\\\n",
       "\\hline\n",
       "\t1 & ENSG00000188290 & Astrocytes & Hsap & Hsap\\_ENSG00000188290\\\\\n",
       "\t2 & ENSG00000078808 & Astrocytes & Hsap & Hsap\\_ENSG00000078808\\\\\n",
       "\t3 & ENSG00000160087 & Astrocytes & Hsap & Hsap\\_ENSG00000160087\\\\\n",
       "\t4 & ENSG00000131584 & Astrocytes & Hsap & Hsap\\_ENSG00000131584\\\\\n",
       "\t5 & ENSG00000127054 & Astrocytes & Hsap & Hsap\\_ENSG00000127054\\\\\n",
       "\t6 & ENSG00000107404 & Astrocytes & Hsap & Hsap\\_ENSG00000107404\\\\\n",
       "\\end{tabular}\n"
      ],
      "text/markdown": [
       "\n",
       "A data.frame: 6 × 4\n",
       "\n",
       "| <!--/--> | gene &lt;chr&gt; | cluster &lt;chr&gt; | species &lt;chr&gt; | species_gene &lt;chr&gt; |\n",
       "|---|---|---|---|---|\n",
       "| 1 | ENSG00000188290 | Astrocytes | Hsap | Hsap_ENSG00000188290 |\n",
       "| 2 | ENSG00000078808 | Astrocytes | Hsap | Hsap_ENSG00000078808 |\n",
       "| 3 | ENSG00000160087 | Astrocytes | Hsap | Hsap_ENSG00000160087 |\n",
       "| 4 | ENSG00000131584 | Astrocytes | Hsap | Hsap_ENSG00000131584 |\n",
       "| 5 | ENSG00000127054 | Astrocytes | Hsap | Hsap_ENSG00000127054 |\n",
       "| 6 | ENSG00000107404 | Astrocytes | Hsap | Hsap_ENSG00000107404 |\n",
       "\n"
      ],
      "text/plain": [
       "  gene            cluster    species species_gene        \n",
       "1 ENSG00000188290 Astrocytes Hsap    Hsap_ENSG00000188290\n",
       "2 ENSG00000078808 Astrocytes Hsap    Hsap_ENSG00000078808\n",
       "3 ENSG00000160087 Astrocytes Hsap    Hsap_ENSG00000160087\n",
       "4 ENSG00000131584 Astrocytes Hsap    Hsap_ENSG00000131584\n",
       "5 ENSG00000127054 Astrocytes Hsap    Hsap_ENSG00000127054\n",
       "6 ENSG00000107404 Astrocytes Hsap    Hsap_ENSG00000107404"
      ]
     },
     "metadata": {},
     "output_type": "display_data"
    }
   ],
   "source": [
    "exp_domain <- readRDS('exp_domain/combined.exp_tri_score.rds')\n",
    "head(exp_domain)"
   ]
  },
  {
   "cell_type": "code",
   "execution_count": 9,
   "id": "bb51fbe4",
   "metadata": {},
   "outputs": [],
   "source": [
    "get_gene_ID <- function(row, species){\n",
    "    return(unlist(strsplit(as.character(row[[species]]), \", \")))\n",
    "}\n",
    "\n",
    "calculate_pairwise_dT_for_gene_pairs <- function(genes, exp_domain, species){\n",
    "    exp_domain <- exp_domain[exp_domain$species == species, ] \n",
    "    \n",
    "    if (length(genes) < 2){\n",
    "        dTs <- NA\n",
    "    } else {\n",
    "        gene_pairs <- combn(genes, 2)\n",
    "        dTs <- unlist(lapply(1:ncol(gene_pairs), FUN = function(x){\n",
    "            pairs <- gene_pairs[,x]\n",
    "            # Either copy expressed\n",
    "            Either <- unique(exp_domain[exp_domain$gene %in% pairs, 'cluster'])\n",
    "            # Both copy expressed\n",
    "            Both <- intersect(exp_domain[exp_domain$gene %in% pairs[1], 'cluster'], \n",
    "                              exp_domain[exp_domain$gene %in% pairs[2], 'cluster'])\n",
    "            dT <- (length(Either)-length(Both))/length(Either)\n",
    "            # very important!!!! for example TBR1, TBX21, and EOMES case for human\n",
    "            # TBX21 and EOMES not expressed in brain, the dT = NaN\n",
    "            # in this case, set dT as 1\n",
    "            if (is.na(dT)){\n",
    "                dT = 1\n",
    "            }\n",
    "            return(dT)\n",
    "        }))\n",
    "        # average for each gene family multiple pairwise comparsion\n",
    "        dTs <- sum(dTs)/length(dTs)  \n",
    "    }\n",
    "    return(dTs)\n",
    "}"
   ]
  },
  {
   "cell_type": "code",
   "execution_count": 10,
   "id": "5302926f",
   "metadata": {},
   "outputs": [],
   "source": [
    "get_results <- function(orthogroup){\n",
    "    results <- Reduce(rbind, lapply(1:nrow(orthogroup), FUN = function(x){\n",
    "        row = orthogroup[x, ]\n",
    "        # get gene IDs for each species\n",
    "        Hsap = get_gene_ID(row, 'Hsap')\n",
    "        Mmus = get_gene_ID(row, 'Mmus')\n",
    "        Pvit = get_gene_ID(row, 'Pvit')\n",
    "        Pmar = get_gene_ID(row, 'Pmar')\n",
    "        \n",
    "        Hsap_dTs <- calculate_pairwise_dT_for_gene_pairs(Hsap, exp_domain, 'Hsap')\n",
    "        Mmus_dTs <- calculate_pairwise_dT_for_gene_pairs(Mmus, exp_domain, 'Mmus')\n",
    "        Pvit_dTs <- calculate_pairwise_dT_for_gene_pairs(Pvit, exp_domain, 'Pvit')\n",
    "        Pmar_dTs <- calculate_pairwise_dT_for_gene_pairs(Pmar, exp_domain, 'Pmar')\n",
    "        \n",
    "        info <- c(unlist(row[['Orthogroup']]), Hsap_dTs, Mmus_dTs, Pvit_dTs, Pmar_dTs)\n",
    "        return(info)\n",
    "    }))\n",
    "    results <- as.data.frame(results)\n",
    "    colnames(results) <- c('Orthogroup', 'Hsap', 'Mmus', 'Pvit', 'Pmar')\n",
    "    return(results)\n",
    "}"
   ]
  },
  {
   "cell_type": "code",
   "execution_count": 11,
   "id": "7777fd99",
   "metadata": {},
   "outputs": [],
   "source": [
    "dTs_paralog_orthogroups <- get_results(Paralog_orthogroups)\n",
    "dTs_paralog_orthogroups[dTs_paralog_orthogroups == \"NaN\"] <- NA"
   ]
  },
  {
   "cell_type": "code",
   "execution_count": 12,
   "id": "6b2652f7",
   "metadata": {},
   "outputs": [],
   "source": [
    "get_plots <- function(species1, species2){\n",
    "    tmp = dTs_paralog_orthogroups[, c(species1, species2)]\n",
    "    tmp = tmp[complete.cases(tmp), ]\n",
    "    tmp[,species1] <- as.double(tmp[,species1])\n",
    "    tmp[,species2] <- as.double(tmp[,species2])\n",
    "    scatter_plot <- ggscatter(tmp, x = species1, y = species2) + \n",
    "        stat_cor(method = \"pearson\") +  theme_minimal() \n",
    "    return(scatter_plot)\n",
    "}"
   ]
  },
  {
   "cell_type": "code",
   "execution_count": 13,
   "id": "a49b28c6",
   "metadata": {},
   "outputs": [],
   "source": [
    "p1 <- get_plots('Hsap', 'Mmus')\n",
    "p2 <- get_plots('Hsap', 'Pvit')\n",
    "p3 <- get_plots('Hsap', 'Pmar')\n",
    "p4 <- get_plots('Mmus', 'Pvit')\n",
    "p5 <- get_plots('Mmus', 'Pmar')\n",
    "p6 <- get_plots('Pvit', 'Pmar')\n",
    "\n",
    "ggsave('averged.dT.Hsap_vs_Mmus.pdf', p1, width = 5, height = 5)\n",
    "ggsave('averged.dT.Hsap_vs_Pvit.pdf', p2, width = 5, height = 5)\n",
    "ggsave('averged.dT.Hsap_vs_Pmar.pdf', p3, width = 5, height = 5)\n",
    "ggsave('averged.dT.Mmus_vs_Pvit.pdf', p4, width = 5, height = 5)\n",
    "ggsave('averged.dT.Mmus_vs_Pmar.pdf', p5, width = 5, height = 5)\n",
    "ggsave('averged.dT.Pvit_vs_Pmar.pdf', p6, width = 5, height = 5)"
   ]
  },
  {
   "cell_type": "code",
   "execution_count": 14,
   "id": "87d39492",
   "metadata": {},
   "outputs": [],
   "source": [
    "save.image('s3.calculate_divergence_across_species.RData')"
   ]
  },
  {
   "cell_type": "code",
   "execution_count": null,
   "id": "89066511",
   "metadata": {},
   "outputs": [],
   "source": []
  },
  {
   "cell_type": "code",
   "execution_count": null,
   "id": "ea266f39",
   "metadata": {},
   "outputs": [],
   "source": [
    "# test cases to show, pls ignore below!"
   ]
  },
  {
   "cell_type": "code",
   "execution_count": 2,
   "id": "b073367a",
   "metadata": {},
   "outputs": [],
   "source": [
    "load('s3.calculate_divergence_across_species.RData')"
   ]
  },
  {
   "cell_type": "code",
   "execution_count": 22,
   "id": "fe41843e",
   "metadata": {},
   "outputs": [],
   "source": [
    "# potential groups for searching cases\n",
    "library(entropy)\n",
    "test <- dTs_paralog_orthogroups[complete.cases(dTs_paralog_orthogroups), ]"
   ]
  },
  {
   "cell_type": "code",
   "execution_count": 15,
   "id": "6c30bad4",
   "metadata": {},
   "outputs": [
    {
     "data": {
      "text/html": [
       "<table class=\"dataframe\">\n",
       "<caption>A data.frame: 1 × 5</caption>\n",
       "<thead>\n",
       "\t<tr><th></th><th scope=col>Orthogroup</th><th scope=col>Hsap</th><th scope=col>Mmus</th><th scope=col>Pvit</th><th scope=col>Pmar</th></tr>\n",
       "\t<tr><th></th><th scope=col>&lt;chr&gt;</th><th scope=col>&lt;chr&gt;</th><th scope=col>&lt;chr&gt;</th><th scope=col>&lt;chr&gt;</th><th scope=col>&lt;chr&gt;</th></tr>\n",
       "</thead>\n",
       "<tbody>\n",
       "\t<tr><th scope=row>X.111</th><td>OG0000434</td><td>0.0992647058823529</td><td>0.226538568643832</td><td>0.507407407407407</td><td>0.441544117647059</td></tr>\n",
       "</tbody>\n",
       "</table>\n"
      ],
      "text/latex": [
       "A data.frame: 1 × 5\n",
       "\\begin{tabular}{r|lllll}\n",
       "  & Orthogroup & Hsap & Mmus & Pvit & Pmar\\\\\n",
       "  & <chr> & <chr> & <chr> & <chr> & <chr>\\\\\n",
       "\\hline\n",
       "\tX.111 & OG0000434 & 0.0992647058823529 & 0.226538568643832 & 0.507407407407407 & 0.441544117647059\\\\\n",
       "\\end{tabular}\n"
      ],
      "text/markdown": [
       "\n",
       "A data.frame: 1 × 5\n",
       "\n",
       "| <!--/--> | Orthogroup &lt;chr&gt; | Hsap &lt;chr&gt; | Mmus &lt;chr&gt; | Pvit &lt;chr&gt; | Pmar &lt;chr&gt; |\n",
       "|---|---|---|---|---|---|\n",
       "| X.111 | OG0000434 | 0.0992647058823529 | 0.226538568643832 | 0.507407407407407 | 0.441544117647059 |\n",
       "\n"
      ],
      "text/plain": [
       "      Orthogroup Hsap               Mmus              Pvit             \n",
       "X.111 OG0000434  0.0992647058823529 0.226538568643832 0.507407407407407\n",
       "      Pmar             \n",
       "X.111 0.441544117647059"
      ]
     },
     "metadata": {},
     "output_type": "display_data"
    }
   ],
   "source": [
    "dTs_paralog_orthogroups[dTs_paralog_orthogroups$Orthogroup == 'OG0000434',]"
   ]
  },
  {
   "cell_type": "code",
   "execution_count": null,
   "id": "08b09911",
   "metadata": {},
   "outputs": [],
   "source": []
  }
 ],
 "metadata": {
  "kernelspec": {
   "display_name": "R [conda env:sc]",
   "language": "R",
   "name": "conda-env-sc-r"
  },
  "language_info": {
   "codemirror_mode": "r",
   "file_extension": ".r",
   "mimetype": "text/x-r-source",
   "name": "R",
   "pygments_lexer": "r",
   "version": "4.3.2"
  }
 },
 "nbformat": 4,
 "nbformat_minor": 5
}
