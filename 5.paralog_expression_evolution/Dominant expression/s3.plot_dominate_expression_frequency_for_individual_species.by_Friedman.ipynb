{
 "cells": [
  {
   "cell_type": "code",
   "execution_count": 1,
   "id": "9ab429d9",
   "metadata": {},
   "outputs": [],
   "source": [
    "suppressMessages(suppressWarnings({\n",
    "    library(ggplot2)\n",
    "    library(igraph)\n",
    "    library(tidyverse)\n",
    "    library(ggpubr)\n",
    "}))"
   ]
  },
  {
   "cell_type": "code",
   "execution_count": 2,
   "id": "81a605bc",
   "metadata": {},
   "outputs": [],
   "source": [
    "# load wilcox test results and plot barplot to show celltype non-speicfic dominate expression across species\n",
    "species <- c(\"Hsap\", \"Mmus\", \"Pvit\", \"Pmar\")\n",
    "type <- c(\"WGD\", \"SSD\")\n",
    "mtx <- c(\"exp\", \"pct\")\n",
    "\n",
    "friedman_res <- Reduce(rbind, lapply(species, FUN = function(s){\n",
    "    Reduce(rbind, lapply(type, FUN = function(t){\n",
    "        Reduce(rbind, lapply(mtx, FUN = function(m){\n",
    "            info <- read.delim(paste0(s,\"/\",m,\"/\",s, \".\", m, \".\", t, \".friedman_test.txt\"), header = T)\n",
    "            info$species <- s\n",
    "            info$type <- t\n",
    "            info$mtx <- m\n",
    "            return(info)\n",
    "        }))\n",
    "    }))\n",
    "}))"
   ]
  },
  {
   "cell_type": "code",
   "execution_count": 3,
   "id": "5136c031",
   "metadata": {},
   "outputs": [
    {
     "name": "stderr",
     "output_type": "stream",
     "text": [
      "\u001b[1m\u001b[22m`summarise()` has grouped output by 'species', 'type'. You can override using\n",
      "the `.groups` argument.\n"
     ]
    }
   ],
   "source": [
    "plot_res <- friedman_res %>% group_by(species, type, mtx) %>% summarise(\n",
    "    total = n(),\n",
    "    sign = sum(p < 0.01, na.rm = TRUE),\n",
    "    insign = total - sign\n",
    "    )"
   ]
  },
  {
   "cell_type": "code",
   "execution_count": 8,
   "id": "89da1843",
   "metadata": {},
   "outputs": [
    {
     "name": "stderr",
     "output_type": "stream",
     "text": [
      "\u001b[1m\u001b[22m`summarise()` has grouped output by 'species'. You can override using the\n",
      "`.groups` argument.\n"
     ]
    },
    {
     "data": {
      "text/html": [
       "<table class=\"dataframe\">\n",
       "<caption>A tibble: 8 × 3</caption>\n",
       "<thead>\n",
       "\t<tr><th scope=col>species</th><th scope=col>type</th><th scope=col>ratio</th></tr>\n",
       "\t<tr><th scope=col>&lt;chr&gt;</th><th scope=col>&lt;chr&gt;</th><th scope=col>&lt;dbl&gt;</th></tr>\n",
       "</thead>\n",
       "<tbody>\n",
       "\t<tr><td>Hsap</td><td>SSD</td><td>0.7072310</td></tr>\n",
       "\t<tr><td>Hsap</td><td>WGD</td><td>0.7687296</td></tr>\n",
       "\t<tr><td>Mmus</td><td>SSD</td><td>0.6604178</td></tr>\n",
       "\t<tr><td>Mmus</td><td>WGD</td><td>0.7097136</td></tr>\n",
       "\t<tr><td>Pmar</td><td>SSD</td><td>0.7987599</td></tr>\n",
       "\t<tr><td>Pmar</td><td>WGD</td><td>0.7117194</td></tr>\n",
       "\t<tr><td>Pvit</td><td>SSD</td><td>0.7603993</td></tr>\n",
       "\t<tr><td>Pvit</td><td>WGD</td><td>0.6966803</td></tr>\n",
       "</tbody>\n",
       "</table>\n"
      ],
      "text/latex": [
       "A tibble: 8 × 3\n",
       "\\begin{tabular}{lll}\n",
       " species & type & ratio\\\\\n",
       " <chr> & <chr> & <dbl>\\\\\n",
       "\\hline\n",
       "\t Hsap & SSD & 0.7072310\\\\\n",
       "\t Hsap & WGD & 0.7687296\\\\\n",
       "\t Mmus & SSD & 0.6604178\\\\\n",
       "\t Mmus & WGD & 0.7097136\\\\\n",
       "\t Pmar & SSD & 0.7987599\\\\\n",
       "\t Pmar & WGD & 0.7117194\\\\\n",
       "\t Pvit & SSD & 0.7603993\\\\\n",
       "\t Pvit & WGD & 0.6966803\\\\\n",
       "\\end{tabular}\n"
      ],
      "text/markdown": [
       "\n",
       "A tibble: 8 × 3\n",
       "\n",
       "| species &lt;chr&gt; | type &lt;chr&gt; | ratio &lt;dbl&gt; |\n",
       "|---|---|---|\n",
       "| Hsap | SSD | 0.7072310 |\n",
       "| Hsap | WGD | 0.7687296 |\n",
       "| Mmus | SSD | 0.6604178 |\n",
       "| Mmus | WGD | 0.7097136 |\n",
       "| Pmar | SSD | 0.7987599 |\n",
       "| Pmar | WGD | 0.7117194 |\n",
       "| Pvit | SSD | 0.7603993 |\n",
       "| Pvit | WGD | 0.6966803 |\n",
       "\n"
      ],
      "text/plain": [
       "  species type ratio    \n",
       "1 Hsap    SSD  0.7072310\n",
       "2 Hsap    WGD  0.7687296\n",
       "3 Mmus    SSD  0.6604178\n",
       "4 Mmus    WGD  0.7097136\n",
       "5 Pmar    SSD  0.7987599\n",
       "6 Pmar    WGD  0.7117194\n",
       "7 Pvit    SSD  0.7603993\n",
       "8 Pvit    WGD  0.6966803"
      ]
     },
     "metadata": {},
     "output_type": "display_data"
    }
   ],
   "source": [
    "tmp <- plot_res %>% filter(mtx == 'exp') %>% group_by(species, type) %>% summarise(ratio = sign/total) %>% ungroup()\n",
    "tmp"
   ]
  },
  {
   "cell_type": "code",
   "execution_count": 5,
   "id": "b0527bf5",
   "metadata": {},
   "outputs": [],
   "source": [
    "plot_res1 <- plot_res %>% pivot_longer(cols = c(sign, insign), \n",
    "               names_to = \"variable\", \n",
    "               values_to = \"value\")\n",
    "plot_res1$variable <- factor(plot_res1$variable, levels = c(\"sign\", \"insign\"))\n",
    "plot_res1$type <- factor(plot_res1$type, levels = c(\"WGD\", \"SSD\"))\n",
    "plot_res1$species <- factor(plot_res1$species, levels = species)"
   ]
  },
  {
   "cell_type": "code",
   "execution_count": 6,
   "id": "ecf23e92",
   "metadata": {},
   "outputs": [
    {
     "data": {
      "text/html": [
       "<strong>pdf:</strong> 2"
      ],
      "text/latex": [
       "\\textbf{pdf:} 2"
      ],
      "text/markdown": [
       "**pdf:** 2"
      ],
      "text/plain": [
       "pdf \n",
       "  2 "
      ]
     },
     "metadata": {},
     "output_type": "display_data"
    }
   ],
   "source": [
    "pdf(\"summary_family.exp.significant_diff.Friedman.pdf\", width = 5, height = 4)\n",
    "plot_res1 %>% filter(mtx == \"exp\") %>% ggbarplot(x = \"variable\", y = \"value\", color = \"variable\", fill = \"variable\") + \n",
    "    scale_fill_manual(values=c(\"#999900\",\"#666666\"))+\n",
    "    scale_color_manual(values=c(\"#999900\",\"#666666\")) +\n",
    "    facet_grid(vars(type), vars(species)) \n",
    "dev.off()"
   ]
  },
  {
   "cell_type": "code",
   "execution_count": 7,
   "id": "fc2257d3",
   "metadata": {},
   "outputs": [
    {
     "data": {
      "text/html": [
       "<strong>pdf:</strong> 2"
      ],
      "text/latex": [
       "\\textbf{pdf:} 2"
      ],
      "text/markdown": [
       "**pdf:** 2"
      ],
      "text/plain": [
       "pdf \n",
       "  2 "
      ]
     },
     "metadata": {},
     "output_type": "display_data"
    }
   ],
   "source": [
    "pdf(\"summary_family.pct.significant_diff.Friedman.pdf\", width = 5, height = 4)\n",
    "plot_res1 %>% filter(mtx == \"pct\") %>% ggbarplot(x = \"variable\", y = \"value\", color = \"variable\", fill = \"variable\") + \n",
    "    scale_fill_manual(values=c(\"#999900\",\"#666666\"))+\n",
    "    scale_color_manual(values=c(\"#999900\",\"#666666\")) +\n",
    "    facet_grid(vars(type), vars(species)) \n",
    "dev.off()"
   ]
  },
  {
   "cell_type": "code",
   "execution_count": null,
   "id": "7aacf283",
   "metadata": {},
   "outputs": [],
   "source": []
  }
 ],
 "metadata": {
  "kernelspec": {
   "display_name": "R [conda env:sc]",
   "language": "R",
   "name": "conda-env-sc-r"
  },
  "language_info": {
   "codemirror_mode": "r",
   "file_extension": ".r",
   "mimetype": "text/x-r-source",
   "name": "R",
   "pygments_lexer": "r",
   "version": "4.3.2"
  }
 },
 "nbformat": 4,
 "nbformat_minor": 5
}
