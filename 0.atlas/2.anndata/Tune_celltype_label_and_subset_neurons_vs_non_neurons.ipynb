{
 "cells": [
  {
   "cell_type": "code",
   "execution_count": 5,
   "id": "89c9f9c9-91fb-40cf-bfa3-94183bbf9b60",
   "metadata": {},
   "outputs": [],
   "source": [
    "import anndata as ad\n",
    "import scanpy as sc\n",
    "import re\n",
    "import numpy as np\n",
    "import pandas as pd"
   ]
  },
  {
   "cell_type": "code",
   "execution_count": 2,
   "id": "28dbd6d4",
   "metadata": {},
   "outputs": [
    {
     "name": "stdout",
     "output_type": "stream",
     "text": [
      "1.10.2\n",
      "0.10.8\n"
     ]
    }
   ],
   "source": [
    "print(sc.__version__)\n",
    "print(ad.__version__)"
   ]
  },
  {
   "cell_type": "code",
   "execution_count": 7,
   "id": "07af0212-72ed-47cb-9014-a2a4f030c9ac",
   "metadata": {},
   "outputs": [],
   "source": [
    "Pmar = ad.read_h5ad(\"../0.atlas/Pmar/Pmar.wb.h5ad\")\n",
    "Pmar.obs['cell_type'] = Pmar.obs['Level2']\n",
    "Pmar.obs['species'] = 'Pmar'\n",
    "batch = pd.read_csv('lamprey_sample2donor', sep='\\t')\n",
    "dict_ = batch.set_index('SampleID')['DonorID'].to_dict()\n",
    "Pmar.obs['DonorID'] = [dict_[i] for i in Pmar.obs['orig.ident']]\n",
    "Pmar.write_h5ad(\"Pmar.wb.h5ad\", compression='gzip')"
   ]
  },
  {
   "cell_type": "code",
   "execution_count": 5,
   "id": "29dc0c20-72e6-4c42-be94-824f1b03ce52",
   "metadata": {},
   "outputs": [],
   "source": [
    "Mmus = ad.read_h5ad(\"../0.atlas/Mmus/Mmus.h5ad\")\n",
    "Mmus.obs['cell_type'] = Mmus.obs['TaxonomyRank4']\n",
    "Mmus.obs['species'] = 'Mmus'\n",
    "Mmus.write_h5ad(\"Mmus.wb.h5ad\",  compression='gzip')"
   ]
  },
  {
   "cell_type": "code",
   "execution_count": 6,
   "id": "234d0420-6657-46e6-ab74-3229edece499",
   "metadata": {},
   "outputs": [],
   "source": [
    "Hsap = ad.read_h5ad(\"../0.atlas/Hsap/Hsap.subset.100k_neurons_100k_others.h5ad\")\n",
    "Hsap.obs['cell_type'] = Hsap.obs['supercluster']\n",
    "Hsap.obs['species'] = 'Hsap'\n",
    "Hsap.write_h5ad(\"Hsap.wb.h5ad\",  compression='gzip')"
   ]
  },
  {
   "cell_type": "code",
   "execution_count": 7,
   "id": "4787dedb-8a76-4896-95c7-e5b5af5514ca",
   "metadata": {},
   "outputs": [],
   "source": [
    "Pvit = ad.read_h5ad(\"../0.atlas/Pvit/Pvit.subset.100k_neurons_100k_others.h5ad\")\n",
    "Pvit.obs['cell_type'] = [re.sub(r'\\d+$', '', s) for s in Pvit.obs['Taxonomy3'].tolist()]\n",
    "Pvit.obs['species'] = 'Pvit'\n",
    "Pvit.write_h5ad(\"Pvit.wb.h5ad\",  compression='gzip')"
   ]
  },
  {
   "cell_type": "code",
   "execution_count": 8,
   "id": "1350ec6c-3cca-4087-bcd8-bfcc4176e0f4",
   "metadata": {},
   "outputs": [],
   "source": [
    "# split atlas into neurons and non-neurons for spearate integration"
   ]
  },
  {
   "cell_type": "code",
   "execution_count": 8,
   "id": "e5515902-b929-4331-b545-7d54e4a049a8",
   "metadata": {},
   "outputs": [],
   "source": [
    "Pmar_neurons = Pmar[Pmar.obs['Level1'].isin(['Neuron'])]\n",
    "Pmar_non_neurons = Pmar[Pmar.obs['Level1'].isin(['Non-neuron'])]\n",
    "Pmar_neurons.write_h5ad(\"Pmar.neurons.h5ad\",  compression='gzip')\n",
    "Pmar_non_neurons.write_h5ad(\"Pmar.non_neurons.h5ad\",  compression='gzip')"
   ]
  },
  {
   "cell_type": "code",
   "execution_count": 10,
   "id": "321251ee-37e7-4b72-b54c-fc58c9795824",
   "metadata": {},
   "outputs": [],
   "source": [
    "Pvit_neurons = Pvit[Pvit.obs['Taxonomy1'].isin(['neurons'])]\n",
    "Pvit_non_neurons = Pvit[Pvit.obs['Taxonomy1'].isin(['non-neurons'])]\n",
    "Pvit_neurons.write_h5ad(\"Pvit.neurons.h5ad\",  compression='gzip')\n",
    "Pvit_non_neurons.write_h5ad(\"Pvit.non_neurons.h5ad\",  compression='gzip')"
   ]
  },
  {
   "cell_type": "code",
   "execution_count": 11,
   "id": "b5c21845-de76-49d5-b1df-7bfac68e232d",
   "metadata": {},
   "outputs": [],
   "source": [
    "Mmus_neurons = Mmus[Mmus.obs['Class'].isin(['Neurons'])]\n",
    "Mmus_non_neurons = Mmus[~Mmus.obs['Class'].isin(['Neurons'])]\n",
    "Mmus_neurons.write_h5ad(\"Mmus.neurons.h5ad\",  compression='gzip')\n",
    "Mmus_non_neurons.write_h5ad(\"Mmus.non_neurons.h5ad\",  compression='gzip')"
   ]
  },
  {
   "cell_type": "code",
   "execution_count": 12,
   "id": "d6237669-9c5e-44cb-850b-2bd1fd9e3b42",
   "metadata": {},
   "outputs": [],
   "source": [
    "Hsap_neurons = Hsap[~Hsap.obs['supercluster'].isin(['Ependymal', 'Oligodendrocyte precursor', 'Microglia', 'Fibroblast', \n",
    "                                                'Committed oligodendrocyte precursor', 'Bergmann glia', 'Astrocyte',\n",
    "                                                'Oligodendrocyte', 'Vascular', 'Choroid plexus'])]\n",
    "Hsap_non_neurons = Hsap[Hsap.obs['supercluster'].isin(['Ependymal', 'Oligodendrocyte precursor', 'Microglia', 'Fibroblast', \n",
    "                                                'Committed oligodendrocyte precursor', 'Bergmann glia', 'Astrocyte',\n",
    "                                                'Oligodendrocyte', 'Vascular', 'Choroid plexus'])]"
   ]
  },
  {
   "cell_type": "code",
   "execution_count": 13,
   "id": "0bf610b2-ed89-4623-b2cf-7764c6bcd697",
   "metadata": {},
   "outputs": [],
   "source": [
    "Hsap_neurons.write_h5ad(\"Hsap.neurons.h5ad\",  compression='gzip')\n",
    "Hsap_non_neurons.write_h5ad(\"Hsap.non_neurons.h5ad\",  compression='gzip')"
   ]
  },
  {
   "cell_type": "code",
   "execution_count": null,
   "id": "e593f8ed",
   "metadata": {},
   "outputs": [],
   "source": []
  }
 ],
 "metadata": {
  "kernelspec": {
   "display_name": "Python [conda env:scpy39]",
   "language": "python",
   "name": "conda-env-scpy39-py"
  },
  "language_info": {
   "codemirror_mode": {
    "name": "ipython",
    "version": 3
   },
   "file_extension": ".py",
   "mimetype": "text/x-python",
   "name": "python",
   "nbconvert_exporter": "python",
   "pygments_lexer": "ipython3",
   "version": "3.9.18"
  }
 },
 "nbformat": 4,
 "nbformat_minor": 5
}
