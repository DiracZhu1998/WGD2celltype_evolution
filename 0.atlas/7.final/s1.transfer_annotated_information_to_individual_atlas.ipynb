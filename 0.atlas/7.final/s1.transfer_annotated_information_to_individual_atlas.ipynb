{
 "cells": [
  {
   "cell_type": "code",
   "execution_count": 1,
   "id": "464f69eb",
   "metadata": {},
   "outputs": [],
   "source": [
    "import scanpy as sc\n",
    "import anndata as ad\n",
    "import pandas as pd"
   ]
  },
  {
   "cell_type": "code",
   "execution_count": 2,
   "id": "fe2146bc",
   "metadata": {},
   "outputs": [],
   "source": [
    "path = \"/mnt/data01/yuanzhen/01.Vertebrate_cell_evo/01.data/02.atlas_final/2.samap/1.SAM/\"\n",
    "Hsap_neurons = sc.read_h5ad(f'{path}/Hsap.neurons_pr.h5ad')\n",
    "Mmus_neurons = sc.read_h5ad(f'{path}/Mmus.neurons_pr.h5ad')\n",
    "Pvit_neurons = sc.read_h5ad(f'{path}/Pvit.neurons_pr.h5ad')\n",
    "Pmar_neurons = sc.read_h5ad(f'{path}/Pmar.neurons_pr.h5ad')\n",
    "\n",
    "Hsap_non_neurons = sc.read_h5ad(f'{path}/Hsap.non_neurons_pr.h5ad')\n",
    "Mmus_non_neurons = sc.read_h5ad(f'{path}/Mmus.non_neurons_pr.h5ad')\n",
    "Pvit_non_neurons = sc.read_h5ad(f'{path}/Pvit.non_neurons_pr.h5ad')\n",
    "Pmar_non_neurons = sc.read_h5ad(f'{path}/Pmar.non_neurons_pr.h5ad')\n",
    "\n",
    "Hsap = sc.read_h5ad(f'{path}/Hsap.wb_pr.h5ad')\n",
    "Mmus = sc.read_h5ad(f'{path}/Mmus.wb_pr.h5ad')\n",
    "Pvit = sc.read_h5ad(f'{path}/Pvit.wb_pr.h5ad')\n",
    "Pmar = sc.read_h5ad(f'{path}/Pmar.wb_pr.h5ad')\n"
   ]
  },
  {
   "cell_type": "code",
   "execution_count": 3,
   "id": "fec34b51",
   "metadata": {},
   "outputs": [],
   "source": [
    "Hsap_neurons.obs['Species'] = \"Hsap\"\n",
    "Mmus_neurons.obs['Species'] = \"Mmus\"\n",
    "Pvit_neurons.obs['Species'] = \"Pvit\"\n",
    "Pmar_neurons.obs['Species'] = \"Pmar\"\n",
    "\n",
    "Hsap_non_neurons.obs['Species'] = \"Hsap\"\n",
    "Mmus_non_neurons.obs['Species'] = \"Mmus\"\n",
    "Pvit_non_neurons.obs['Species'] = \"Pvit\"\n",
    "Pmar_non_neurons.obs['Species'] = \"Pmar\"\n",
    "\n",
    "Hsap.obs['Species'] = \"Hsap\"\n",
    "Mmus.obs['Species'] = \"Mmus\"\n",
    "Pvit.obs['Species'] = \"Pvit\"\n",
    "Pmar.obs['Species'] = \"Pmar\""
   ]
  },
  {
   "cell_type": "code",
   "execution_count": 4,
   "id": "dfb0f428",
   "metadata": {},
   "outputs": [],
   "source": [
    "ann_path = '/mnt/data01/yuanzhen/01.Vertebrate_cell_evo/01.data/02.atlas_final/2.meta_and_umap/Refined_annotation/'\n",
    "info1 = pd.read_csv(f'{ann_path}/Pmar.iter_clustering.ann.count_mean.txt',sep = '\\t',names = ['cell','iter.clustering'], index_col = 0)\n",
    "info2 = pd.read_csv(f'{ann_path}/Pvit.iter_clustering.ann.count_mean.txt',sep = '\\t',names = ['cell','iter.clustering'], index_col = 0)\n",
    "info3 = pd.read_csv(f'{ann_path}/Mmus.iter_clustering.ann.count_mean.txt',sep = '\\t',names = ['cell','iter.clustering'], index_col = 0)\n",
    "info4 = pd.read_csv(f'{ann_path}/Hsap.iter_clustering.ann.count_mean.txt',sep = '\\t',names = ['cell','iter.clustering'], index_col = 0)\n",
    "\n",
    "Pmar_neurons.obs['iter.clustering'] = info1['iter.clustering']\n",
    "Pmar_non_neurons.obs['iter.clustering'] = info1['iter.clustering']\n",
    "Pmar.obs['iter.clustering'] = info1['iter.clustering']\n",
    "\n",
    "Pvit_neurons.obs['iter.clustering'] = info2['iter.clustering']\n",
    "Pvit_non_neurons.obs['iter.clustering'] = info2['iter.clustering']\n",
    "Pvit.obs['iter.clustering'] = info2['iter.clustering']\n",
    "\n",
    "Mmus_neurons.obs['iter.clustering'] = info3['iter.clustering']\n",
    "Mmus_non_neurons.obs['iter.clustering'] = info3['iter.clustering']\n",
    "Mmus.obs['iter.clustering'] = info3['iter.clustering']\n",
    "\n",
    "Hsap_neurons.obs['iter.clustering'] = info4['iter.clustering']\n",
    "Hsap_non_neurons.obs['iter.clustering'] = info4['iter.clustering']\n",
    "Hsap.obs['iter.clustering'] = info4['iter.clustering']\n",
    "\n",
    "\n",
    "Pmar_ann = pd.read_csv(f'{ann_path}/Pmar_family_annotation.txt', sep = \"\\t\")[['Cluster','Refined family','Refined subtype']]\n",
    "Pvit_ann = pd.read_csv(f'{ann_path}/Pvit_family_annotation.txt', sep = \"\\t\")[['Cluster','Refined family','Refined subtype']]\n",
    "Mmus_ann = pd.read_csv(f'{ann_path}/Mmus_family_annotation.txt', sep = \"\\t\")[['Cluster','Refined family','Refined subtype']]\n",
    "Hsap_ann = pd.read_csv(f'{ann_path}/Hsap_family_annotation.txt', sep = \"\\t\")[['Cluster','Refined family','Refined subtype']]"
   ]
  },
  {
   "cell_type": "code",
   "execution_count": 5,
   "id": "e5ddc68d",
   "metadata": {},
   "outputs": [],
   "source": [
    "Pmar_neurons.obs = pd.merge(Pmar_neurons.obs, Pmar_ann, left_on='iter.clustering', \n",
    "                            right_on='Cluster', how='left').set_index(Pmar_neurons.obs.index).drop('Cluster', axis=1)\n",
    "Pmar_non_neurons.obs = pd.merge(Pmar_non_neurons.obs, Pmar_ann, left_on='iter.clustering', \n",
    "                            right_on='Cluster', how='left').set_index(Pmar_non_neurons.obs.index).drop('Cluster', axis=1)\n",
    "Pmar.obs = pd.merge(Pmar.obs, Pmar_ann, left_on='iter.clustering', \n",
    "                            right_on='Cluster', how='left').set_index(Pmar.obs.index).drop('Cluster', axis=1)\n",
    "\n",
    "\n",
    "Pvit_neurons.obs = pd.merge(Pvit_neurons.obs, Pvit_ann, left_on='iter.clustering',\n",
    "                            right_on='Cluster', how='left').set_index(Pvit_neurons.obs.index).drop('Cluster', axis=1)\n",
    "Pvit_non_neurons.obs = pd.merge(Pvit_non_neurons.obs, Pvit_ann, left_on='iter.clustering',\n",
    "                            right_on='Cluster', how='left').set_index(Pvit_non_neurons.obs.index).drop('Cluster', axis=1)\n",
    "Pvit.obs = pd.merge(Pvit.obs, Pvit_ann, left_on='iter.clustering',\n",
    "                            right_on='Cluster', how='left').set_index(Pvit.obs.index).drop('Cluster', axis=1)\n",
    "\n",
    "\n",
    "Mmus_neurons.obs = pd.merge(Mmus_neurons.obs, Mmus_ann, left_on='iter.clustering',\n",
    "                            right_on='Cluster', how='left').set_index(Mmus_neurons.obs.index).drop('Cluster', axis=1)\n",
    "Mmus_non_neurons.obs = pd.merge(Mmus_non_neurons.obs, Mmus_ann, left_on='iter.clustering',\n",
    "                            right_on='Cluster', how='left').set_index(Mmus_non_neurons.obs.index).drop('Cluster', axis=1)\n",
    "Mmus.obs = pd.merge(Mmus.obs, Mmus_ann, left_on='iter.clustering',\n",
    "                            right_on='Cluster', how='left').set_index(Mmus.obs.index).drop('Cluster', axis=1)\n",
    "\n",
    "\n",
    "Hsap_neurons.obs = pd.merge(Hsap_neurons.obs, Hsap_ann, left_on='iter.clustering',\n",
    "                            right_on='Cluster', how='left').set_index(Hsap_neurons.obs.index).drop('Cluster', axis=1)\n",
    "Hsap_non_neurons.obs = pd.merge(Hsap_non_neurons.obs, Hsap_ann, left_on='iter.clustering',\n",
    "                            right_on='Cluster', how='left').set_index(Hsap_non_neurons.obs.index).drop('Cluster', axis=1)\n",
    "Hsap.obs = pd.merge(Hsap.obs, Hsap_ann, left_on='iter.clustering',\n",
    "                            right_on='Cluster', how='left').set_index(Hsap.obs.index).drop('Cluster', axis=1)\n"
   ]
  },
  {
   "cell_type": "code",
   "execution_count": 6,
   "id": "aa7f1739",
   "metadata": {},
   "outputs": [],
   "source": [
    "Hsap_neurons.write('Hsap.neurons.iter_cluster_annotated.h5ad', compression = \"gzip\")\n",
    "Mmus_neurons.write('Mmus.neurons.iter_cluster_annotated.h5ad', compression = \"gzip\")\n",
    "Pvit_neurons.write('Pvit.neurons.iter_cluster_annotated.h5ad', compression = \"gzip\")\n",
    "Pmar_neurons.write('Pmar.neurons.iter_cluster_annotated.h5ad', compression = \"gzip\")\n",
    "\n",
    "Hsap_non_neurons.write('Hsap.non_neurons.iter_cluster_annotated.h5ad', compression = \"gzip\")\n",
    "Mmus_non_neurons.write('Mmus.non_neurons.iter_cluster_annotated.h5ad', compression = \"gzip\")\n",
    "Pvit_non_neurons.write('Pvit.non_neurons.iter_cluster_annotated.h5ad', compression = \"gzip\")\n",
    "Pmar_non_neurons.write('Pmar.non_neurons.iter_cluster_annotated.h5ad', compression = \"gzip\")"
   ]
  },
  {
   "cell_type": "code",
   "execution_count": 7,
   "id": "22ea5844",
   "metadata": {},
   "outputs": [],
   "source": [
    "Hsap.write('Hsap.wb.iter_cluster_annotated.h5ad', compression = \"gzip\")\n",
    "Mmus.write('Mmus.wb.iter_cluster_annotated.h5ad', compression = \"gzip\")\n",
    "Pvit.write('Pvit.wb.iter_cluster_annotated.h5ad', compression = \"gzip\")\n",
    "Pmar.write('Pmar.wb.iter_cluster_annotated.h5ad', compression = \"gzip\")"
   ]
  },
  {
   "cell_type": "code",
   "execution_count": null,
   "id": "4a040a75",
   "metadata": {},
   "outputs": [],
   "source": []
  }
 ],
 "metadata": {
  "kernelspec": {
   "display_name": "Python [conda env:scpy39]",
   "language": "python",
   "name": "conda-env-scpy39-py"
  },
  "language_info": {
   "codemirror_mode": {
    "name": "ipython",
    "version": 3
   },
   "file_extension": ".py",
   "mimetype": "text/x-python",
   "name": "python",
   "nbconvert_exporter": "python",
   "pygments_lexer": "ipython3",
   "version": "3.9.18"
  }
 },
 "nbformat": 4,
 "nbformat_minor": 5
}
