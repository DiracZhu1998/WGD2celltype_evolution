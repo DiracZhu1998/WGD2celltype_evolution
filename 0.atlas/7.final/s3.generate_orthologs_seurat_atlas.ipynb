{
 "cells": [
  {
   "cell_type": "code",
   "execution_count": 1,
   "id": "c376a3ba",
   "metadata": {},
   "outputs": [],
   "source": [
    "suppressPackageStartupMessages({\n",
    "    require(Seurat)\n",
    "    require(dplyr)\n",
    "})"
   ]
  },
  {
   "cell_type": "code",
   "execution_count": 2,
   "id": "4a79c79b",
   "metadata": {},
   "outputs": [],
   "source": [
    "Hsap <- readRDS('Hsap.wb.iter_cluster_annotated.rds')\n",
    "Mmus <- readRDS('Mmus.wb.iter_cluster_annotated.rds')\n",
    "Pvit <- readRDS('Pvit.wb.iter_cluster_annotated.rds')\n",
    "Pmar <- readRDS('Pmar.wb.iter_cluster_annotated.rds')"
   ]
  },
  {
   "cell_type": "code",
   "execution_count": 3,
   "id": "b02af625",
   "metadata": {},
   "outputs": [],
   "source": [
    "species <- c('Hsap', 'Mmus', 'Pvit', 'Pmar')"
   ]
  },
  {
   "cell_type": "code",
   "execution_count": 4,
   "id": "5eb93a16",
   "metadata": {},
   "outputs": [],
   "source": [
    "combination <- combn(species, 2)"
   ]
  },
  {
   "cell_type": "code",
   "execution_count": 5,
   "id": "06ebfc82",
   "metadata": {},
   "outputs": [],
   "source": [
    "path <- '/mnt/data01/yuanzhen/01.Vertebrate_cell_evo/02.gene_relationships/run4/results/Ortho_pipeline/OrthoFinder/RBH_results/'\n",
    "\n",
    "for(i in 1:ncol(combination)){\n",
    "    tmp <- read.delim(paste0(path, '/RBH.', combination[1, i], '.', combination[2, i], '.tsv'), header = T)\n",
    "    names <- paste0('RBH_', combination[1, i], '.', combination[2, i])\n",
    "    assign(names, tmp)\n",
    "}"
   ]
  },
  {
   "cell_type": "code",
   "execution_count": 6,
   "id": "b8820aab",
   "metadata": {},
   "outputs": [],
   "source": [
    "Amniotes_orthologs <- RBH_Hsap.Mmus %>% full_join(RBH_Mmus.Pvit, by = \"Mmus\") %>% \n",
    "    full_join(RBH_Hsap.Pvit, by = c(\"Pvit\", \"Hsap\"))"
   ]
  },
  {
   "cell_type": "code",
   "execution_count": 7,
   "id": "0f0873be",
   "metadata": {},
   "outputs": [],
   "source": [
    "Vertebrate_orthologs <- Amniotes_orthologs %>% full_join(RBH_Hsap.Pmar, by = \"Hsap\") %>%\n",
    "    full_join(RBH_Mmus.Pmar, by = c(\"Pmar\",\"Mmus\")) %>% full_join(RBH_Pvit.Pmar, by = c(\"Pmar\",\"Pvit\"))"
   ]
  },
  {
   "cell_type": "code",
   "execution_count": 8,
   "id": "78893423",
   "metadata": {},
   "outputs": [],
   "source": [
    "gene_bg <- readRDS('/mnt/data01/yuanzhen/01.Vertebrate_cell_evo/04.ohno_para_significance/0bin/gene_bg.rds')"
   ]
  },
  {
   "cell_type": "code",
   "execution_count": 9,
   "id": "2fb14044",
   "metadata": {},
   "outputs": [],
   "source": [
    "# make sure every genes in 1-1-1-1 orthologs are expressed (included) in atlases\n",
    "Vertebrate_orthologs <- Vertebrate_orthologs %>% filter(Hsap %in% gene_bg[gene_bg$species == 'Hsap', 'gene'] & \n",
    "                                                        Mmus %in% gene_bg[gene_bg$species == 'Mmus', 'gene'] &\n",
    "                                                        Pvit %in% gene_bg[gene_bg$species == 'Pvit', 'gene'] & \n",
    "                                                        Pmar %in% gene_bg[gene_bg$species == 'Pmar', 'gene'])\n",
    "Vertebrate_orthologs <- Vertebrate_orthologs[complete.cases(Vertebrate_orthologs),]\n",
    "\n",
    "Amniotes_orthologs <- Amniotes_orthologs %>% filter(Hsap %in% gene_bg[gene_bg$species == 'Hsap', 'gene'] & \n",
    "                                                        Mmus %in% gene_bg[gene_bg$species == 'Mmus', 'gene'] &\n",
    "                                                        Pvit %in% gene_bg[gene_bg$species == 'Pvit', 'gene'])\n",
    "Amniotes_orthologs <- Amniotes_orthologs[complete.cases(Amniotes_orthologs),]"
   ]
  },
  {
   "cell_type": "code",
   "execution_count": 10,
   "id": "b973c8f8",
   "metadata": {},
   "outputs": [],
   "source": [
    "meta <- c('DonorID','Refined family', 'Refined subtype', 'Species')"
   ]
  },
  {
   "cell_type": "code",
   "execution_count": 11,
   "id": "de9226aa",
   "metadata": {},
   "outputs": [],
   "source": [
    "subset_rename_data <- function(obj, table, species_from, species_to){\n",
    "    raw <- GetAssayData(obj, layer = \"counts\")\n",
    "    raw <- raw[table[,species_from], ]\n",
    "    rownames(raw) <- table[,species_to]\n",
    "    \n",
    "    normalised <- GetAssayData(obj, layer = \"data\")\n",
    "    normalised <- normalised[table[,species_from], ]\n",
    "    rownames(normalised) <- table[, species_to]\n",
    "    \n",
    "    seurat_object <- CreateSeuratObject(counts = raw, meta.data = obj@meta.data[,meta])\n",
    "    seurat_object[[\"RNA\"]] <- CreateAssay5Object(counts = raw, data = normalised)\n",
    "    return(seurat_object)\n",
    "}"
   ]
  },
  {
   "cell_type": "code",
   "execution_count": 13,
   "id": "4f51cdfe",
   "metadata": {},
   "outputs": [],
   "source": [
    "write.table(Amniotes_orthologs, file = \"Amniote.1-1orthologs.txt\", col.names = F, row.names = F, quote = F, sep = '\\t')\n",
    "write.table(Vertebrate_orthologs, file = \"Vertebrate.1-1orthologs.txt\", col.names = F, row.names = F, quote = F, sep = '\\t')"
   ]
  },
  {
   "cell_type": "code",
   "execution_count": 14,
   "id": "0ab896a1",
   "metadata": {},
   "outputs": [],
   "source": [
    "Hsap_renamed <- subset_rename_data(Hsap, Amniotes_orthologs, 'Hsap', 'Mmus')\n",
    "Mmus_renamed <- subset_rename_data(Mmus, Amniotes_orthologs, 'Mmus', 'Mmus')\n",
    "Pvit_renamed <- subset_rename_data(Pvit, Amniotes_orthologs, 'Pvit', 'Mmus')\n",
    "\n",
    "amniote_obj <- merge(Hsap_renamed, y = c(Mmus_renamed, Pvit_renamed))\n",
    "Idents(amniote_obj) <- \"Refined.family\"\n",
    "amniote_obj <- JoinLayers(amniote_obj, overwrite = TRUE)\n",
    "saveRDS(amniote_obj, file = \"Amniote.1-1orthologs.rds\")"
   ]
  },
  {
   "cell_type": "code",
   "execution_count": 15,
   "id": "faa26ed3",
   "metadata": {},
   "outputs": [],
   "source": [
    "Hsap_renamed <- subset_rename_data(Hsap, Vertebrate_orthologs, 'Hsap', 'Mmus')\n",
    "Mmus_renamed <- subset_rename_data(Mmus, Vertebrate_orthologs, 'Mmus', 'Mmus')\n",
    "Pvit_renamed <- subset_rename_data(Pvit, Vertebrate_orthologs, 'Pvit', 'Mmus')\n",
    "Pmar_renamed <- subset_rename_data(Pmar, Vertebrate_orthologs, 'Pmar', 'Mmus')\n",
    "\n",
    "vertebrate_obj <- merge(Hsap_renamed, y = c(Mmus_renamed, Pvit_renamed, Pmar_renamed))\n",
    "Idents(vertebrate_obj) <- \"Refined.family\"\n",
    "vertebrate_obj <- JoinLayers(vertebrate_obj, overwrite = TRUE)\n",
    "saveRDS(vertebrate_obj, file = \"Vertebrate.1-1orthologs.rds\")"
   ]
  },
  {
   "cell_type": "code",
   "execution_count": null,
   "id": "cfb4cddc",
   "metadata": {},
   "outputs": [],
   "source": []
  }
 ],
 "metadata": {
  "kernelspec": {
   "display_name": "R [conda env:sc]",
   "language": "R",
   "name": "conda-env-sc-r"
  },
  "language_info": {
   "codemirror_mode": "r",
   "file_extension": ".r",
   "mimetype": "text/x-r-source",
   "name": "R",
   "pygments_lexer": "r",
   "version": "4.3.2"
  }
 },
 "nbformat": 4,
 "nbformat_minor": 5
}
