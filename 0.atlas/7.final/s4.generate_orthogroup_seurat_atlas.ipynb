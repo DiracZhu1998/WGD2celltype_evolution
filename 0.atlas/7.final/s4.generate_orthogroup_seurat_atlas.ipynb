{
 "cells": [
  {
   "cell_type": "code",
   "execution_count": 1,
   "id": "c376a3ba",
   "metadata": {},
   "outputs": [],
   "source": [
    "# this script is for get proper orthogroups and use meta-gene method to get individual atlas, \n",
    "# then merge into a vertebrate-level orthogroup level atlas for plotting\n",
    "suppressPackageStartupMessages({\n",
    "    require(Seurat)\n",
    "    require(dplyr)\n",
    "})"
   ]
  },
  {
   "cell_type": "code",
   "execution_count": 2,
   "id": "6ebbd93d",
   "metadata": {},
   "outputs": [],
   "source": [
    "orthogroups <- read.delim('/mnt/data01/yuanzhen/01.Vertebrate_cell_evo/02.gene_relationships/run4/results/Ortho_pipeline/OrthoFinder/Orthogroups/Orthogroups.tsv')\n",
    "# at least one copy for 4 species\n",
    "orthogroups <- orthogroups %>% select(c('Orthogroup', 'Pmar', 'Pvit', 'Mmus', 'Hsap'))  %>% \n",
    "    filter(Pmar != '' & Pvit != '' & Mmus != '' & Hsap != '')"
   ]
  },
  {
   "cell_type": "code",
   "execution_count": 3,
   "id": "bf928654",
   "metadata": {},
   "outputs": [],
   "source": [
    "# calculate number of genes by calcualting commas in it\n",
    "count_commas <- function(x) {\n",
    "  sapply(gregexpr(\",\", x), function(match) ifelse(match[1] == -1, 0, length(match)))\n",
    "}\n",
    "number_genes <- data.frame(apply(orthogroups, c(1,2), count_commas))\n",
    "\n",
    "# retain orthogroups with only 5 copies max for each four species\n",
    "orthogroups <- orthogroups[which(number_genes$Pmar <= 4 & number_genes$Pvit <= 4 & number_genes$Mmus <= 4 & number_genes$Hsap <= 4), ]"
   ]
  },
  {
   "cell_type": "code",
   "execution_count": 4,
   "id": "ef1aefcd",
   "metadata": {},
   "outputs": [
    {
     "data": {
      "text/html": [
       "<style>\n",
       ".list-inline {list-style: none; margin:0; padding: 0}\n",
       ".list-inline>li {display: inline-block}\n",
       ".list-inline>li:not(:last-child)::after {content: \"\\00b7\"; padding: 0 .5ex}\n",
       "</style>\n",
       "<ol class=list-inline><li>7293</li><li>5</li></ol>\n"
      ],
      "text/latex": [
       "\\begin{enumerate*}\n",
       "\\item 7293\n",
       "\\item 5\n",
       "\\end{enumerate*}\n"
      ],
      "text/markdown": [
       "1. 7293\n",
       "2. 5\n",
       "\n",
       "\n"
      ],
      "text/plain": [
       "[1] 7293    5"
      ]
     },
     "metadata": {},
     "output_type": "display_data"
    }
   ],
   "source": [
    "dim(orthogroups)"
   ]
  },
  {
   "cell_type": "code",
   "execution_count": null,
   "id": "74d2d495",
   "metadata": {},
   "outputs": [],
   "source": []
  },
  {
   "cell_type": "code",
   "execution_count": 5,
   "id": "9b18ab33",
   "metadata": {},
   "outputs": [],
   "source": [
    "meta <- c('DonorID','Refined family', 'Refined subtype', 'Species')\n",
    "get_metagene_obj <- function(obj, orthogroups, species){\n",
    "    \n",
    "    test <- orthogroups %>% dplyr::select(c(Orthogroup, species)) %>% \n",
    "        tidyr::separate_rows(species, sep = \",\\\\s*\") %>% as.data.frame()\n",
    "    test <- test[test[,species] %in% rownames(obj), ]\n",
    "    \n",
    "    raw <- GetAssayData(obj, layer = \"counts\")\n",
    "    meta_raw <- Matrix.utils::aggregate.Matrix(\n",
    "        raw[test[,species], ],\n",
    "        groupings = test$Orthogroup,\n",
    "        fun = \"sum\"\n",
    "    )\n",
    "    \n",
    "    normalised <- GetAssayData(obj, layer = \"data\")\n",
    "    meta_normalised <- Matrix.utils::aggregate.Matrix(\n",
    "        normalised[test[,species], ],\n",
    "        groupings = test$Orthogroup,\n",
    "        fun = \"sum\"\n",
    "    )\n",
    "    \n",
    "    seurat_object <- CreateSeuratObject(counts = meta_raw, meta.data = obj@meta.data[,meta])\n",
    "    seurat_object[[\"RNA\"]] <- CreateAssay5Object(counts = meta_raw, data = meta_normalised)\n",
    "    return(seurat_object)\n",
    "}"
   ]
  },
  {
   "cell_type": "code",
   "execution_count": 6,
   "id": "df9e791d",
   "metadata": {},
   "outputs": [
    {
     "name": "stderr",
     "output_type": "stream",
     "text": [
      "Warning message:\n",
      "“\u001b[1m\u001b[22mUsing an external vector in selections was deprecated in tidyselect 1.1.0.\n",
      "\u001b[36mℹ\u001b[39m Please use `all_of()` or `any_of()` instead.\n",
      "  # Was:\n",
      "  data %>% select(species)\n",
      "\n",
      "  # Now:\n",
      "  data %>% select(all_of(species))\n",
      "\n",
      "See <https://tidyselect.r-lib.org/reference/faq-external-vector.html>.”\n"
     ]
    }
   ],
   "source": [
    "Pmar <- readRDS('Pmar.wb.iter_cluster_annotated.rds')\n",
    "Pmar_metagene <- get_metagene_obj(Pmar, orthogroups, \"Pmar\")\n",
    "rm(Pmar)\n",
    "saveRDS(Pmar_metagene, \"meta_genes/Pmar.wb.metagene.rds\")"
   ]
  },
  {
   "cell_type": "code",
   "execution_count": 7,
   "id": "eea9f346",
   "metadata": {},
   "outputs": [],
   "source": [
    "Pvit <- readRDS('Pvit.wb.iter_cluster_annotated.rds')\n",
    "Pvit_metagene <- get_metagene_obj(Pvit, orthogroups, \"Pvit\")\n",
    "rm(Pvit)\n",
    "saveRDS(Pvit_metagene, \"meta_genes/Pvit.wb.metagene.rds\")"
   ]
  },
  {
   "cell_type": "code",
   "execution_count": 8,
   "id": "d89fb303",
   "metadata": {},
   "outputs": [],
   "source": [
    "Mmus <- readRDS('Mmus.wb.iter_cluster_annotated.rds')\n",
    "Mmus_metagene <- get_metagene_obj(Mmus, orthogroups, \"Mmus\")\n",
    "rm(Mmus)\n",
    "saveRDS(Mmus_metagene, \"meta_genes/Mmus.wb.metagene.rds\")"
   ]
  },
  {
   "cell_type": "code",
   "execution_count": 9,
   "id": "9c1a5cfe",
   "metadata": {},
   "outputs": [],
   "source": [
    "Hsap <- readRDS('Hsap.wb.iter_cluster_annotated.rds')\n",
    "Hsap_metagene <- get_metagene_obj(Hsap, orthogroups, \"Hsap\")\n",
    "rm(Hsap)\n",
    "saveRDS(Hsap_metagene, \"meta_genes/Hsap.wb.metagene.rds\")"
   ]
  },
  {
   "cell_type": "code",
   "execution_count": 13,
   "id": "67a63ad9",
   "metadata": {},
   "outputs": [],
   "source": [
    "vertebrate_metagene <- merge(Hsap_metagene, y = c(Mmus_metagene, Pvit_metagene, Pmar_metagene))\n",
    "vertebrate_metagene <- JoinLayers(vertebrate_metagene, overwrite = TRUE)\n",
    "saveRDS(vertebrate_metagene, \"meta_genes/Vertebrate.merged.metagene.rds\")"
   ]
  },
  {
   "cell_type": "code",
   "execution_count": null,
   "id": "15c11fd7",
   "metadata": {},
   "outputs": [],
   "source": [
    "write.table(orthogroups, file = \"meta_genes/orthogroups.4vertebrates.txt\", sep = '\\t', quote = F, \n",
    "            row.names = F, col.names = T)"
   ]
  },
  {
   "cell_type": "code",
   "execution_count": null,
   "id": "370135ab",
   "metadata": {},
   "outputs": [],
   "source": []
  },
  {
   "cell_type": "code",
   "execution_count": 5,
   "id": "808acc28",
   "metadata": {},
   "outputs": [],
   "source": [
    "Hsap <- readRDS('meta_genes/Hsap.wb.metagene.rds')\n",
    "Mmus <- readRDS('meta_genes/Mmus.wb.metagene.rds')\n",
    "Pvit <- readRDS('meta_genes/Pvit.wb.metagene.rds')"
   ]
  },
  {
   "cell_type": "code",
   "execution_count": 7,
   "id": "344c5f88",
   "metadata": {},
   "outputs": [],
   "source": [
    "amniote_metagene <- merge(Hsap, y = c(Mmus, Pvit))\n",
    "amniote_metagene <- JoinLayers(amniote_metagene, overwrite = TRUE)\n",
    "saveRDS(amniote_metagene, \"meta_genes/Amniote.merged.metagene.rds\")"
   ]
  },
  {
   "cell_type": "code",
   "execution_count": null,
   "id": "22fef837",
   "metadata": {},
   "outputs": [],
   "source": []
  }
 ],
 "metadata": {
  "kernelspec": {
   "display_name": "R [conda env:sc]",
   "language": "R",
   "name": "conda-env-sc-r"
  },
  "language_info": {
   "codemirror_mode": "r",
   "file_extension": ".r",
   "mimetype": "text/x-r-source",
   "name": "R",
   "pygments_lexer": "r",
   "version": "4.3.2"
  }
 },
 "nbformat": 4,
 "nbformat_minor": 5
}
