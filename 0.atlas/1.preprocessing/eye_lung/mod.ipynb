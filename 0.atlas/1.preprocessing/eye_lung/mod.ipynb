{
 "cells": [
  {
   "cell_type": "code",
   "execution_count": 1,
   "id": "1edca71a",
   "metadata": {},
   "outputs": [
    {
     "name": "stderr",
     "output_type": "stream",
     "text": [
      "Loading required package: Seurat\n",
      "\n",
      "Loading required package: SeuratObject\n",
      "\n",
      "Loading required package: sp\n",
      "\n",
      "\n",
      "Attaching package: ‘SeuratObject’\n",
      "\n",
      "\n",
      "The following object is masked from ‘package:base’:\n",
      "\n",
      "    intersect\n",
      "\n",
      "\n"
     ]
    }
   ],
   "source": [
    "require(Seurat)"
   ]
  },
  {
   "cell_type": "code",
   "execution_count": 15,
   "id": "b076b014",
   "metadata": {},
   "outputs": [],
   "source": [
    "obj <- readRDS('b351804c-293e-4aeb-9c4c-043db67f4540.rds')"
   ]
  },
  {
   "cell_type": "code",
   "execution_count": 16,
   "id": "e018f288",
   "metadata": {},
   "outputs": [
    {
     "data": {
      "text/html": [
       "<style>\n",
       ".list-inline {list-style: none; margin:0; padding: 0}\n",
       ".list-inline>li {display: inline-block}\n",
       ".list-inline>li:not(:last-child)::after {content: \"\\00b7\"; padding: 0 .5ex}\n",
       "</style>\n",
       "<ol class=list-inline><li>27957</li><li>584944</li></ol>\n"
      ],
      "text/latex": [
       "\\begin{enumerate*}\n",
       "\\item 27957\n",
       "\\item 584944\n",
       "\\end{enumerate*}\n"
      ],
      "text/markdown": [
       "1. 27957\n",
       "2. 584944\n",
       "\n",
       "\n"
      ],
      "text/plain": [
       "[1]  27957 584944"
      ]
     },
     "metadata": {},
     "output_type": "display_data"
    }
   ],
   "source": [
    "dim(obj)"
   ]
  },
  {
   "cell_type": "code",
   "execution_count": 17,
   "id": "e6cc8bc2",
   "metadata": {},
   "outputs": [
    {
     "data": {
      "text/html": [
       "<style>\n",
       ".list-inline {list-style: none; margin:0; padding: 0}\n",
       ".list-inline>li {display: inline-block}\n",
       ".list-inline>li:not(:last-child)::after {content: \"\\00b7\"; padding: 0 .5ex}\n",
       "</style>\n",
       "<ol class=list-inline><li>'ENSG00000000003'</li><li>'ENSG00000000005'</li><li>'ENSG00000000419'</li><li>'ENSG00000000457'</li><li>'ENSG00000000460'</li><li>'ENSG00000000938'</li><li>'ENSG00000000971'</li><li>'ENSG00000001036'</li><li>'ENSG00000001084'</li><li>'ENSG00000001167'</li></ol>\n"
      ],
      "text/latex": [
       "\\begin{enumerate*}\n",
       "\\item 'ENSG00000000003'\n",
       "\\item 'ENSG00000000005'\n",
       "\\item 'ENSG00000000419'\n",
       "\\item 'ENSG00000000457'\n",
       "\\item 'ENSG00000000460'\n",
       "\\item 'ENSG00000000938'\n",
       "\\item 'ENSG00000000971'\n",
       "\\item 'ENSG00000001036'\n",
       "\\item 'ENSG00000001084'\n",
       "\\item 'ENSG00000001167'\n",
       "\\end{enumerate*}\n"
      ],
      "text/markdown": [
       "1. 'ENSG00000000003'\n",
       "2. 'ENSG00000000005'\n",
       "3. 'ENSG00000000419'\n",
       "4. 'ENSG00000000457'\n",
       "5. 'ENSG00000000460'\n",
       "6. 'ENSG00000000938'\n",
       "7. 'ENSG00000000971'\n",
       "8. 'ENSG00000001036'\n",
       "9. 'ENSG00000001084'\n",
       "10. 'ENSG00000001167'\n",
       "\n",
       "\n"
      ],
      "text/plain": [
       " [1] \"ENSG00000000003\" \"ENSG00000000005\" \"ENSG00000000419\" \"ENSG00000000457\"\n",
       " [5] \"ENSG00000000460\" \"ENSG00000000938\" \"ENSG00000000971\" \"ENSG00000001036\"\n",
       " [9] \"ENSG00000001084\" \"ENSG00000001167\""
      ]
     },
     "metadata": {},
     "output_type": "display_data"
    }
   ],
   "source": [
    "rownames(obj)[1:10]"
   ]
  },
  {
   "cell_type": "code",
   "execution_count": 18,
   "id": "539499ce",
   "metadata": {},
   "outputs": [
    {
     "data": {
      "text/html": [
       "<table class=\"dataframe\">\n",
       "<caption>A data.frame: 6 × 69</caption>\n",
       "<thead>\n",
       "\t<tr><th></th><th scope=col>suspension_type</th><th scope=col>donor_id</th><th scope=col>is_primary_data</th><th scope=col>assay_ontology_term_id</th><th scope=col>cell_type_ontology_term_id</th><th scope=col>development_stage_ontology_term_id</th><th scope=col>disease_ontology_term_id</th><th scope=col>self_reported_ethnicity_ontology_term_id</th><th scope=col>tissue_ontology_term_id</th><th scope=col>organism_ontology_term_id</th><th scope=col>⋯</th><th scope=col>tissue_type</th><th scope=col>cell_type</th><th scope=col>assay</th><th scope=col>disease</th><th scope=col>organism</th><th scope=col>sex</th><th scope=col>tissue</th><th scope=col>self_reported_ethnicity</th><th scope=col>development_stage</th><th scope=col>observation_joinid</th></tr>\n",
       "\t<tr><th></th><th scope=col>&lt;fct&gt;</th><th scope=col>&lt;fct&gt;</th><th scope=col>&lt;lgl&gt;</th><th scope=col>&lt;fct&gt;</th><th scope=col>&lt;fct&gt;</th><th scope=col>&lt;fct&gt;</th><th scope=col>&lt;fct&gt;</th><th scope=col>&lt;fct&gt;</th><th scope=col>&lt;fct&gt;</th><th scope=col>&lt;fct&gt;</th><th scope=col>⋯</th><th scope=col>&lt;fct&gt;</th><th scope=col>&lt;fct&gt;</th><th scope=col>&lt;fct&gt;</th><th scope=col>&lt;fct&gt;</th><th scope=col>&lt;fct&gt;</th><th scope=col>&lt;fct&gt;</th><th scope=col>&lt;fct&gt;</th><th scope=col>&lt;fct&gt;</th><th scope=col>&lt;fct&gt;</th><th scope=col>&lt;chr&gt;</th></tr>\n",
       "</thead>\n",
       "<tbody>\n",
       "\t<tr><th scope=row>GCGACCATCCCTAACC_SC22</th><td>cell</td><td>homosapiens_None_2023_None_sikkemalisa_001_d10_1101_2022_03_10_483747Donor_05</td><td>FALSE</td><td>EFO:0009899</td><td>CL:0000583</td><td>HsapDv:0000143</td><td>PATO:0000461</td><td>HANCESTRO:0005</td><td>UBERON:0008946</td><td>NCBITaxon:9606</td><td>⋯</td><td>tissue</td><td>alveolar macrophage           </td><td>10x 3' v2</td><td>normal</td><td>Homo sapiens</td><td>female</td><td>lung parenchyma   </td><td>European</td><td>49-year-old stage</td><td>y3(xbM64-M</td></tr>\n",
       "\t<tr><th scope=row>P2_1_GCGCAACCAGTTAACC</th><td>cell</td><td>homosapiens_None_2023_None_sikkemalisa_001_d10_1101_2022_03_10_483747donor 2 </td><td>FALSE</td><td>EFO:0009899</td><td>CL:0000623</td><td>HsapDv:0000140</td><td>PATO:0000461</td><td>HANCESTRO:0005</td><td>UBERON:0008946</td><td>NCBITaxon:9606</td><td>⋯</td><td>tissue</td><td><span style=white-space:pre-wrap>natural killer cell           </span></td><td>10x 3' v2</td><td>normal</td><td>Homo sapiens</td><td><span style=white-space:pre-wrap>male  </span></td><td><span style=white-space:pre-wrap>lung parenchyma   </span></td><td>European</td><td>46-year-old stage</td><td>A&gt;+$XL~PxD</td></tr>\n",
       "\t<tr><th scope=row>GCTCTGTAGTGCTGCC_SC27</th><td>cell</td><td>homosapiens_None_2023_None_sikkemalisa_001_d10_1101_2022_03_10_483747Donor_07</td><td>FALSE</td><td>EFO:0009899</td><td>CL:0002063</td><td>HsapDv:0000141</td><td>PATO:0000461</td><td>HANCESTRO:0005</td><td>UBERON:0008946</td><td>NCBITaxon:9606</td><td>⋯</td><td>tissue</td><td>pulmonary alveolar type 2 cell</td><td>10x 3' v2</td><td>normal</td><td>Homo sapiens</td><td>female</td><td>lung parenchyma   </td><td>European</td><td>47-year-old stage</td><td>5jcAkve8k5</td></tr>\n",
       "\t<tr><th scope=row>P2_8_TTAGGACGTTCAGGCC</th><td>cell</td><td>homosapiens_None_2023_None_sikkemalisa_001_d10_1101_2022_03_10_483747donor 2 </td><td>FALSE</td><td>EFO:0009899</td><td>CL:0000583</td><td>HsapDv:0000140</td><td>PATO:0000461</td><td>HANCESTRO:0005</td><td>UBERON:0001005</td><td>NCBITaxon:9606</td><td>⋯</td><td>tissue</td><td><span style=white-space:pre-wrap>alveolar macrophage           </span></td><td>10x 3' v2</td><td>normal</td><td>Homo sapiens</td><td><span style=white-space:pre-wrap>male  </span></td><td>respiratory airway</td><td>European</td><td>46-year-old stage</td><td>k*BkT&gt;5OqJ</td></tr>\n",
       "\t<tr><th scope=row>CTTGATTGTCAGTTTG_T164</th><td>cell</td><td><span style=white-space:pre-wrap>homosapiens_None_2023_None_sikkemalisa_001_d10_1101_2022_03_10_483747T164    </span></td><td>FALSE</td><td>EFO:0009922</td><td>CL:0002633</td><td>HsapDv:0000160</td><td>PATO:0000461</td><td>HANCESTRO:0005</td><td>UBERON:0001005</td><td>NCBITaxon:9606</td><td>⋯</td><td>tissue</td><td><span style=white-space:pre-wrap>respiratory basal cell        </span></td><td>10x 3' v3</td><td>normal</td><td>Homo sapiens</td><td><span style=white-space:pre-wrap>male  </span></td><td>respiratory airway</td><td>European</td><td>66-year-old stage</td><td>zJo=(;6B&gt;Y</td></tr>\n",
       "\t<tr><th scope=row>P3_3_CCACTACTCATTGCGA</th><td>cell</td><td>homosapiens_None_2023_None_sikkemalisa_001_d10_1101_2022_03_10_483747donor 3 </td><td>FALSE</td><td>EFO:0009899</td><td>CL:0002633</td><td>HsapDv:0000145</td><td>PATO:0000461</td><td><span style=white-space:pre-wrap>unknown       </span></td><td>UBERON:0001005</td><td>NCBITaxon:9606</td><td>⋯</td><td>tissue</td><td><span style=white-space:pre-wrap>respiratory basal cell        </span></td><td>10x 3' v2</td><td>normal</td><td>Homo sapiens</td><td>female</td><td>respiratory airway</td><td>unknown </td><td>51-year-old stage</td><td>9;g8&lt;pgPWT</td></tr>\n",
       "</tbody>\n",
       "</table>\n"
      ],
      "text/latex": [
       "A data.frame: 6 × 69\n",
       "\\begin{tabular}{r|lllllllllllllllllllll}\n",
       "  & suspension\\_type & donor\\_id & is\\_primary\\_data & assay\\_ontology\\_term\\_id & cell\\_type\\_ontology\\_term\\_id & development\\_stage\\_ontology\\_term\\_id & disease\\_ontology\\_term\\_id & self\\_reported\\_ethnicity\\_ontology\\_term\\_id & tissue\\_ontology\\_term\\_id & organism\\_ontology\\_term\\_id & ⋯ & tissue\\_type & cell\\_type & assay & disease & organism & sex & tissue & self\\_reported\\_ethnicity & development\\_stage & observation\\_joinid\\\\\n",
       "  & <fct> & <fct> & <lgl> & <fct> & <fct> & <fct> & <fct> & <fct> & <fct> & <fct> & ⋯ & <fct> & <fct> & <fct> & <fct> & <fct> & <fct> & <fct> & <fct> & <fct> & <chr>\\\\\n",
       "\\hline\n",
       "\tGCGACCATCCCTAACC\\_SC22 & cell & homosapiens\\_None\\_2023\\_None\\_sikkemalisa\\_001\\_d10\\_1101\\_2022\\_03\\_10\\_483747Donor\\_05 & FALSE & EFO:0009899 & CL:0000583 & HsapDv:0000143 & PATO:0000461 & HANCESTRO:0005 & UBERON:0008946 & NCBITaxon:9606 & ⋯ & tissue & alveolar macrophage            & 10x 3' v2 & normal & Homo sapiens & female & lung parenchyma    & European & 49-year-old stage & y3(xbM64-M\\\\\n",
       "\tP2\\_1\\_GCGCAACCAGTTAACC & cell & homosapiens\\_None\\_2023\\_None\\_sikkemalisa\\_001\\_d10\\_1101\\_2022\\_03\\_10\\_483747donor 2  & FALSE & EFO:0009899 & CL:0000623 & HsapDv:0000140 & PATO:0000461 & HANCESTRO:0005 & UBERON:0008946 & NCBITaxon:9606 & ⋯ & tissue & natural killer cell            & 10x 3' v2 & normal & Homo sapiens & male   & lung parenchyma    & European & 46-year-old stage & A>+\\$XL\\textasciitilde{}PxD\\\\\n",
       "\tGCTCTGTAGTGCTGCC\\_SC27 & cell & homosapiens\\_None\\_2023\\_None\\_sikkemalisa\\_001\\_d10\\_1101\\_2022\\_03\\_10\\_483747Donor\\_07 & FALSE & EFO:0009899 & CL:0002063 & HsapDv:0000141 & PATO:0000461 & HANCESTRO:0005 & UBERON:0008946 & NCBITaxon:9606 & ⋯ & tissue & pulmonary alveolar type 2 cell & 10x 3' v2 & normal & Homo sapiens & female & lung parenchyma    & European & 47-year-old stage & 5jcAkve8k5\\\\\n",
       "\tP2\\_8\\_TTAGGACGTTCAGGCC & cell & homosapiens\\_None\\_2023\\_None\\_sikkemalisa\\_001\\_d10\\_1101\\_2022\\_03\\_10\\_483747donor 2  & FALSE & EFO:0009899 & CL:0000583 & HsapDv:0000140 & PATO:0000461 & HANCESTRO:0005 & UBERON:0001005 & NCBITaxon:9606 & ⋯ & tissue & alveolar macrophage            & 10x 3' v2 & normal & Homo sapiens & male   & respiratory airway & European & 46-year-old stage & k*BkT>5OqJ\\\\\n",
       "\tCTTGATTGTCAGTTTG\\_T164 & cell & homosapiens\\_None\\_2023\\_None\\_sikkemalisa\\_001\\_d10\\_1101\\_2022\\_03\\_10\\_483747T164     & FALSE & EFO:0009922 & CL:0002633 & HsapDv:0000160 & PATO:0000461 & HANCESTRO:0005 & UBERON:0001005 & NCBITaxon:9606 & ⋯ & tissue & respiratory basal cell         & 10x 3' v3 & normal & Homo sapiens & male   & respiratory airway & European & 66-year-old stage & zJo=(;6B>Y\\\\\n",
       "\tP3\\_3\\_CCACTACTCATTGCGA & cell & homosapiens\\_None\\_2023\\_None\\_sikkemalisa\\_001\\_d10\\_1101\\_2022\\_03\\_10\\_483747donor 3  & FALSE & EFO:0009899 & CL:0002633 & HsapDv:0000145 & PATO:0000461 & unknown        & UBERON:0001005 & NCBITaxon:9606 & ⋯ & tissue & respiratory basal cell         & 10x 3' v2 & normal & Homo sapiens & female & respiratory airway & unknown  & 51-year-old stage & 9;g8<pgPWT\\\\\n",
       "\\end{tabular}\n"
      ],
      "text/markdown": [
       "\n",
       "A data.frame: 6 × 69\n",
       "\n",
       "| <!--/--> | suspension_type &lt;fct&gt; | donor_id &lt;fct&gt; | is_primary_data &lt;lgl&gt; | assay_ontology_term_id &lt;fct&gt; | cell_type_ontology_term_id &lt;fct&gt; | development_stage_ontology_term_id &lt;fct&gt; | disease_ontology_term_id &lt;fct&gt; | self_reported_ethnicity_ontology_term_id &lt;fct&gt; | tissue_ontology_term_id &lt;fct&gt; | organism_ontology_term_id &lt;fct&gt; | ⋯ ⋯ | tissue_type &lt;fct&gt; | cell_type &lt;fct&gt; | assay &lt;fct&gt; | disease &lt;fct&gt; | organism &lt;fct&gt; | sex &lt;fct&gt; | tissue &lt;fct&gt; | self_reported_ethnicity &lt;fct&gt; | development_stage &lt;fct&gt; | observation_joinid &lt;chr&gt; |\n",
       "|---|---|---|---|---|---|---|---|---|---|---|---|---|---|---|---|---|---|---|---|---|---|\n",
       "| GCGACCATCCCTAACC_SC22 | cell | homosapiens_None_2023_None_sikkemalisa_001_d10_1101_2022_03_10_483747Donor_05 | FALSE | EFO:0009899 | CL:0000583 | HsapDv:0000143 | PATO:0000461 | HANCESTRO:0005 | UBERON:0008946 | NCBITaxon:9606 | ⋯ | tissue | alveolar macrophage            | 10x 3' v2 | normal | Homo sapiens | female | lung parenchyma    | European | 49-year-old stage | y3(xbM64-M |\n",
       "| P2_1_GCGCAACCAGTTAACC | cell | homosapiens_None_2023_None_sikkemalisa_001_d10_1101_2022_03_10_483747donor 2  | FALSE | EFO:0009899 | CL:0000623 | HsapDv:0000140 | PATO:0000461 | HANCESTRO:0005 | UBERON:0008946 | NCBITaxon:9606 | ⋯ | tissue | natural killer cell            | 10x 3' v2 | normal | Homo sapiens | male   | lung parenchyma    | European | 46-year-old stage | A&gt;+$XL~PxD |\n",
       "| GCTCTGTAGTGCTGCC_SC27 | cell | homosapiens_None_2023_None_sikkemalisa_001_d10_1101_2022_03_10_483747Donor_07 | FALSE | EFO:0009899 | CL:0002063 | HsapDv:0000141 | PATO:0000461 | HANCESTRO:0005 | UBERON:0008946 | NCBITaxon:9606 | ⋯ | tissue | pulmonary alveolar type 2 cell | 10x 3' v2 | normal | Homo sapiens | female | lung parenchyma    | European | 47-year-old stage | 5jcAkve8k5 |\n",
       "| P2_8_TTAGGACGTTCAGGCC | cell | homosapiens_None_2023_None_sikkemalisa_001_d10_1101_2022_03_10_483747donor 2  | FALSE | EFO:0009899 | CL:0000583 | HsapDv:0000140 | PATO:0000461 | HANCESTRO:0005 | UBERON:0001005 | NCBITaxon:9606 | ⋯ | tissue | alveolar macrophage            | 10x 3' v2 | normal | Homo sapiens | male   | respiratory airway | European | 46-year-old stage | k*BkT&gt;5OqJ |\n",
       "| CTTGATTGTCAGTTTG_T164 | cell | homosapiens_None_2023_None_sikkemalisa_001_d10_1101_2022_03_10_483747T164     | FALSE | EFO:0009922 | CL:0002633 | HsapDv:0000160 | PATO:0000461 | HANCESTRO:0005 | UBERON:0001005 | NCBITaxon:9606 | ⋯ | tissue | respiratory basal cell         | 10x 3' v3 | normal | Homo sapiens | male   | respiratory airway | European | 66-year-old stage | zJo=(;6B&gt;Y |\n",
       "| P3_3_CCACTACTCATTGCGA | cell | homosapiens_None_2023_None_sikkemalisa_001_d10_1101_2022_03_10_483747donor 3  | FALSE | EFO:0009899 | CL:0002633 | HsapDv:0000145 | PATO:0000461 | unknown        | UBERON:0001005 | NCBITaxon:9606 | ⋯ | tissue | respiratory basal cell         | 10x 3' v2 | normal | Homo sapiens | female | respiratory airway | unknown  | 51-year-old stage | 9;g8&lt;pgPWT |\n",
       "\n"
      ],
      "text/plain": [
       "                      suspension_type\n",
       "GCGACCATCCCTAACC_SC22 cell           \n",
       "P2_1_GCGCAACCAGTTAACC cell           \n",
       "GCTCTGTAGTGCTGCC_SC27 cell           \n",
       "P2_8_TTAGGACGTTCAGGCC cell           \n",
       "CTTGATTGTCAGTTTG_T164 cell           \n",
       "P3_3_CCACTACTCATTGCGA cell           \n",
       "                      donor_id                                                                     \n",
       "GCGACCATCCCTAACC_SC22 homosapiens_None_2023_None_sikkemalisa_001_d10_1101_2022_03_10_483747Donor_05\n",
       "P2_1_GCGCAACCAGTTAACC homosapiens_None_2023_None_sikkemalisa_001_d10_1101_2022_03_10_483747donor 2 \n",
       "GCTCTGTAGTGCTGCC_SC27 homosapiens_None_2023_None_sikkemalisa_001_d10_1101_2022_03_10_483747Donor_07\n",
       "P2_8_TTAGGACGTTCAGGCC homosapiens_None_2023_None_sikkemalisa_001_d10_1101_2022_03_10_483747donor 2 \n",
       "CTTGATTGTCAGTTTG_T164 homosapiens_None_2023_None_sikkemalisa_001_d10_1101_2022_03_10_483747T164    \n",
       "P3_3_CCACTACTCATTGCGA homosapiens_None_2023_None_sikkemalisa_001_d10_1101_2022_03_10_483747donor 3 \n",
       "                      is_primary_data assay_ontology_term_id\n",
       "GCGACCATCCCTAACC_SC22 FALSE           EFO:0009899           \n",
       "P2_1_GCGCAACCAGTTAACC FALSE           EFO:0009899           \n",
       "GCTCTGTAGTGCTGCC_SC27 FALSE           EFO:0009899           \n",
       "P2_8_TTAGGACGTTCAGGCC FALSE           EFO:0009899           \n",
       "CTTGATTGTCAGTTTG_T164 FALSE           EFO:0009922           \n",
       "P3_3_CCACTACTCATTGCGA FALSE           EFO:0009899           \n",
       "                      cell_type_ontology_term_id\n",
       "GCGACCATCCCTAACC_SC22 CL:0000583                \n",
       "P2_1_GCGCAACCAGTTAACC CL:0000623                \n",
       "GCTCTGTAGTGCTGCC_SC27 CL:0002063                \n",
       "P2_8_TTAGGACGTTCAGGCC CL:0000583                \n",
       "CTTGATTGTCAGTTTG_T164 CL:0002633                \n",
       "P3_3_CCACTACTCATTGCGA CL:0002633                \n",
       "                      development_stage_ontology_term_id\n",
       "GCGACCATCCCTAACC_SC22 HsapDv:0000143                    \n",
       "P2_1_GCGCAACCAGTTAACC HsapDv:0000140                    \n",
       "GCTCTGTAGTGCTGCC_SC27 HsapDv:0000141                    \n",
       "P2_8_TTAGGACGTTCAGGCC HsapDv:0000140                    \n",
       "CTTGATTGTCAGTTTG_T164 HsapDv:0000160                    \n",
       "P3_3_CCACTACTCATTGCGA HsapDv:0000145                    \n",
       "                      disease_ontology_term_id\n",
       "GCGACCATCCCTAACC_SC22 PATO:0000461            \n",
       "P2_1_GCGCAACCAGTTAACC PATO:0000461            \n",
       "GCTCTGTAGTGCTGCC_SC27 PATO:0000461            \n",
       "P2_8_TTAGGACGTTCAGGCC PATO:0000461            \n",
       "CTTGATTGTCAGTTTG_T164 PATO:0000461            \n",
       "P3_3_CCACTACTCATTGCGA PATO:0000461            \n",
       "                      self_reported_ethnicity_ontology_term_id\n",
       "GCGACCATCCCTAACC_SC22 HANCESTRO:0005                          \n",
       "P2_1_GCGCAACCAGTTAACC HANCESTRO:0005                          \n",
       "GCTCTGTAGTGCTGCC_SC27 HANCESTRO:0005                          \n",
       "P2_8_TTAGGACGTTCAGGCC HANCESTRO:0005                          \n",
       "CTTGATTGTCAGTTTG_T164 HANCESTRO:0005                          \n",
       "P3_3_CCACTACTCATTGCGA unknown                                 \n",
       "                      tissue_ontology_term_id organism_ontology_term_id ⋯\n",
       "GCGACCATCCCTAACC_SC22 UBERON:0008946          NCBITaxon:9606            ⋯\n",
       "P2_1_GCGCAACCAGTTAACC UBERON:0008946          NCBITaxon:9606            ⋯\n",
       "GCTCTGTAGTGCTGCC_SC27 UBERON:0008946          NCBITaxon:9606            ⋯\n",
       "P2_8_TTAGGACGTTCAGGCC UBERON:0001005          NCBITaxon:9606            ⋯\n",
       "CTTGATTGTCAGTTTG_T164 UBERON:0001005          NCBITaxon:9606            ⋯\n",
       "P3_3_CCACTACTCATTGCGA UBERON:0001005          NCBITaxon:9606            ⋯\n",
       "                      tissue_type cell_type                      assay    \n",
       "GCGACCATCCCTAACC_SC22 tissue      alveolar macrophage            10x 3' v2\n",
       "P2_1_GCGCAACCAGTTAACC tissue      natural killer cell            10x 3' v2\n",
       "GCTCTGTAGTGCTGCC_SC27 tissue      pulmonary alveolar type 2 cell 10x 3' v2\n",
       "P2_8_TTAGGACGTTCAGGCC tissue      alveolar macrophage            10x 3' v2\n",
       "CTTGATTGTCAGTTTG_T164 tissue      respiratory basal cell         10x 3' v3\n",
       "P3_3_CCACTACTCATTGCGA tissue      respiratory basal cell         10x 3' v2\n",
       "                      disease organism     sex    tissue            \n",
       "GCGACCATCCCTAACC_SC22 normal  Homo sapiens female lung parenchyma   \n",
       "P2_1_GCGCAACCAGTTAACC normal  Homo sapiens male   lung parenchyma   \n",
       "GCTCTGTAGTGCTGCC_SC27 normal  Homo sapiens female lung parenchyma   \n",
       "P2_8_TTAGGACGTTCAGGCC normal  Homo sapiens male   respiratory airway\n",
       "CTTGATTGTCAGTTTG_T164 normal  Homo sapiens male   respiratory airway\n",
       "P3_3_CCACTACTCATTGCGA normal  Homo sapiens female respiratory airway\n",
       "                      self_reported_ethnicity development_stage\n",
       "GCGACCATCCCTAACC_SC22 European                49-year-old stage\n",
       "P2_1_GCGCAACCAGTTAACC European                46-year-old stage\n",
       "GCTCTGTAGTGCTGCC_SC27 European                47-year-old stage\n",
       "P2_8_TTAGGACGTTCAGGCC European                46-year-old stage\n",
       "CTTGATTGTCAGTTTG_T164 European                66-year-old stage\n",
       "P3_3_CCACTACTCATTGCGA unknown                 51-year-old stage\n",
       "                      observation_joinid\n",
       "GCGACCATCCCTAACC_SC22 y3(xbM64-M        \n",
       "P2_1_GCGCAACCAGTTAACC A>+$XL~PxD        \n",
       "GCTCTGTAGTGCTGCC_SC27 5jcAkve8k5        \n",
       "P2_8_TTAGGACGTTCAGGCC k*BkT>5OqJ        \n",
       "CTTGATTGTCAGTTTG_T164 zJo=(;6B>Y        \n",
       "P3_3_CCACTACTCATTGCGA 9;g8<pgPWT        "
      ]
     },
     "metadata": {},
     "output_type": "display_data"
    }
   ],
   "source": [
    "head(obj@meta.data)"
   ]
  },
  {
   "cell_type": "code",
   "execution_count": 19,
   "id": "b8fd82b6",
   "metadata": {},
   "outputs": [
    {
     "name": "stderr",
     "output_type": "stream",
     "text": [
      "Validating object structure\n",
      "\n",
      "Updating object slots\n",
      "\n",
      "Ensuring keys are in the proper structure\n",
      "\n",
      "Updating matrix keys for DimReduc ‘scanvi_emb’\n",
      "\n",
      "Updating matrix keys for DimReduc ‘umap’\n",
      "\n",
      "Ensuring keys are in the proper structure\n",
      "\n",
      "Ensuring feature names don't have underscores or pipes\n",
      "\n",
      "Updating slots in RNA\n",
      "\n",
      "Updating slots in scanvi_emb\n",
      "\n",
      "Updating slots in umap\n",
      "\n",
      "Setting umap DimReduc to global\n",
      "\n",
      "Validating object structure for Assay ‘RNA’\n",
      "\n",
      "Validating object structure for DimReduc ‘scanvi_emb’\n",
      "\n",
      "Validating object structure for DimReduc ‘umap’\n",
      "\n",
      "Object representation is consistent with the most current Seurat version\n",
      "\n"
     ]
    }
   ],
   "source": [
    "obj <- UpdateSeuratObject(obj)"
   ]
  },
  {
   "cell_type": "code",
   "execution_count": 20,
   "id": "1a617c29",
   "metadata": {},
   "outputs": [],
   "source": [
    "obj <- subset(obj, cells = colnames(obj)[which(obj@meta.data$ann_level_1 != 'Immune')])\n",
    "obj <- subset(obj, cells = sample(colnames(obj), 50000))"
   ]
  },
  {
   "cell_type": "code",
   "execution_count": 22,
   "id": "47b8b084",
   "metadata": {},
   "outputs": [],
   "source": [
    "obj <- subset(obj, cells = sample(colnames(obj), 50000))"
   ]
  },
  {
   "cell_type": "code",
   "execution_count": 23,
   "id": "8fb932c6",
   "metadata": {},
   "outputs": [],
   "source": [
    "saveRDS(obj, 'Hsap.lung.non_immune_cells.subset50k.rds')"
   ]
  },
  {
   "cell_type": "code",
   "execution_count": null,
   "id": "fe9b2880",
   "metadata": {},
   "outputs": [],
   "source": []
  },
  {
   "cell_type": "code",
   "execution_count": 2,
   "id": "a8e6c1b0",
   "metadata": {},
   "outputs": [],
   "source": [
    "obj <- readRDS('64175889-d600-4b58-97ea-e74be80206e5.rds')"
   ]
  },
  {
   "cell_type": "code",
   "execution_count": 3,
   "id": "3b4e2a57",
   "metadata": {},
   "outputs": [
    {
     "data": {
      "text/html": [
       "<style>\n",
       ".list-inline {list-style: none; margin:0; padding: 0}\n",
       ".list-inline>li {display: inline-block}\n",
       ".list-inline>li:not(:last-child)::after {content: \"\\00b7\"; padding: 0 .5ex}\n",
       "</style>\n",
       "<ol class=list-inline><li>'ENSG00000243485'</li><li>'ENSG00000237613'</li><li>'ENSG00000186092'</li><li>'ENSG00000238009'</li><li>'ENSG00000239945'</li><li>'ENSG00000239906'</li><li>'ENSG00000241860'</li><li>'ENSG00000241599'</li><li>'ENSG00000286448'</li><li>'ENSG00000236601'</li></ol>\n"
      ],
      "text/latex": [
       "\\begin{enumerate*}\n",
       "\\item 'ENSG00000243485'\n",
       "\\item 'ENSG00000237613'\n",
       "\\item 'ENSG00000186092'\n",
       "\\item 'ENSG00000238009'\n",
       "\\item 'ENSG00000239945'\n",
       "\\item 'ENSG00000239906'\n",
       "\\item 'ENSG00000241860'\n",
       "\\item 'ENSG00000241599'\n",
       "\\item 'ENSG00000286448'\n",
       "\\item 'ENSG00000236601'\n",
       "\\end{enumerate*}\n"
      ],
      "text/markdown": [
       "1. 'ENSG00000243485'\n",
       "2. 'ENSG00000237613'\n",
       "3. 'ENSG00000186092'\n",
       "4. 'ENSG00000238009'\n",
       "5. 'ENSG00000239945'\n",
       "6. 'ENSG00000239906'\n",
       "7. 'ENSG00000241860'\n",
       "8. 'ENSG00000241599'\n",
       "9. 'ENSG00000286448'\n",
       "10. 'ENSG00000236601'\n",
       "\n",
       "\n"
      ],
      "text/plain": [
       " [1] \"ENSG00000243485\" \"ENSG00000237613\" \"ENSG00000186092\" \"ENSG00000238009\"\n",
       " [5] \"ENSG00000239945\" \"ENSG00000239906\" \"ENSG00000241860\" \"ENSG00000241599\"\n",
       " [9] \"ENSG00000286448\" \"ENSG00000236601\""
      ]
     },
     "metadata": {},
     "output_type": "display_data"
    }
   ],
   "source": [
    "rownames(obj)[1:10]"
   ]
  },
  {
   "cell_type": "code",
   "execution_count": 4,
   "id": "ab7988aa",
   "metadata": {},
   "outputs": [
    {
     "data": {
      "text/html": [
       "<table class=\"dataframe\">\n",
       "<caption>A data.frame: 6 × 53</caption>\n",
       "<thead>\n",
       "\t<tr><th></th><th scope=col>mapped_reference_assembly</th><th scope=col>mapped_reference_annotation</th><th scope=col>alignment_software</th><th scope=col>donor_id</th><th scope=col>donor_age</th><th scope=col>self_reported_ethnicity_ontology_term_id</th><th scope=col>donor_cause_of_death</th><th scope=col>donor_living_at_sample_collection</th><th scope=col>organism_ontology_term_id</th><th scope=col>sample_uuid</th><th scope=col>⋯</th><th scope=col>study_name</th><th scope=col>cell_type</th><th scope=col>assay</th><th scope=col>disease</th><th scope=col>organism</th><th scope=col>sex</th><th scope=col>tissue</th><th scope=col>self_reported_ethnicity</th><th scope=col>development_stage</th><th scope=col>observation_joinid</th></tr>\n",
       "\t<tr><th></th><th scope=col>&lt;fct&gt;</th><th scope=col>&lt;fct&gt;</th><th scope=col>&lt;fct&gt;</th><th scope=col>&lt;fct&gt;</th><th scope=col>&lt;fct&gt;</th><th scope=col>&lt;fct&gt;</th><th scope=col>&lt;fct&gt;</th><th scope=col>&lt;fct&gt;</th><th scope=col>&lt;fct&gt;</th><th scope=col>&lt;fct&gt;</th><th scope=col>⋯</th><th scope=col>&lt;fct&gt;</th><th scope=col>&lt;fct&gt;</th><th scope=col>&lt;fct&gt;</th><th scope=col>&lt;fct&gt;</th><th scope=col>&lt;fct&gt;</th><th scope=col>&lt;fct&gt;</th><th scope=col>&lt;fct&gt;</th><th scope=col>&lt;fct&gt;</th><th scope=col>&lt;fct&gt;</th><th scope=col>&lt;chr&gt;</th></tr>\n",
       "</thead>\n",
       "<tbody>\n",
       "\t<tr><th scope=row>GSM4081524_AAACGCTTCTTGGTCC-1</th><td>GRCh38</td><td>GENCODE 32</td><td>Cell Ranger count v7.0.1</td><td>donor1-hafler</td><td>68 years</td><td>unknown</td><td>unknown</td><td>False</td><td>NCBITaxon:9606</td><td>401d4ed4-429c-4f95-a4e4-5a977b1e2467</td><td>⋯</td><td>Hafler_GSE137537</td><td>retinal rod cell</td><td>10x 3' v3</td><td>normal</td><td>Homo sapiens</td><td>male</td><td>macula lutea proper</td><td>unknown</td><td>68-year-old stage</td><td>KqwuU&gt;o&lt;rt</td></tr>\n",
       "\t<tr><th scope=row>GSM4081524_AAAGGTACAATTGAGA-1</th><td>GRCh38</td><td>GENCODE 32</td><td>Cell Ranger count v7.0.1</td><td>donor1-hafler</td><td>68 years</td><td>unknown</td><td>unknown</td><td>False</td><td>NCBITaxon:9606</td><td>401d4ed4-429c-4f95-a4e4-5a977b1e2467</td><td>⋯</td><td>Hafler_GSE137537</td><td>Mueller cell    </td><td>10x 3' v3</td><td>normal</td><td>Homo sapiens</td><td>male</td><td>macula lutea proper</td><td>unknown</td><td>68-year-old stage</td><td>a^t-wQOE+~</td></tr>\n",
       "\t<tr><th scope=row>GSM4081524_AAAGGTAGTGTTATCG-1</th><td>GRCh38</td><td>GENCODE 32</td><td>Cell Ranger count v7.0.1</td><td>donor1-hafler</td><td>68 years</td><td>unknown</td><td>unknown</td><td>False</td><td>NCBITaxon:9606</td><td>401d4ed4-429c-4f95-a4e4-5a977b1e2467</td><td>⋯</td><td>Hafler_GSE137537</td><td>Mueller cell    </td><td>10x 3' v3</td><td>normal</td><td>Homo sapiens</td><td>male</td><td>macula lutea proper</td><td>unknown</td><td>68-year-old stage</td><td>n}J~!?#b-G</td></tr>\n",
       "\t<tr><th scope=row>GSM4081524_AAAGTCCCAACCCGCA-1</th><td>GRCh38</td><td>GENCODE 32</td><td>Cell Ranger count v7.0.1</td><td>donor1-hafler</td><td>68 years</td><td>unknown</td><td>unknown</td><td>False</td><td>NCBITaxon:9606</td><td>401d4ed4-429c-4f95-a4e4-5a977b1e2467</td><td>⋯</td><td>Hafler_GSE137537</td><td>retinal rod cell</td><td>10x 3' v3</td><td>normal</td><td>Homo sapiens</td><td>male</td><td>macula lutea proper</td><td>unknown</td><td>68-year-old stage</td><td>G!j$e!|{28</td></tr>\n",
       "\t<tr><th scope=row>GSM4081524_AAAGTCCCATTAGGCT-1</th><td>GRCh38</td><td>GENCODE 32</td><td>Cell Ranger count v7.0.1</td><td>donor1-hafler</td><td>68 years</td><td>unknown</td><td>unknown</td><td>False</td><td>NCBITaxon:9606</td><td>401d4ed4-429c-4f95-a4e4-5a977b1e2467</td><td>⋯</td><td>Hafler_GSE137537</td><td>Mueller cell    </td><td>10x 3' v3</td><td>normal</td><td>Homo sapiens</td><td>male</td><td>macula lutea proper</td><td>unknown</td><td>68-year-old stage</td><td>pLj{EG*MKb</td></tr>\n",
       "\t<tr><th scope=row>GSM4081524_AAATGGATCTTCTGGC-1</th><td>GRCh38</td><td>GENCODE 32</td><td>Cell Ranger count v7.0.1</td><td>donor1-hafler</td><td>68 years</td><td>unknown</td><td>unknown</td><td>False</td><td>NCBITaxon:9606</td><td>401d4ed4-429c-4f95-a4e4-5a977b1e2467</td><td>⋯</td><td>Hafler_GSE137537</td><td>Mueller cell    </td><td>10x 3' v3</td><td>normal</td><td>Homo sapiens</td><td>male</td><td>macula lutea proper</td><td>unknown</td><td>68-year-old stage</td><td>pjcfi*bc{I</td></tr>\n",
       "</tbody>\n",
       "</table>\n"
      ],
      "text/latex": [
       "A data.frame: 6 × 53\n",
       "\\begin{tabular}{r|lllllllllllllllllllll}\n",
       "  & mapped\\_reference\\_assembly & mapped\\_reference\\_annotation & alignment\\_software & donor\\_id & donor\\_age & self\\_reported\\_ethnicity\\_ontology\\_term\\_id & donor\\_cause\\_of\\_death & donor\\_living\\_at\\_sample\\_collection & organism\\_ontology\\_term\\_id & sample\\_uuid & ⋯ & study\\_name & cell\\_type & assay & disease & organism & sex & tissue & self\\_reported\\_ethnicity & development\\_stage & observation\\_joinid\\\\\n",
       "  & <fct> & <fct> & <fct> & <fct> & <fct> & <fct> & <fct> & <fct> & <fct> & <fct> & ⋯ & <fct> & <fct> & <fct> & <fct> & <fct> & <fct> & <fct> & <fct> & <fct> & <chr>\\\\\n",
       "\\hline\n",
       "\tGSM4081524\\_AAACGCTTCTTGGTCC-1 & GRCh38 & GENCODE 32 & Cell Ranger count v7.0.1 & donor1-hafler & 68 years & unknown & unknown & False & NCBITaxon:9606 & 401d4ed4-429c-4f95-a4e4-5a977b1e2467 & ⋯ & Hafler\\_GSE137537 & retinal rod cell & 10x 3' v3 & normal & Homo sapiens & male & macula lutea proper & unknown & 68-year-old stage & KqwuU>o<rt\\\\\n",
       "\tGSM4081524\\_AAAGGTACAATTGAGA-1 & GRCh38 & GENCODE 32 & Cell Ranger count v7.0.1 & donor1-hafler & 68 years & unknown & unknown & False & NCBITaxon:9606 & 401d4ed4-429c-4f95-a4e4-5a977b1e2467 & ⋯ & Hafler\\_GSE137537 & Mueller cell     & 10x 3' v3 & normal & Homo sapiens & male & macula lutea proper & unknown & 68-year-old stage & a\\textasciicircum{}t-wQOE+\\textasciitilde{}\\\\\n",
       "\tGSM4081524\\_AAAGGTAGTGTTATCG-1 & GRCh38 & GENCODE 32 & Cell Ranger count v7.0.1 & donor1-hafler & 68 years & unknown & unknown & False & NCBITaxon:9606 & 401d4ed4-429c-4f95-a4e4-5a977b1e2467 & ⋯ & Hafler\\_GSE137537 & Mueller cell     & 10x 3' v3 & normal & Homo sapiens & male & macula lutea proper & unknown & 68-year-old stage & n\\}J\\textasciitilde{}!?\\#b-G\\\\\n",
       "\tGSM4081524\\_AAAGTCCCAACCCGCA-1 & GRCh38 & GENCODE 32 & Cell Ranger count v7.0.1 & donor1-hafler & 68 years & unknown & unknown & False & NCBITaxon:9606 & 401d4ed4-429c-4f95-a4e4-5a977b1e2467 & ⋯ & Hafler\\_GSE137537 & retinal rod cell & 10x 3' v3 & normal & Homo sapiens & male & macula lutea proper & unknown & 68-year-old stage & G!j\\$e!\\textbar{}\\{28\\\\\n",
       "\tGSM4081524\\_AAAGTCCCATTAGGCT-1 & GRCh38 & GENCODE 32 & Cell Ranger count v7.0.1 & donor1-hafler & 68 years & unknown & unknown & False & NCBITaxon:9606 & 401d4ed4-429c-4f95-a4e4-5a977b1e2467 & ⋯ & Hafler\\_GSE137537 & Mueller cell     & 10x 3' v3 & normal & Homo sapiens & male & macula lutea proper & unknown & 68-year-old stage & pLj\\{EG*MKb\\\\\n",
       "\tGSM4081524\\_AAATGGATCTTCTGGC-1 & GRCh38 & GENCODE 32 & Cell Ranger count v7.0.1 & donor1-hafler & 68 years & unknown & unknown & False & NCBITaxon:9606 & 401d4ed4-429c-4f95-a4e4-5a977b1e2467 & ⋯ & Hafler\\_GSE137537 & Mueller cell     & 10x 3' v3 & normal & Homo sapiens & male & macula lutea proper & unknown & 68-year-old stage & pjcfi*bc\\{I\\\\\n",
       "\\end{tabular}\n"
      ],
      "text/markdown": [
       "\n",
       "A data.frame: 6 × 53\n",
       "\n",
       "| <!--/--> | mapped_reference_assembly &lt;fct&gt; | mapped_reference_annotation &lt;fct&gt; | alignment_software &lt;fct&gt; | donor_id &lt;fct&gt; | donor_age &lt;fct&gt; | self_reported_ethnicity_ontology_term_id &lt;fct&gt; | donor_cause_of_death &lt;fct&gt; | donor_living_at_sample_collection &lt;fct&gt; | organism_ontology_term_id &lt;fct&gt; | sample_uuid &lt;fct&gt; | ⋯ ⋯ | study_name &lt;fct&gt; | cell_type &lt;fct&gt; | assay &lt;fct&gt; | disease &lt;fct&gt; | organism &lt;fct&gt; | sex &lt;fct&gt; | tissue &lt;fct&gt; | self_reported_ethnicity &lt;fct&gt; | development_stage &lt;fct&gt; | observation_joinid &lt;chr&gt; |\n",
       "|---|---|---|---|---|---|---|---|---|---|---|---|---|---|---|---|---|---|---|---|---|---|\n",
       "| GSM4081524_AAACGCTTCTTGGTCC-1 | GRCh38 | GENCODE 32 | Cell Ranger count v7.0.1 | donor1-hafler | 68 years | unknown | unknown | False | NCBITaxon:9606 | 401d4ed4-429c-4f95-a4e4-5a977b1e2467 | ⋯ | Hafler_GSE137537 | retinal rod cell | 10x 3' v3 | normal | Homo sapiens | male | macula lutea proper | unknown | 68-year-old stage | KqwuU&gt;o&lt;rt |\n",
       "| GSM4081524_AAAGGTACAATTGAGA-1 | GRCh38 | GENCODE 32 | Cell Ranger count v7.0.1 | donor1-hafler | 68 years | unknown | unknown | False | NCBITaxon:9606 | 401d4ed4-429c-4f95-a4e4-5a977b1e2467 | ⋯ | Hafler_GSE137537 | Mueller cell     | 10x 3' v3 | normal | Homo sapiens | male | macula lutea proper | unknown | 68-year-old stage | a^t-wQOE+~ |\n",
       "| GSM4081524_AAAGGTAGTGTTATCG-1 | GRCh38 | GENCODE 32 | Cell Ranger count v7.0.1 | donor1-hafler | 68 years | unknown | unknown | False | NCBITaxon:9606 | 401d4ed4-429c-4f95-a4e4-5a977b1e2467 | ⋯ | Hafler_GSE137537 | Mueller cell     | 10x 3' v3 | normal | Homo sapiens | male | macula lutea proper | unknown | 68-year-old stage | n}J~!?#b-G |\n",
       "| GSM4081524_AAAGTCCCAACCCGCA-1 | GRCh38 | GENCODE 32 | Cell Ranger count v7.0.1 | donor1-hafler | 68 years | unknown | unknown | False | NCBITaxon:9606 | 401d4ed4-429c-4f95-a4e4-5a977b1e2467 | ⋯ | Hafler_GSE137537 | retinal rod cell | 10x 3' v3 | normal | Homo sapiens | male | macula lutea proper | unknown | 68-year-old stage | G!j$e!|{28 |\n",
       "| GSM4081524_AAAGTCCCATTAGGCT-1 | GRCh38 | GENCODE 32 | Cell Ranger count v7.0.1 | donor1-hafler | 68 years | unknown | unknown | False | NCBITaxon:9606 | 401d4ed4-429c-4f95-a4e4-5a977b1e2467 | ⋯ | Hafler_GSE137537 | Mueller cell     | 10x 3' v3 | normal | Homo sapiens | male | macula lutea proper | unknown | 68-year-old stage | pLj{EG*MKb |\n",
       "| GSM4081524_AAATGGATCTTCTGGC-1 | GRCh38 | GENCODE 32 | Cell Ranger count v7.0.1 | donor1-hafler | 68 years | unknown | unknown | False | NCBITaxon:9606 | 401d4ed4-429c-4f95-a4e4-5a977b1e2467 | ⋯ | Hafler_GSE137537 | Mueller cell     | 10x 3' v3 | normal | Homo sapiens | male | macula lutea proper | unknown | 68-year-old stage | pjcfi*bc{I |\n",
       "\n"
      ],
      "text/plain": [
       "                              mapped_reference_assembly\n",
       "GSM4081524_AAACGCTTCTTGGTCC-1 GRCh38                   \n",
       "GSM4081524_AAAGGTACAATTGAGA-1 GRCh38                   \n",
       "GSM4081524_AAAGGTAGTGTTATCG-1 GRCh38                   \n",
       "GSM4081524_AAAGTCCCAACCCGCA-1 GRCh38                   \n",
       "GSM4081524_AAAGTCCCATTAGGCT-1 GRCh38                   \n",
       "GSM4081524_AAATGGATCTTCTGGC-1 GRCh38                   \n",
       "                              mapped_reference_annotation\n",
       "GSM4081524_AAACGCTTCTTGGTCC-1 GENCODE 32                 \n",
       "GSM4081524_AAAGGTACAATTGAGA-1 GENCODE 32                 \n",
       "GSM4081524_AAAGGTAGTGTTATCG-1 GENCODE 32                 \n",
       "GSM4081524_AAAGTCCCAACCCGCA-1 GENCODE 32                 \n",
       "GSM4081524_AAAGTCCCATTAGGCT-1 GENCODE 32                 \n",
       "GSM4081524_AAATGGATCTTCTGGC-1 GENCODE 32                 \n",
       "                              alignment_software       donor_id      donor_age\n",
       "GSM4081524_AAACGCTTCTTGGTCC-1 Cell Ranger count v7.0.1 donor1-hafler 68 years \n",
       "GSM4081524_AAAGGTACAATTGAGA-1 Cell Ranger count v7.0.1 donor1-hafler 68 years \n",
       "GSM4081524_AAAGGTAGTGTTATCG-1 Cell Ranger count v7.0.1 donor1-hafler 68 years \n",
       "GSM4081524_AAAGTCCCAACCCGCA-1 Cell Ranger count v7.0.1 donor1-hafler 68 years \n",
       "GSM4081524_AAAGTCCCATTAGGCT-1 Cell Ranger count v7.0.1 donor1-hafler 68 years \n",
       "GSM4081524_AAATGGATCTTCTGGC-1 Cell Ranger count v7.0.1 donor1-hafler 68 years \n",
       "                              self_reported_ethnicity_ontology_term_id\n",
       "GSM4081524_AAACGCTTCTTGGTCC-1 unknown                                 \n",
       "GSM4081524_AAAGGTACAATTGAGA-1 unknown                                 \n",
       "GSM4081524_AAAGGTAGTGTTATCG-1 unknown                                 \n",
       "GSM4081524_AAAGTCCCAACCCGCA-1 unknown                                 \n",
       "GSM4081524_AAAGTCCCATTAGGCT-1 unknown                                 \n",
       "GSM4081524_AAATGGATCTTCTGGC-1 unknown                                 \n",
       "                              donor_cause_of_death\n",
       "GSM4081524_AAACGCTTCTTGGTCC-1 unknown             \n",
       "GSM4081524_AAAGGTACAATTGAGA-1 unknown             \n",
       "GSM4081524_AAAGGTAGTGTTATCG-1 unknown             \n",
       "GSM4081524_AAAGTCCCAACCCGCA-1 unknown             \n",
       "GSM4081524_AAAGTCCCATTAGGCT-1 unknown             \n",
       "GSM4081524_AAATGGATCTTCTGGC-1 unknown             \n",
       "                              donor_living_at_sample_collection\n",
       "GSM4081524_AAACGCTTCTTGGTCC-1 False                            \n",
       "GSM4081524_AAAGGTACAATTGAGA-1 False                            \n",
       "GSM4081524_AAAGGTAGTGTTATCG-1 False                            \n",
       "GSM4081524_AAAGTCCCAACCCGCA-1 False                            \n",
       "GSM4081524_AAAGTCCCATTAGGCT-1 False                            \n",
       "GSM4081524_AAATGGATCTTCTGGC-1 False                            \n",
       "                              organism_ontology_term_id\n",
       "GSM4081524_AAACGCTTCTTGGTCC-1 NCBITaxon:9606           \n",
       "GSM4081524_AAAGGTACAATTGAGA-1 NCBITaxon:9606           \n",
       "GSM4081524_AAAGGTAGTGTTATCG-1 NCBITaxon:9606           \n",
       "GSM4081524_AAAGTCCCAACCCGCA-1 NCBITaxon:9606           \n",
       "GSM4081524_AAAGTCCCATTAGGCT-1 NCBITaxon:9606           \n",
       "GSM4081524_AAATGGATCTTCTGGC-1 NCBITaxon:9606           \n",
       "                              sample_uuid                          ⋯\n",
       "GSM4081524_AAACGCTTCTTGGTCC-1 401d4ed4-429c-4f95-a4e4-5a977b1e2467 ⋯\n",
       "GSM4081524_AAAGGTACAATTGAGA-1 401d4ed4-429c-4f95-a4e4-5a977b1e2467 ⋯\n",
       "GSM4081524_AAAGGTAGTGTTATCG-1 401d4ed4-429c-4f95-a4e4-5a977b1e2467 ⋯\n",
       "GSM4081524_AAAGTCCCAACCCGCA-1 401d4ed4-429c-4f95-a4e4-5a977b1e2467 ⋯\n",
       "GSM4081524_AAAGTCCCATTAGGCT-1 401d4ed4-429c-4f95-a4e4-5a977b1e2467 ⋯\n",
       "GSM4081524_AAATGGATCTTCTGGC-1 401d4ed4-429c-4f95-a4e4-5a977b1e2467 ⋯\n",
       "                              study_name       cell_type        assay    \n",
       "GSM4081524_AAACGCTTCTTGGTCC-1 Hafler_GSE137537 retinal rod cell 10x 3' v3\n",
       "GSM4081524_AAAGGTACAATTGAGA-1 Hafler_GSE137537 Mueller cell     10x 3' v3\n",
       "GSM4081524_AAAGGTAGTGTTATCG-1 Hafler_GSE137537 Mueller cell     10x 3' v3\n",
       "GSM4081524_AAAGTCCCAACCCGCA-1 Hafler_GSE137537 retinal rod cell 10x 3' v3\n",
       "GSM4081524_AAAGTCCCATTAGGCT-1 Hafler_GSE137537 Mueller cell     10x 3' v3\n",
       "GSM4081524_AAATGGATCTTCTGGC-1 Hafler_GSE137537 Mueller cell     10x 3' v3\n",
       "                              disease organism     sex  tissue             \n",
       "GSM4081524_AAACGCTTCTTGGTCC-1 normal  Homo sapiens male macula lutea proper\n",
       "GSM4081524_AAAGGTACAATTGAGA-1 normal  Homo sapiens male macula lutea proper\n",
       "GSM4081524_AAAGGTAGTGTTATCG-1 normal  Homo sapiens male macula lutea proper\n",
       "GSM4081524_AAAGTCCCAACCCGCA-1 normal  Homo sapiens male macula lutea proper\n",
       "GSM4081524_AAAGTCCCATTAGGCT-1 normal  Homo sapiens male macula lutea proper\n",
       "GSM4081524_AAATGGATCTTCTGGC-1 normal  Homo sapiens male macula lutea proper\n",
       "                              self_reported_ethnicity development_stage\n",
       "GSM4081524_AAACGCTTCTTGGTCC-1 unknown                 68-year-old stage\n",
       "GSM4081524_AAAGGTACAATTGAGA-1 unknown                 68-year-old stage\n",
       "GSM4081524_AAAGGTAGTGTTATCG-1 unknown                 68-year-old stage\n",
       "GSM4081524_AAAGTCCCAACCCGCA-1 unknown                 68-year-old stage\n",
       "GSM4081524_AAAGTCCCATTAGGCT-1 unknown                 68-year-old stage\n",
       "GSM4081524_AAATGGATCTTCTGGC-1 unknown                 68-year-old stage\n",
       "                              observation_joinid\n",
       "GSM4081524_AAACGCTTCTTGGTCC-1 KqwuU>o<rt        \n",
       "GSM4081524_AAAGGTACAATTGAGA-1 a^t-wQOE+~        \n",
       "GSM4081524_AAAGGTAGTGTTATCG-1 n}J~!?#b-G        \n",
       "GSM4081524_AAAGTCCCAACCCGCA-1 G!j$e!|{28        \n",
       "GSM4081524_AAAGTCCCATTAGGCT-1 pLj{EG*MKb        \n",
       "GSM4081524_AAATGGATCTTCTGGC-1 pjcfi*bc{I        "
      ]
     },
     "metadata": {},
     "output_type": "display_data"
    }
   ],
   "source": [
    "head(obj@meta.data)"
   ]
  },
  {
   "cell_type": "code",
   "execution_count": 7,
   "id": "ff465fa1",
   "metadata": {},
   "outputs": [
    {
     "name": "stderr",
     "output_type": "stream",
     "text": [
      "Validating object structure\n",
      "\n",
      "Updating object slots\n",
      "\n",
      "Ensuring keys are in the proper structure\n",
      "\n",
      "Updating matrix keys for DimReduc ‘scVI’\n",
      "\n",
      "Updating matrix keys for DimReduc ‘umap’\n",
      "\n",
      "Ensuring keys are in the proper structure\n",
      "\n",
      "Ensuring feature names don't have underscores or pipes\n",
      "\n",
      "Updating slots in RNA\n",
      "\n",
      "Updating slots in scVI\n",
      "\n",
      "Updating slots in umap\n",
      "\n",
      "Setting umap DimReduc to global\n",
      "\n",
      "Validating object structure for Assay ‘RNA’\n",
      "\n",
      "Validating object structure for DimReduc ‘scVI’\n",
      "\n",
      "Validating object structure for DimReduc ‘umap’\n",
      "\n",
      "Object representation is consistent with the most current Seurat version\n",
      "\n"
     ]
    }
   ],
   "source": [
    "obj <- UpdateSeuratObject(obj)"
   ]
  },
  {
   "cell_type": "code",
   "execution_count": 8,
   "id": "0d95b6cc",
   "metadata": {},
   "outputs": [],
   "source": [
    "saveRDS(obj, 'Hsap.eye.rds')"
   ]
  },
  {
   "cell_type": "code",
   "execution_count": null,
   "id": "9dc6b42b",
   "metadata": {},
   "outputs": [],
   "source": []
  }
 ],
 "metadata": {
  "kernelspec": {
   "display_name": "R [conda env:sc]",
   "language": "R",
   "name": "conda-env-sc-r"
  },
  "language_info": {
   "codemirror_mode": "r",
   "file_extension": ".r",
   "mimetype": "text/x-r-source",
   "name": "R",
   "pygments_lexer": "r",
   "version": "4.3.2"
  }
 },
 "nbformat": 4,
 "nbformat_minor": 5
}
